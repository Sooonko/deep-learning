{
  "nbformat": 4,
  "nbformat_minor": 0,
  "metadata": {
    "colab": {
      "name": "DLUB21 Transformers Seq-Classification in Mongolian tutorial.ipynb",
      "provenance": [],
      "collapsed_sections": []
    },
    "kernelspec": {
      "name": "python3",
      "display_name": "Python 3"
    },
    "language_info": {
      "name": "python"
    },
    "widgets": {
      "application/vnd.jupyter.widget-state+json": {
        "3f46e58fe36b4cad89a34237f02e71d3": {
          "model_module": "@jupyter-widgets/controls",
          "model_name": "HBoxModel",
          "state": {
            "_view_name": "HBoxView",
            "_dom_classes": [],
            "_model_name": "HBoxModel",
            "_view_module": "@jupyter-widgets/controls",
            "_model_module_version": "1.5.0",
            "_view_count": null,
            "_view_module_version": "1.5.0",
            "box_style": "",
            "layout": "IPY_MODEL_375b32045c4848d09b18c2dd86008394",
            "_model_module": "@jupyter-widgets/controls",
            "children": [
              "IPY_MODEL_a12fdba142be4cbdbb74596a3993a808",
              "IPY_MODEL_db4c7512fa95438ab5f8ac800f5167fd"
            ]
          }
        },
        "375b32045c4848d09b18c2dd86008394": {
          "model_module": "@jupyter-widgets/base",
          "model_name": "LayoutModel",
          "state": {
            "_view_name": "LayoutView",
            "grid_template_rows": null,
            "right": null,
            "justify_content": null,
            "_view_module": "@jupyter-widgets/base",
            "overflow": null,
            "_model_module_version": "1.2.0",
            "_view_count": null,
            "flex_flow": null,
            "width": null,
            "min_width": null,
            "border": null,
            "align_items": null,
            "bottom": null,
            "_model_module": "@jupyter-widgets/base",
            "top": null,
            "grid_column": null,
            "overflow_y": null,
            "overflow_x": null,
            "grid_auto_flow": null,
            "grid_area": null,
            "grid_template_columns": null,
            "flex": null,
            "_model_name": "LayoutModel",
            "justify_items": null,
            "grid_row": null,
            "max_height": null,
            "align_content": null,
            "visibility": null,
            "align_self": null,
            "height": null,
            "min_height": null,
            "padding": null,
            "grid_auto_rows": null,
            "grid_gap": null,
            "max_width": null,
            "order": null,
            "_view_module_version": "1.2.0",
            "grid_template_areas": null,
            "object_position": null,
            "object_fit": null,
            "grid_auto_columns": null,
            "margin": null,
            "display": null,
            "left": null
          }
        },
        "a12fdba142be4cbdbb74596a3993a808": {
          "model_module": "@jupyter-widgets/controls",
          "model_name": "FloatProgressModel",
          "state": {
            "_view_name": "ProgressView",
            "style": "IPY_MODEL_e6beaf3e21cd4373ad1c178cafd5cd42",
            "_dom_classes": [],
            "description": "Downloading: 100%",
            "_model_name": "FloatProgressModel",
            "bar_style": "success",
            "max": 508,
            "_view_module": "@jupyter-widgets/controls",
            "_model_module_version": "1.5.0",
            "value": 508,
            "_view_count": null,
            "_view_module_version": "1.5.0",
            "orientation": "horizontal",
            "min": 0,
            "description_tooltip": null,
            "_model_module": "@jupyter-widgets/controls",
            "layout": "IPY_MODEL_78cfcdcde1764e18b9f26328b7e69a73"
          }
        },
        "db4c7512fa95438ab5f8ac800f5167fd": {
          "model_module": "@jupyter-widgets/controls",
          "model_name": "HTMLModel",
          "state": {
            "_view_name": "HTMLView",
            "style": "IPY_MODEL_ed090a903efa438eb144b293665dd580",
            "_dom_classes": [],
            "description": "",
            "_model_name": "HTMLModel",
            "placeholder": "​",
            "_view_module": "@jupyter-widgets/controls",
            "_model_module_version": "1.5.0",
            "value": " 508/508 [00:00&lt;00:00, 569B/s]",
            "_view_count": null,
            "_view_module_version": "1.5.0",
            "description_tooltip": null,
            "_model_module": "@jupyter-widgets/controls",
            "layout": "IPY_MODEL_6ae3eb92d9794b2486091bb73538e646"
          }
        },
        "e6beaf3e21cd4373ad1c178cafd5cd42": {
          "model_module": "@jupyter-widgets/controls",
          "model_name": "ProgressStyleModel",
          "state": {
            "_view_name": "StyleView",
            "_model_name": "ProgressStyleModel",
            "description_width": "initial",
            "_view_module": "@jupyter-widgets/base",
            "_model_module_version": "1.5.0",
            "_view_count": null,
            "_view_module_version": "1.2.0",
            "bar_color": null,
            "_model_module": "@jupyter-widgets/controls"
          }
        },
        "78cfcdcde1764e18b9f26328b7e69a73": {
          "model_module": "@jupyter-widgets/base",
          "model_name": "LayoutModel",
          "state": {
            "_view_name": "LayoutView",
            "grid_template_rows": null,
            "right": null,
            "justify_content": null,
            "_view_module": "@jupyter-widgets/base",
            "overflow": null,
            "_model_module_version": "1.2.0",
            "_view_count": null,
            "flex_flow": null,
            "width": null,
            "min_width": null,
            "border": null,
            "align_items": null,
            "bottom": null,
            "_model_module": "@jupyter-widgets/base",
            "top": null,
            "grid_column": null,
            "overflow_y": null,
            "overflow_x": null,
            "grid_auto_flow": null,
            "grid_area": null,
            "grid_template_columns": null,
            "flex": null,
            "_model_name": "LayoutModel",
            "justify_items": null,
            "grid_row": null,
            "max_height": null,
            "align_content": null,
            "visibility": null,
            "align_self": null,
            "height": null,
            "min_height": null,
            "padding": null,
            "grid_auto_rows": null,
            "grid_gap": null,
            "max_width": null,
            "order": null,
            "_view_module_version": "1.2.0",
            "grid_template_areas": null,
            "object_position": null,
            "object_fit": null,
            "grid_auto_columns": null,
            "margin": null,
            "display": null,
            "left": null
          }
        },
        "ed090a903efa438eb144b293665dd580": {
          "model_module": "@jupyter-widgets/controls",
          "model_name": "DescriptionStyleModel",
          "state": {
            "_view_name": "StyleView",
            "_model_name": "DescriptionStyleModel",
            "description_width": "",
            "_view_module": "@jupyter-widgets/base",
            "_model_module_version": "1.5.0",
            "_view_count": null,
            "_view_module_version": "1.2.0",
            "_model_module": "@jupyter-widgets/controls"
          }
        },
        "6ae3eb92d9794b2486091bb73538e646": {
          "model_module": "@jupyter-widgets/base",
          "model_name": "LayoutModel",
          "state": {
            "_view_name": "LayoutView",
            "grid_template_rows": null,
            "right": null,
            "justify_content": null,
            "_view_module": "@jupyter-widgets/base",
            "overflow": null,
            "_model_module_version": "1.2.0",
            "_view_count": null,
            "flex_flow": null,
            "width": null,
            "min_width": null,
            "border": null,
            "align_items": null,
            "bottom": null,
            "_model_module": "@jupyter-widgets/base",
            "top": null,
            "grid_column": null,
            "overflow_y": null,
            "overflow_x": null,
            "grid_auto_flow": null,
            "grid_area": null,
            "grid_template_columns": null,
            "flex": null,
            "_model_name": "LayoutModel",
            "justify_items": null,
            "grid_row": null,
            "max_height": null,
            "align_content": null,
            "visibility": null,
            "align_self": null,
            "height": null,
            "min_height": null,
            "padding": null,
            "grid_auto_rows": null,
            "grid_gap": null,
            "max_width": null,
            "order": null,
            "_view_module_version": "1.2.0",
            "grid_template_areas": null,
            "object_position": null,
            "object_fit": null,
            "grid_auto_columns": null,
            "margin": null,
            "display": null,
            "left": null
          }
        },
        "9cc3a73644df4d37ab41d8f471e115ff": {
          "model_module": "@jupyter-widgets/controls",
          "model_name": "HBoxModel",
          "state": {
            "_view_name": "HBoxView",
            "_dom_classes": [],
            "_model_name": "HBoxModel",
            "_view_module": "@jupyter-widgets/controls",
            "_model_module_version": "1.5.0",
            "_view_count": null,
            "_view_module_version": "1.5.0",
            "box_style": "",
            "layout": "IPY_MODEL_204f1e37fd54415f9891635968995cfd",
            "_model_module": "@jupyter-widgets/controls",
            "children": [
              "IPY_MODEL_9ca5e7868df54a96aa2bf9074f4a4297",
              "IPY_MODEL_a45a03c430e04bbfa7bb1be8021cbd9c"
            ]
          }
        },
        "204f1e37fd54415f9891635968995cfd": {
          "model_module": "@jupyter-widgets/base",
          "model_name": "LayoutModel",
          "state": {
            "_view_name": "LayoutView",
            "grid_template_rows": null,
            "right": null,
            "justify_content": null,
            "_view_module": "@jupyter-widgets/base",
            "overflow": null,
            "_model_module_version": "1.2.0",
            "_view_count": null,
            "flex_flow": null,
            "width": null,
            "min_width": null,
            "border": null,
            "align_items": null,
            "bottom": null,
            "_model_module": "@jupyter-widgets/base",
            "top": null,
            "grid_column": null,
            "overflow_y": null,
            "overflow_x": null,
            "grid_auto_flow": null,
            "grid_area": null,
            "grid_template_columns": null,
            "flex": null,
            "_model_name": "LayoutModel",
            "justify_items": null,
            "grid_row": null,
            "max_height": null,
            "align_content": null,
            "visibility": null,
            "align_self": null,
            "height": null,
            "min_height": null,
            "padding": null,
            "grid_auto_rows": null,
            "grid_gap": null,
            "max_width": null,
            "order": null,
            "_view_module_version": "1.2.0",
            "grid_template_areas": null,
            "object_position": null,
            "object_fit": null,
            "grid_auto_columns": null,
            "margin": null,
            "display": null,
            "left": null
          }
        },
        "9ca5e7868df54a96aa2bf9074f4a4297": {
          "model_module": "@jupyter-widgets/controls",
          "model_name": "FloatProgressModel",
          "state": {
            "_view_name": "ProgressView",
            "style": "IPY_MODEL_9b2aa82b133e41a4805b75f6e81ec187",
            "_dom_classes": [],
            "description": "Downloading: 100%",
            "_model_name": "FloatProgressModel",
            "bar_style": "success",
            "max": 1007226,
            "_view_module": "@jupyter-widgets/controls",
            "_model_module_version": "1.5.0",
            "value": 1007226,
            "_view_count": null,
            "_view_module_version": "1.5.0",
            "orientation": "horizontal",
            "min": 0,
            "description_tooltip": null,
            "_model_module": "@jupyter-widgets/controls",
            "layout": "IPY_MODEL_06a9b5aab60b428a898e3b6187facb70"
          }
        },
        "a45a03c430e04bbfa7bb1be8021cbd9c": {
          "model_module": "@jupyter-widgets/controls",
          "model_name": "HTMLModel",
          "state": {
            "_view_name": "HTMLView",
            "style": "IPY_MODEL_cd6ccc3f229b4fe48efc29619d6948a3",
            "_dom_classes": [],
            "description": "",
            "_model_name": "HTMLModel",
            "placeholder": "​",
            "_view_module": "@jupyter-widgets/controls",
            "_model_module_version": "1.5.0",
            "value": " 1.01M/1.01M [00:02&lt;00:00, 378kB/s]",
            "_view_count": null,
            "_view_module_version": "1.5.0",
            "description_tooltip": null,
            "_model_module": "@jupyter-widgets/controls",
            "layout": "IPY_MODEL_1fc917543f7349108a0c4fb1a34d4db4"
          }
        },
        "9b2aa82b133e41a4805b75f6e81ec187": {
          "model_module": "@jupyter-widgets/controls",
          "model_name": "ProgressStyleModel",
          "state": {
            "_view_name": "StyleView",
            "_model_name": "ProgressStyleModel",
            "description_width": "initial",
            "_view_module": "@jupyter-widgets/base",
            "_model_module_version": "1.5.0",
            "_view_count": null,
            "_view_module_version": "1.2.0",
            "bar_color": null,
            "_model_module": "@jupyter-widgets/controls"
          }
        },
        "06a9b5aab60b428a898e3b6187facb70": {
          "model_module": "@jupyter-widgets/base",
          "model_name": "LayoutModel",
          "state": {
            "_view_name": "LayoutView",
            "grid_template_rows": null,
            "right": null,
            "justify_content": null,
            "_view_module": "@jupyter-widgets/base",
            "overflow": null,
            "_model_module_version": "1.2.0",
            "_view_count": null,
            "flex_flow": null,
            "width": null,
            "min_width": null,
            "border": null,
            "align_items": null,
            "bottom": null,
            "_model_module": "@jupyter-widgets/base",
            "top": null,
            "grid_column": null,
            "overflow_y": null,
            "overflow_x": null,
            "grid_auto_flow": null,
            "grid_area": null,
            "grid_template_columns": null,
            "flex": null,
            "_model_name": "LayoutModel",
            "justify_items": null,
            "grid_row": null,
            "max_height": null,
            "align_content": null,
            "visibility": null,
            "align_self": null,
            "height": null,
            "min_height": null,
            "padding": null,
            "grid_auto_rows": null,
            "grid_gap": null,
            "max_width": null,
            "order": null,
            "_view_module_version": "1.2.0",
            "grid_template_areas": null,
            "object_position": null,
            "object_fit": null,
            "grid_auto_columns": null,
            "margin": null,
            "display": null,
            "left": null
          }
        },
        "cd6ccc3f229b4fe48efc29619d6948a3": {
          "model_module": "@jupyter-widgets/controls",
          "model_name": "DescriptionStyleModel",
          "state": {
            "_view_name": "StyleView",
            "_model_name": "DescriptionStyleModel",
            "description_width": "",
            "_view_module": "@jupyter-widgets/base",
            "_model_module_version": "1.5.0",
            "_view_count": null,
            "_view_module_version": "1.2.0",
            "_model_module": "@jupyter-widgets/controls"
          }
        },
        "1fc917543f7349108a0c4fb1a34d4db4": {
          "model_module": "@jupyter-widgets/base",
          "model_name": "LayoutModel",
          "state": {
            "_view_name": "LayoutView",
            "grid_template_rows": null,
            "right": null,
            "justify_content": null,
            "_view_module": "@jupyter-widgets/base",
            "overflow": null,
            "_model_module_version": "1.2.0",
            "_view_count": null,
            "flex_flow": null,
            "width": null,
            "min_width": null,
            "border": null,
            "align_items": null,
            "bottom": null,
            "_model_module": "@jupyter-widgets/base",
            "top": null,
            "grid_column": null,
            "overflow_y": null,
            "overflow_x": null,
            "grid_auto_flow": null,
            "grid_area": null,
            "grid_template_columns": null,
            "flex": null,
            "_model_name": "LayoutModel",
            "justify_items": null,
            "grid_row": null,
            "max_height": null,
            "align_content": null,
            "visibility": null,
            "align_self": null,
            "height": null,
            "min_height": null,
            "padding": null,
            "grid_auto_rows": null,
            "grid_gap": null,
            "max_width": null,
            "order": null,
            "_view_module_version": "1.2.0",
            "grid_template_areas": null,
            "object_position": null,
            "object_fit": null,
            "grid_auto_columns": null,
            "margin": null,
            "display": null,
            "left": null
          }
        },
        "6730b25f2ecf415390c733106333eb48": {
          "model_module": "@jupyter-widgets/controls",
          "model_name": "HBoxModel",
          "state": {
            "_view_name": "HBoxView",
            "_dom_classes": [],
            "_model_name": "HBoxModel",
            "_view_module": "@jupyter-widgets/controls",
            "_model_module_version": "1.5.0",
            "_view_count": null,
            "_view_module_version": "1.5.0",
            "box_style": "",
            "layout": "IPY_MODEL_27413c9cae63496ca09b1e5bddcd706e",
            "_model_module": "@jupyter-widgets/controls",
            "children": [
              "IPY_MODEL_0063b321822e402d88463a7a71487523",
              "IPY_MODEL_7b75e74f6cb142b8b18ee7e18aea5014"
            ]
          }
        },
        "27413c9cae63496ca09b1e5bddcd706e": {
          "model_module": "@jupyter-widgets/base",
          "model_name": "LayoutModel",
          "state": {
            "_view_name": "LayoutView",
            "grid_template_rows": null,
            "right": null,
            "justify_content": null,
            "_view_module": "@jupyter-widgets/base",
            "overflow": null,
            "_model_module_version": "1.2.0",
            "_view_count": null,
            "flex_flow": null,
            "width": null,
            "min_width": null,
            "border": null,
            "align_items": null,
            "bottom": null,
            "_model_module": "@jupyter-widgets/base",
            "top": null,
            "grid_column": null,
            "overflow_y": null,
            "overflow_x": null,
            "grid_auto_flow": null,
            "grid_area": null,
            "grid_template_columns": null,
            "flex": null,
            "_model_name": "LayoutModel",
            "justify_items": null,
            "grid_row": null,
            "max_height": null,
            "align_content": null,
            "visibility": null,
            "align_self": null,
            "height": null,
            "min_height": null,
            "padding": null,
            "grid_auto_rows": null,
            "grid_gap": null,
            "max_width": null,
            "order": null,
            "_view_module_version": "1.2.0",
            "grid_template_areas": null,
            "object_position": null,
            "object_fit": null,
            "grid_auto_columns": null,
            "margin": null,
            "display": null,
            "left": null
          }
        },
        "0063b321822e402d88463a7a71487523": {
          "model_module": "@jupyter-widgets/controls",
          "model_name": "FloatProgressModel",
          "state": {
            "_view_name": "ProgressView",
            "style": "IPY_MODEL_6f427f0dcef0450b94641e82d21b0bce",
            "_dom_classes": [],
            "description": "Downloading: 100%",
            "_model_name": "FloatProgressModel",
            "bar_style": "success",
            "max": 16,
            "_view_module": "@jupyter-widgets/controls",
            "_model_module_version": "1.5.0",
            "value": 16,
            "_view_count": null,
            "_view_module_version": "1.5.0",
            "orientation": "horizontal",
            "min": 0,
            "description_tooltip": null,
            "_model_module": "@jupyter-widgets/controls",
            "layout": "IPY_MODEL_0f4cd8a439ac43c2b8b7b8aca1bbf7c6"
          }
        },
        "7b75e74f6cb142b8b18ee7e18aea5014": {
          "model_module": "@jupyter-widgets/controls",
          "model_name": "HTMLModel",
          "state": {
            "_view_name": "HTMLView",
            "style": "IPY_MODEL_6f8e065a32914683bc656e278dd312e7",
            "_dom_classes": [],
            "description": "",
            "_model_name": "HTMLModel",
            "placeholder": "​",
            "_view_module": "@jupyter-widgets/controls",
            "_model_module_version": "1.5.0",
            "value": " 16.0/16.0 [00:01&lt;00:00, 12.5B/s]",
            "_view_count": null,
            "_view_module_version": "1.5.0",
            "description_tooltip": null,
            "_model_module": "@jupyter-widgets/controls",
            "layout": "IPY_MODEL_3753dedeeea047568e9bfcafc6af2ec1"
          }
        },
        "6f427f0dcef0450b94641e82d21b0bce": {
          "model_module": "@jupyter-widgets/controls",
          "model_name": "ProgressStyleModel",
          "state": {
            "_view_name": "StyleView",
            "_model_name": "ProgressStyleModel",
            "description_width": "initial",
            "_view_module": "@jupyter-widgets/base",
            "_model_module_version": "1.5.0",
            "_view_count": null,
            "_view_module_version": "1.2.0",
            "bar_color": null,
            "_model_module": "@jupyter-widgets/controls"
          }
        },
        "0f4cd8a439ac43c2b8b7b8aca1bbf7c6": {
          "model_module": "@jupyter-widgets/base",
          "model_name": "LayoutModel",
          "state": {
            "_view_name": "LayoutView",
            "grid_template_rows": null,
            "right": null,
            "justify_content": null,
            "_view_module": "@jupyter-widgets/base",
            "overflow": null,
            "_model_module_version": "1.2.0",
            "_view_count": null,
            "flex_flow": null,
            "width": null,
            "min_width": null,
            "border": null,
            "align_items": null,
            "bottom": null,
            "_model_module": "@jupyter-widgets/base",
            "top": null,
            "grid_column": null,
            "overflow_y": null,
            "overflow_x": null,
            "grid_auto_flow": null,
            "grid_area": null,
            "grid_template_columns": null,
            "flex": null,
            "_model_name": "LayoutModel",
            "justify_items": null,
            "grid_row": null,
            "max_height": null,
            "align_content": null,
            "visibility": null,
            "align_self": null,
            "height": null,
            "min_height": null,
            "padding": null,
            "grid_auto_rows": null,
            "grid_gap": null,
            "max_width": null,
            "order": null,
            "_view_module_version": "1.2.0",
            "grid_template_areas": null,
            "object_position": null,
            "object_fit": null,
            "grid_auto_columns": null,
            "margin": null,
            "display": null,
            "left": null
          }
        },
        "6f8e065a32914683bc656e278dd312e7": {
          "model_module": "@jupyter-widgets/controls",
          "model_name": "DescriptionStyleModel",
          "state": {
            "_view_name": "StyleView",
            "_model_name": "DescriptionStyleModel",
            "description_width": "",
            "_view_module": "@jupyter-widgets/base",
            "_model_module_version": "1.5.0",
            "_view_count": null,
            "_view_module_version": "1.2.0",
            "_model_module": "@jupyter-widgets/controls"
          }
        },
        "3753dedeeea047568e9bfcafc6af2ec1": {
          "model_module": "@jupyter-widgets/base",
          "model_name": "LayoutModel",
          "state": {
            "_view_name": "LayoutView",
            "grid_template_rows": null,
            "right": null,
            "justify_content": null,
            "_view_module": "@jupyter-widgets/base",
            "overflow": null,
            "_model_module_version": "1.2.0",
            "_view_count": null,
            "flex_flow": null,
            "width": null,
            "min_width": null,
            "border": null,
            "align_items": null,
            "bottom": null,
            "_model_module": "@jupyter-widgets/base",
            "top": null,
            "grid_column": null,
            "overflow_y": null,
            "overflow_x": null,
            "grid_auto_flow": null,
            "grid_area": null,
            "grid_template_columns": null,
            "flex": null,
            "_model_name": "LayoutModel",
            "justify_items": null,
            "grid_row": null,
            "max_height": null,
            "align_content": null,
            "visibility": null,
            "align_self": null,
            "height": null,
            "min_height": null,
            "padding": null,
            "grid_auto_rows": null,
            "grid_gap": null,
            "max_width": null,
            "order": null,
            "_view_module_version": "1.2.0",
            "grid_template_areas": null,
            "object_position": null,
            "object_fit": null,
            "grid_auto_columns": null,
            "margin": null,
            "display": null,
            "left": null
          }
        },
        "2ff3cafcad2245be837fc890ff7118d7": {
          "model_module": "@jupyter-widgets/controls",
          "model_name": "HBoxModel",
          "state": {
            "_view_name": "HBoxView",
            "_dom_classes": [],
            "_model_name": "HBoxModel",
            "_view_module": "@jupyter-widgets/controls",
            "_model_module_version": "1.5.0",
            "_view_count": null,
            "_view_module_version": "1.5.0",
            "box_style": "",
            "layout": "IPY_MODEL_ab09884883854e26b4c42cb148a54356",
            "_model_module": "@jupyter-widgets/controls",
            "children": [
              "IPY_MODEL_e317c09f31d54a379720e9bd60dae1ae",
              "IPY_MODEL_a85b75b132374067a305ee7fdbbec7fb"
            ]
          }
        },
        "ab09884883854e26b4c42cb148a54356": {
          "model_module": "@jupyter-widgets/base",
          "model_name": "LayoutModel",
          "state": {
            "_view_name": "LayoutView",
            "grid_template_rows": null,
            "right": null,
            "justify_content": null,
            "_view_module": "@jupyter-widgets/base",
            "overflow": null,
            "_model_module_version": "1.2.0",
            "_view_count": null,
            "flex_flow": null,
            "width": null,
            "min_width": null,
            "border": null,
            "align_items": null,
            "bottom": null,
            "_model_module": "@jupyter-widgets/base",
            "top": null,
            "grid_column": null,
            "overflow_y": null,
            "overflow_x": null,
            "grid_auto_flow": null,
            "grid_area": null,
            "grid_template_columns": null,
            "flex": null,
            "_model_name": "LayoutModel",
            "justify_items": null,
            "grid_row": null,
            "max_height": null,
            "align_content": null,
            "visibility": null,
            "align_self": null,
            "height": null,
            "min_height": null,
            "padding": null,
            "grid_auto_rows": null,
            "grid_gap": null,
            "max_width": null,
            "order": null,
            "_view_module_version": "1.2.0",
            "grid_template_areas": null,
            "object_position": null,
            "object_fit": null,
            "grid_auto_columns": null,
            "margin": null,
            "display": null,
            "left": null
          }
        },
        "e317c09f31d54a379720e9bd60dae1ae": {
          "model_module": "@jupyter-widgets/controls",
          "model_name": "FloatProgressModel",
          "state": {
            "_view_name": "ProgressView",
            "style": "IPY_MODEL_57937b379fe644d4bb8f545b3a063a8f",
            "_dom_classes": [],
            "description": "Downloading: 100%",
            "_model_name": "FloatProgressModel",
            "bar_style": "success",
            "max": 156,
            "_view_module": "@jupyter-widgets/controls",
            "_model_module_version": "1.5.0",
            "value": 156,
            "_view_count": null,
            "_view_module_version": "1.5.0",
            "orientation": "horizontal",
            "min": 0,
            "description_tooltip": null,
            "_model_module": "@jupyter-widgets/controls",
            "layout": "IPY_MODEL_8e1ee576126347bc9a14689b35f56cc2"
          }
        },
        "a85b75b132374067a305ee7fdbbec7fb": {
          "model_module": "@jupyter-widgets/controls",
          "model_name": "HTMLModel",
          "state": {
            "_view_name": "HTMLView",
            "style": "IPY_MODEL_ac4db0d5a1504b4f80c27d09bc79286f",
            "_dom_classes": [],
            "description": "",
            "_model_name": "HTMLModel",
            "placeholder": "​",
            "_view_module": "@jupyter-widgets/controls",
            "_model_module_version": "1.5.0",
            "value": " 156/156 [00:00&lt;00:00, 241B/s]",
            "_view_count": null,
            "_view_module_version": "1.5.0",
            "description_tooltip": null,
            "_model_module": "@jupyter-widgets/controls",
            "layout": "IPY_MODEL_c522160e52cd4c1e9269de91855d31bd"
          }
        },
        "57937b379fe644d4bb8f545b3a063a8f": {
          "model_module": "@jupyter-widgets/controls",
          "model_name": "ProgressStyleModel",
          "state": {
            "_view_name": "StyleView",
            "_model_name": "ProgressStyleModel",
            "description_width": "initial",
            "_view_module": "@jupyter-widgets/base",
            "_model_module_version": "1.5.0",
            "_view_count": null,
            "_view_module_version": "1.2.0",
            "bar_color": null,
            "_model_module": "@jupyter-widgets/controls"
          }
        },
        "8e1ee576126347bc9a14689b35f56cc2": {
          "model_module": "@jupyter-widgets/base",
          "model_name": "LayoutModel",
          "state": {
            "_view_name": "LayoutView",
            "grid_template_rows": null,
            "right": null,
            "justify_content": null,
            "_view_module": "@jupyter-widgets/base",
            "overflow": null,
            "_model_module_version": "1.2.0",
            "_view_count": null,
            "flex_flow": null,
            "width": null,
            "min_width": null,
            "border": null,
            "align_items": null,
            "bottom": null,
            "_model_module": "@jupyter-widgets/base",
            "top": null,
            "grid_column": null,
            "overflow_y": null,
            "overflow_x": null,
            "grid_auto_flow": null,
            "grid_area": null,
            "grid_template_columns": null,
            "flex": null,
            "_model_name": "LayoutModel",
            "justify_items": null,
            "grid_row": null,
            "max_height": null,
            "align_content": null,
            "visibility": null,
            "align_self": null,
            "height": null,
            "min_height": null,
            "padding": null,
            "grid_auto_rows": null,
            "grid_gap": null,
            "max_width": null,
            "order": null,
            "_view_module_version": "1.2.0",
            "grid_template_areas": null,
            "object_position": null,
            "object_fit": null,
            "grid_auto_columns": null,
            "margin": null,
            "display": null,
            "left": null
          }
        },
        "ac4db0d5a1504b4f80c27d09bc79286f": {
          "model_module": "@jupyter-widgets/controls",
          "model_name": "DescriptionStyleModel",
          "state": {
            "_view_name": "StyleView",
            "_model_name": "DescriptionStyleModel",
            "description_width": "",
            "_view_module": "@jupyter-widgets/base",
            "_model_module_version": "1.5.0",
            "_view_count": null,
            "_view_module_version": "1.2.0",
            "_model_module": "@jupyter-widgets/controls"
          }
        },
        "c522160e52cd4c1e9269de91855d31bd": {
          "model_module": "@jupyter-widgets/base",
          "model_name": "LayoutModel",
          "state": {
            "_view_name": "LayoutView",
            "grid_template_rows": null,
            "right": null,
            "justify_content": null,
            "_view_module": "@jupyter-widgets/base",
            "overflow": null,
            "_model_module_version": "1.2.0",
            "_view_count": null,
            "flex_flow": null,
            "width": null,
            "min_width": null,
            "border": null,
            "align_items": null,
            "bottom": null,
            "_model_module": "@jupyter-widgets/base",
            "top": null,
            "grid_column": null,
            "overflow_y": null,
            "overflow_x": null,
            "grid_auto_flow": null,
            "grid_area": null,
            "grid_template_columns": null,
            "flex": null,
            "_model_name": "LayoutModel",
            "justify_items": null,
            "grid_row": null,
            "max_height": null,
            "align_content": null,
            "visibility": null,
            "align_self": null,
            "height": null,
            "min_height": null,
            "padding": null,
            "grid_auto_rows": null,
            "grid_gap": null,
            "max_width": null,
            "order": null,
            "_view_module_version": "1.2.0",
            "grid_template_areas": null,
            "object_position": null,
            "object_fit": null,
            "grid_auto_columns": null,
            "margin": null,
            "display": null,
            "left": null
          }
        },
        "66540989aed14eb9bbca7441008e8823": {
          "model_module": "@jupyter-widgets/controls",
          "model_name": "HBoxModel",
          "state": {
            "_view_name": "HBoxView",
            "_dom_classes": [],
            "_model_name": "HBoxModel",
            "_view_module": "@jupyter-widgets/controls",
            "_model_module_version": "1.5.0",
            "_view_count": null,
            "_view_module_version": "1.5.0",
            "box_style": "",
            "layout": "IPY_MODEL_973bc3a428aa44dc88dbb120177edfa6",
            "_model_module": "@jupyter-widgets/controls",
            "children": [
              "IPY_MODEL_00bd1fed7cf640698548b55cf60c7d03",
              "IPY_MODEL_06f1946001c04d23b4e6c01fbd13bce7"
            ]
          }
        },
        "973bc3a428aa44dc88dbb120177edfa6": {
          "model_module": "@jupyter-widgets/base",
          "model_name": "LayoutModel",
          "state": {
            "_view_name": "LayoutView",
            "grid_template_rows": null,
            "right": null,
            "justify_content": null,
            "_view_module": "@jupyter-widgets/base",
            "overflow": null,
            "_model_module_version": "1.2.0",
            "_view_count": null,
            "flex_flow": null,
            "width": null,
            "min_width": null,
            "border": null,
            "align_items": null,
            "bottom": null,
            "_model_module": "@jupyter-widgets/base",
            "top": null,
            "grid_column": null,
            "overflow_y": null,
            "overflow_x": null,
            "grid_auto_flow": null,
            "grid_area": null,
            "grid_template_columns": null,
            "flex": null,
            "_model_name": "LayoutModel",
            "justify_items": null,
            "grid_row": null,
            "max_height": null,
            "align_content": null,
            "visibility": null,
            "align_self": null,
            "height": null,
            "min_height": null,
            "padding": null,
            "grid_auto_rows": null,
            "grid_gap": null,
            "max_width": null,
            "order": null,
            "_view_module_version": "1.2.0",
            "grid_template_areas": null,
            "object_position": null,
            "object_fit": null,
            "grid_auto_columns": null,
            "margin": null,
            "display": null,
            "left": null
          }
        },
        "00bd1fed7cf640698548b55cf60c7d03": {
          "model_module": "@jupyter-widgets/controls",
          "model_name": "FloatProgressModel",
          "state": {
            "_view_name": "ProgressView",
            "style": "IPY_MODEL_e81a343509cf4a3f9f4d04d47ee3d522",
            "_dom_classes": [],
            "description": "Downloading: 100%",
            "_model_name": "FloatProgressModel",
            "bar_style": "success",
            "max": 45,
            "_view_module": "@jupyter-widgets/controls",
            "_model_module_version": "1.5.0",
            "value": 45,
            "_view_count": null,
            "_view_module_version": "1.5.0",
            "orientation": "horizontal",
            "min": 0,
            "description_tooltip": null,
            "_model_module": "@jupyter-widgets/controls",
            "layout": "IPY_MODEL_7dba4ed20e5042b9937916ea8b7f3b44"
          }
        },
        "06f1946001c04d23b4e6c01fbd13bce7": {
          "model_module": "@jupyter-widgets/controls",
          "model_name": "HTMLModel",
          "state": {
            "_view_name": "HTMLView",
            "style": "IPY_MODEL_d70842b806ae4db9a1b912f3f5151675",
            "_dom_classes": [],
            "description": "",
            "_model_name": "HTMLModel",
            "placeholder": "​",
            "_view_module": "@jupyter-widgets/controls",
            "_model_module_version": "1.5.0",
            "value": " 45.0/45.0 [00:00&lt;00:00, 349B/s]",
            "_view_count": null,
            "_view_module_version": "1.5.0",
            "description_tooltip": null,
            "_model_module": "@jupyter-widgets/controls",
            "layout": "IPY_MODEL_9843fc673dc74c8daced18492499da19"
          }
        },
        "e81a343509cf4a3f9f4d04d47ee3d522": {
          "model_module": "@jupyter-widgets/controls",
          "model_name": "ProgressStyleModel",
          "state": {
            "_view_name": "StyleView",
            "_model_name": "ProgressStyleModel",
            "description_width": "initial",
            "_view_module": "@jupyter-widgets/base",
            "_model_module_version": "1.5.0",
            "_view_count": null,
            "_view_module_version": "1.2.0",
            "bar_color": null,
            "_model_module": "@jupyter-widgets/controls"
          }
        },
        "7dba4ed20e5042b9937916ea8b7f3b44": {
          "model_module": "@jupyter-widgets/base",
          "model_name": "LayoutModel",
          "state": {
            "_view_name": "LayoutView",
            "grid_template_rows": null,
            "right": null,
            "justify_content": null,
            "_view_module": "@jupyter-widgets/base",
            "overflow": null,
            "_model_module_version": "1.2.0",
            "_view_count": null,
            "flex_flow": null,
            "width": null,
            "min_width": null,
            "border": null,
            "align_items": null,
            "bottom": null,
            "_model_module": "@jupyter-widgets/base",
            "top": null,
            "grid_column": null,
            "overflow_y": null,
            "overflow_x": null,
            "grid_auto_flow": null,
            "grid_area": null,
            "grid_template_columns": null,
            "flex": null,
            "_model_name": "LayoutModel",
            "justify_items": null,
            "grid_row": null,
            "max_height": null,
            "align_content": null,
            "visibility": null,
            "align_self": null,
            "height": null,
            "min_height": null,
            "padding": null,
            "grid_auto_rows": null,
            "grid_gap": null,
            "max_width": null,
            "order": null,
            "_view_module_version": "1.2.0",
            "grid_template_areas": null,
            "object_position": null,
            "object_fit": null,
            "grid_auto_columns": null,
            "margin": null,
            "display": null,
            "left": null
          }
        },
        "d70842b806ae4db9a1b912f3f5151675": {
          "model_module": "@jupyter-widgets/controls",
          "model_name": "DescriptionStyleModel",
          "state": {
            "_view_name": "StyleView",
            "_model_name": "DescriptionStyleModel",
            "description_width": "",
            "_view_module": "@jupyter-widgets/base",
            "_model_module_version": "1.5.0",
            "_view_count": null,
            "_view_module_version": "1.2.0",
            "_model_module": "@jupyter-widgets/controls"
          }
        },
        "9843fc673dc74c8daced18492499da19": {
          "model_module": "@jupyter-widgets/base",
          "model_name": "LayoutModel",
          "state": {
            "_view_name": "LayoutView",
            "grid_template_rows": null,
            "right": null,
            "justify_content": null,
            "_view_module": "@jupyter-widgets/base",
            "overflow": null,
            "_model_module_version": "1.2.0",
            "_view_count": null,
            "flex_flow": null,
            "width": null,
            "min_width": null,
            "border": null,
            "align_items": null,
            "bottom": null,
            "_model_module": "@jupyter-widgets/base",
            "top": null,
            "grid_column": null,
            "overflow_y": null,
            "overflow_x": null,
            "grid_auto_flow": null,
            "grid_area": null,
            "grid_template_columns": null,
            "flex": null,
            "_model_name": "LayoutModel",
            "justify_items": null,
            "grid_row": null,
            "max_height": null,
            "align_content": null,
            "visibility": null,
            "align_self": null,
            "height": null,
            "min_height": null,
            "padding": null,
            "grid_auto_rows": null,
            "grid_gap": null,
            "max_width": null,
            "order": null,
            "_view_module_version": "1.2.0",
            "grid_template_areas": null,
            "object_position": null,
            "object_fit": null,
            "grid_auto_columns": null,
            "margin": null,
            "display": null,
            "left": null
          }
        },
        "00b4890b400d41ce9f94528e972e2d6e": {
          "model_module": "@jupyter-widgets/controls",
          "model_name": "HBoxModel",
          "state": {
            "_view_name": "HBoxView",
            "_dom_classes": [],
            "_model_name": "HBoxModel",
            "_view_module": "@jupyter-widgets/controls",
            "_model_module_version": "1.5.0",
            "_view_count": null,
            "_view_module_version": "1.5.0",
            "box_style": "",
            "layout": "IPY_MODEL_8b783019ee4e4b649a78f6bbcaff2f95",
            "_model_module": "@jupyter-widgets/controls",
            "children": [
              "IPY_MODEL_1a5a3396020641bda07e53620a776f39",
              "IPY_MODEL_6a3ef1257b5b47a39a987614388fc06f"
            ]
          }
        },
        "8b783019ee4e4b649a78f6bbcaff2f95": {
          "model_module": "@jupyter-widgets/base",
          "model_name": "LayoutModel",
          "state": {
            "_view_name": "LayoutView",
            "grid_template_rows": null,
            "right": null,
            "justify_content": null,
            "_view_module": "@jupyter-widgets/base",
            "overflow": null,
            "_model_module_version": "1.2.0",
            "_view_count": null,
            "flex_flow": null,
            "width": null,
            "min_width": null,
            "border": null,
            "align_items": null,
            "bottom": null,
            "_model_module": "@jupyter-widgets/base",
            "top": null,
            "grid_column": null,
            "overflow_y": null,
            "overflow_x": null,
            "grid_auto_flow": null,
            "grid_area": null,
            "grid_template_columns": null,
            "flex": null,
            "_model_name": "LayoutModel",
            "justify_items": null,
            "grid_row": null,
            "max_height": null,
            "align_content": null,
            "visibility": null,
            "align_self": null,
            "height": null,
            "min_height": null,
            "padding": null,
            "grid_auto_rows": null,
            "grid_gap": null,
            "max_width": null,
            "order": null,
            "_view_module_version": "1.2.0",
            "grid_template_areas": null,
            "object_position": null,
            "object_fit": null,
            "grid_auto_columns": null,
            "margin": null,
            "display": null,
            "left": null
          }
        },
        "1a5a3396020641bda07e53620a776f39": {
          "model_module": "@jupyter-widgets/controls",
          "model_name": "FloatProgressModel",
          "state": {
            "_view_name": "ProgressView",
            "style": "IPY_MODEL_bacf89e6d0cf461bbe54f8ecf91bdad8",
            "_dom_classes": [],
            "description": "Downloading: 100%",
            "_model_name": "FloatProgressModel",
            "bar_style": "success",
            "max": 508,
            "_view_module": "@jupyter-widgets/controls",
            "_model_module_version": "1.5.0",
            "value": 508,
            "_view_count": null,
            "_view_module_version": "1.5.0",
            "orientation": "horizontal",
            "min": 0,
            "description_tooltip": null,
            "_model_module": "@jupyter-widgets/controls",
            "layout": "IPY_MODEL_0cdf82a7b51e401490a8e914a79a18a7"
          }
        },
        "6a3ef1257b5b47a39a987614388fc06f": {
          "model_module": "@jupyter-widgets/controls",
          "model_name": "HTMLModel",
          "state": {
            "_view_name": "HTMLView",
            "style": "IPY_MODEL_6cf126aed4964627bdb6441c0fd3e14f",
            "_dom_classes": [],
            "description": "",
            "_model_name": "HTMLModel",
            "placeholder": "​",
            "_view_module": "@jupyter-widgets/controls",
            "_model_module_version": "1.5.0",
            "value": " 508/508 [00:00&lt;00:00, 619B/s]",
            "_view_count": null,
            "_view_module_version": "1.5.0",
            "description_tooltip": null,
            "_model_module": "@jupyter-widgets/controls",
            "layout": "IPY_MODEL_811baf8b339a47659eeb0b9bc7663b0d"
          }
        },
        "bacf89e6d0cf461bbe54f8ecf91bdad8": {
          "model_module": "@jupyter-widgets/controls",
          "model_name": "ProgressStyleModel",
          "state": {
            "_view_name": "StyleView",
            "_model_name": "ProgressStyleModel",
            "description_width": "initial",
            "_view_module": "@jupyter-widgets/base",
            "_model_module_version": "1.5.0",
            "_view_count": null,
            "_view_module_version": "1.2.0",
            "bar_color": null,
            "_model_module": "@jupyter-widgets/controls"
          }
        },
        "0cdf82a7b51e401490a8e914a79a18a7": {
          "model_module": "@jupyter-widgets/base",
          "model_name": "LayoutModel",
          "state": {
            "_view_name": "LayoutView",
            "grid_template_rows": null,
            "right": null,
            "justify_content": null,
            "_view_module": "@jupyter-widgets/base",
            "overflow": null,
            "_model_module_version": "1.2.0",
            "_view_count": null,
            "flex_flow": null,
            "width": null,
            "min_width": null,
            "border": null,
            "align_items": null,
            "bottom": null,
            "_model_module": "@jupyter-widgets/base",
            "top": null,
            "grid_column": null,
            "overflow_y": null,
            "overflow_x": null,
            "grid_auto_flow": null,
            "grid_area": null,
            "grid_template_columns": null,
            "flex": null,
            "_model_name": "LayoutModel",
            "justify_items": null,
            "grid_row": null,
            "max_height": null,
            "align_content": null,
            "visibility": null,
            "align_self": null,
            "height": null,
            "min_height": null,
            "padding": null,
            "grid_auto_rows": null,
            "grid_gap": null,
            "max_width": null,
            "order": null,
            "_view_module_version": "1.2.0",
            "grid_template_areas": null,
            "object_position": null,
            "object_fit": null,
            "grid_auto_columns": null,
            "margin": null,
            "display": null,
            "left": null
          }
        },
        "6cf126aed4964627bdb6441c0fd3e14f": {
          "model_module": "@jupyter-widgets/controls",
          "model_name": "DescriptionStyleModel",
          "state": {
            "_view_name": "StyleView",
            "_model_name": "DescriptionStyleModel",
            "description_width": "",
            "_view_module": "@jupyter-widgets/base",
            "_model_module_version": "1.5.0",
            "_view_count": null,
            "_view_module_version": "1.2.0",
            "_model_module": "@jupyter-widgets/controls"
          }
        },
        "811baf8b339a47659eeb0b9bc7663b0d": {
          "model_module": "@jupyter-widgets/base",
          "model_name": "LayoutModel",
          "state": {
            "_view_name": "LayoutView",
            "grid_template_rows": null,
            "right": null,
            "justify_content": null,
            "_view_module": "@jupyter-widgets/base",
            "overflow": null,
            "_model_module_version": "1.2.0",
            "_view_count": null,
            "flex_flow": null,
            "width": null,
            "min_width": null,
            "border": null,
            "align_items": null,
            "bottom": null,
            "_model_module": "@jupyter-widgets/base",
            "top": null,
            "grid_column": null,
            "overflow_y": null,
            "overflow_x": null,
            "grid_auto_flow": null,
            "grid_area": null,
            "grid_template_columns": null,
            "flex": null,
            "_model_name": "LayoutModel",
            "justify_items": null,
            "grid_row": null,
            "max_height": null,
            "align_content": null,
            "visibility": null,
            "align_self": null,
            "height": null,
            "min_height": null,
            "padding": null,
            "grid_auto_rows": null,
            "grid_gap": null,
            "max_width": null,
            "order": null,
            "_view_module_version": "1.2.0",
            "grid_template_areas": null,
            "object_position": null,
            "object_fit": null,
            "grid_auto_columns": null,
            "margin": null,
            "display": null,
            "left": null
          }
        },
        "50297d277b764684b00287cebff3d4f2": {
          "model_module": "@jupyter-widgets/controls",
          "model_name": "HBoxModel",
          "state": {
            "_view_name": "HBoxView",
            "_dom_classes": [],
            "_model_name": "HBoxModel",
            "_view_module": "@jupyter-widgets/controls",
            "_model_module_version": "1.5.0",
            "_view_count": null,
            "_view_module_version": "1.5.0",
            "box_style": "",
            "layout": "IPY_MODEL_5855dc6ea2c947e9a9525dd07d754d09",
            "_model_module": "@jupyter-widgets/controls",
            "children": [
              "IPY_MODEL_1365c18370ed409ea29877265f8ba1c9",
              "IPY_MODEL_5cf9cf27b4804b7ca9339816aa375a65"
            ]
          }
        },
        "5855dc6ea2c947e9a9525dd07d754d09": {
          "model_module": "@jupyter-widgets/base",
          "model_name": "LayoutModel",
          "state": {
            "_view_name": "LayoutView",
            "grid_template_rows": null,
            "right": null,
            "justify_content": null,
            "_view_module": "@jupyter-widgets/base",
            "overflow": null,
            "_model_module_version": "1.2.0",
            "_view_count": null,
            "flex_flow": null,
            "width": null,
            "min_width": null,
            "border": null,
            "align_items": null,
            "bottom": null,
            "_model_module": "@jupyter-widgets/base",
            "top": null,
            "grid_column": null,
            "overflow_y": null,
            "overflow_x": null,
            "grid_auto_flow": null,
            "grid_area": null,
            "grid_template_columns": null,
            "flex": null,
            "_model_name": "LayoutModel",
            "justify_items": null,
            "grid_row": null,
            "max_height": null,
            "align_content": null,
            "visibility": null,
            "align_self": null,
            "height": null,
            "min_height": null,
            "padding": null,
            "grid_auto_rows": null,
            "grid_gap": null,
            "max_width": null,
            "order": null,
            "_view_module_version": "1.2.0",
            "grid_template_areas": null,
            "object_position": null,
            "object_fit": null,
            "grid_auto_columns": null,
            "margin": null,
            "display": null,
            "left": null
          }
        },
        "1365c18370ed409ea29877265f8ba1c9": {
          "model_module": "@jupyter-widgets/controls",
          "model_name": "FloatProgressModel",
          "state": {
            "_view_name": "ProgressView",
            "style": "IPY_MODEL_e45fa4fd7ac648c08fce4f2387c961cc",
            "_dom_classes": [],
            "description": "Downloading: 100%",
            "_model_name": "FloatProgressModel",
            "bar_style": "success",
            "max": 445016569,
            "_view_module": "@jupyter-widgets/controls",
            "_model_module_version": "1.5.0",
            "value": 445016569,
            "_view_count": null,
            "_view_module_version": "1.5.0",
            "orientation": "horizontal",
            "min": 0,
            "description_tooltip": null,
            "_model_module": "@jupyter-widgets/controls",
            "layout": "IPY_MODEL_8c285e39730f41058be448d7a2f80379"
          }
        },
        "5cf9cf27b4804b7ca9339816aa375a65": {
          "model_module": "@jupyter-widgets/controls",
          "model_name": "HTMLModel",
          "state": {
            "_view_name": "HTMLView",
            "style": "IPY_MODEL_a8fca2959214473f80e6973b79f0f0ca",
            "_dom_classes": [],
            "description": "",
            "_model_name": "HTMLModel",
            "placeholder": "​",
            "_view_module": "@jupyter-widgets/controls",
            "_model_module_version": "1.5.0",
            "value": " 445M/445M [00:11&lt;00:00, 39.0MB/s]",
            "_view_count": null,
            "_view_module_version": "1.5.0",
            "description_tooltip": null,
            "_model_module": "@jupyter-widgets/controls",
            "layout": "IPY_MODEL_b29f9e6de3d54318961209b7984dae38"
          }
        },
        "e45fa4fd7ac648c08fce4f2387c961cc": {
          "model_module": "@jupyter-widgets/controls",
          "model_name": "ProgressStyleModel",
          "state": {
            "_view_name": "StyleView",
            "_model_name": "ProgressStyleModel",
            "description_width": "initial",
            "_view_module": "@jupyter-widgets/base",
            "_model_module_version": "1.5.0",
            "_view_count": null,
            "_view_module_version": "1.2.0",
            "bar_color": null,
            "_model_module": "@jupyter-widgets/controls"
          }
        },
        "8c285e39730f41058be448d7a2f80379": {
          "model_module": "@jupyter-widgets/base",
          "model_name": "LayoutModel",
          "state": {
            "_view_name": "LayoutView",
            "grid_template_rows": null,
            "right": null,
            "justify_content": null,
            "_view_module": "@jupyter-widgets/base",
            "overflow": null,
            "_model_module_version": "1.2.0",
            "_view_count": null,
            "flex_flow": null,
            "width": null,
            "min_width": null,
            "border": null,
            "align_items": null,
            "bottom": null,
            "_model_module": "@jupyter-widgets/base",
            "top": null,
            "grid_column": null,
            "overflow_y": null,
            "overflow_x": null,
            "grid_auto_flow": null,
            "grid_area": null,
            "grid_template_columns": null,
            "flex": null,
            "_model_name": "LayoutModel",
            "justify_items": null,
            "grid_row": null,
            "max_height": null,
            "align_content": null,
            "visibility": null,
            "align_self": null,
            "height": null,
            "min_height": null,
            "padding": null,
            "grid_auto_rows": null,
            "grid_gap": null,
            "max_width": null,
            "order": null,
            "_view_module_version": "1.2.0",
            "grid_template_areas": null,
            "object_position": null,
            "object_fit": null,
            "grid_auto_columns": null,
            "margin": null,
            "display": null,
            "left": null
          }
        },
        "a8fca2959214473f80e6973b79f0f0ca": {
          "model_module": "@jupyter-widgets/controls",
          "model_name": "DescriptionStyleModel",
          "state": {
            "_view_name": "StyleView",
            "_model_name": "DescriptionStyleModel",
            "description_width": "",
            "_view_module": "@jupyter-widgets/base",
            "_model_module_version": "1.5.0",
            "_view_count": null,
            "_view_module_version": "1.2.0",
            "_model_module": "@jupyter-widgets/controls"
          }
        },
        "b29f9e6de3d54318961209b7984dae38": {
          "model_module": "@jupyter-widgets/base",
          "model_name": "LayoutModel",
          "state": {
            "_view_name": "LayoutView",
            "grid_template_rows": null,
            "right": null,
            "justify_content": null,
            "_view_module": "@jupyter-widgets/base",
            "overflow": null,
            "_model_module_version": "1.2.0",
            "_view_count": null,
            "flex_flow": null,
            "width": null,
            "min_width": null,
            "border": null,
            "align_items": null,
            "bottom": null,
            "_model_module": "@jupyter-widgets/base",
            "top": null,
            "grid_column": null,
            "overflow_y": null,
            "overflow_x": null,
            "grid_auto_flow": null,
            "grid_area": null,
            "grid_template_columns": null,
            "flex": null,
            "_model_name": "LayoutModel",
            "justify_items": null,
            "grid_row": null,
            "max_height": null,
            "align_content": null,
            "visibility": null,
            "align_self": null,
            "height": null,
            "min_height": null,
            "padding": null,
            "grid_auto_rows": null,
            "grid_gap": null,
            "max_width": null,
            "order": null,
            "_view_module_version": "1.2.0",
            "grid_template_areas": null,
            "object_position": null,
            "object_fit": null,
            "grid_auto_columns": null,
            "margin": null,
            "display": null,
            "left": null
          }
        },
        "82b3604d9d9e4308b08a849b1b41033e": {
          "model_module": "@jupyter-widgets/controls",
          "model_name": "HBoxModel",
          "state": {
            "_view_name": "HBoxView",
            "_dom_classes": [],
            "_model_name": "HBoxModel",
            "_view_module": "@jupyter-widgets/controls",
            "_model_module_version": "1.5.0",
            "_view_count": null,
            "_view_module_version": "1.5.0",
            "box_style": "",
            "layout": "IPY_MODEL_90853e3a7c624026a980bcac49b74d66",
            "_model_module": "@jupyter-widgets/controls",
            "children": [
              "IPY_MODEL_19d1f6c5618e4ae9ad59a8f08a31590d",
              "IPY_MODEL_7000ff010fa048da80ad9c7d53f12919"
            ]
          }
        },
        "90853e3a7c624026a980bcac49b74d66": {
          "model_module": "@jupyter-widgets/base",
          "model_name": "LayoutModel",
          "state": {
            "_view_name": "LayoutView",
            "grid_template_rows": null,
            "right": null,
            "justify_content": null,
            "_view_module": "@jupyter-widgets/base",
            "overflow": null,
            "_model_module_version": "1.2.0",
            "_view_count": null,
            "flex_flow": null,
            "width": null,
            "min_width": null,
            "border": null,
            "align_items": null,
            "bottom": null,
            "_model_module": "@jupyter-widgets/base",
            "top": null,
            "grid_column": null,
            "overflow_y": null,
            "overflow_x": null,
            "grid_auto_flow": null,
            "grid_area": null,
            "grid_template_columns": null,
            "flex": null,
            "_model_name": "LayoutModel",
            "justify_items": null,
            "grid_row": null,
            "max_height": null,
            "align_content": null,
            "visibility": null,
            "align_self": null,
            "height": null,
            "min_height": null,
            "padding": null,
            "grid_auto_rows": null,
            "grid_gap": null,
            "max_width": null,
            "order": null,
            "_view_module_version": "1.2.0",
            "grid_template_areas": null,
            "object_position": null,
            "object_fit": null,
            "grid_auto_columns": null,
            "margin": null,
            "display": null,
            "left": null
          }
        },
        "19d1f6c5618e4ae9ad59a8f08a31590d": {
          "model_module": "@jupyter-widgets/controls",
          "model_name": "FloatProgressModel",
          "state": {
            "_view_name": "ProgressView",
            "style": "IPY_MODEL_264b6485c4f241439b1efae968184f60",
            "_dom_classes": [],
            "description": "Downloading: 100%",
            "_model_name": "FloatProgressModel",
            "bar_style": "success",
            "max": 445054385,
            "_view_module": "@jupyter-widgets/controls",
            "_model_module_version": "1.5.0",
            "value": 445054385,
            "_view_count": null,
            "_view_module_version": "1.5.0",
            "orientation": "horizontal",
            "min": 0,
            "description_tooltip": null,
            "_model_module": "@jupyter-widgets/controls",
            "layout": "IPY_MODEL_bf8d770c9c7b46da83cda37deb5f1d6d"
          }
        },
        "7000ff010fa048da80ad9c7d53f12919": {
          "model_module": "@jupyter-widgets/controls",
          "model_name": "HTMLModel",
          "state": {
            "_view_name": "HTMLView",
            "style": "IPY_MODEL_eeb50d5a918e416b9431e5e17b3b29b2",
            "_dom_classes": [],
            "description": "",
            "_model_name": "HTMLModel",
            "placeholder": "​",
            "_view_module": "@jupyter-widgets/controls",
            "_model_module_version": "1.5.0",
            "value": " 445M/445M [00:11&lt;00:00, 40.0MB/s]",
            "_view_count": null,
            "_view_module_version": "1.5.0",
            "description_tooltip": null,
            "_model_module": "@jupyter-widgets/controls",
            "layout": "IPY_MODEL_5f2ec247d286472082b8b036c496118b"
          }
        },
        "264b6485c4f241439b1efae968184f60": {
          "model_module": "@jupyter-widgets/controls",
          "model_name": "ProgressStyleModel",
          "state": {
            "_view_name": "StyleView",
            "_model_name": "ProgressStyleModel",
            "description_width": "initial",
            "_view_module": "@jupyter-widgets/base",
            "_model_module_version": "1.5.0",
            "_view_count": null,
            "_view_module_version": "1.2.0",
            "bar_color": null,
            "_model_module": "@jupyter-widgets/controls"
          }
        },
        "bf8d770c9c7b46da83cda37deb5f1d6d": {
          "model_module": "@jupyter-widgets/base",
          "model_name": "LayoutModel",
          "state": {
            "_view_name": "LayoutView",
            "grid_template_rows": null,
            "right": null,
            "justify_content": null,
            "_view_module": "@jupyter-widgets/base",
            "overflow": null,
            "_model_module_version": "1.2.0",
            "_view_count": null,
            "flex_flow": null,
            "width": null,
            "min_width": null,
            "border": null,
            "align_items": null,
            "bottom": null,
            "_model_module": "@jupyter-widgets/base",
            "top": null,
            "grid_column": null,
            "overflow_y": null,
            "overflow_x": null,
            "grid_auto_flow": null,
            "grid_area": null,
            "grid_template_columns": null,
            "flex": null,
            "_model_name": "LayoutModel",
            "justify_items": null,
            "grid_row": null,
            "max_height": null,
            "align_content": null,
            "visibility": null,
            "align_self": null,
            "height": null,
            "min_height": null,
            "padding": null,
            "grid_auto_rows": null,
            "grid_gap": null,
            "max_width": null,
            "order": null,
            "_view_module_version": "1.2.0",
            "grid_template_areas": null,
            "object_position": null,
            "object_fit": null,
            "grid_auto_columns": null,
            "margin": null,
            "display": null,
            "left": null
          }
        },
        "eeb50d5a918e416b9431e5e17b3b29b2": {
          "model_module": "@jupyter-widgets/controls",
          "model_name": "DescriptionStyleModel",
          "state": {
            "_view_name": "StyleView",
            "_model_name": "DescriptionStyleModel",
            "description_width": "",
            "_view_module": "@jupyter-widgets/base",
            "_model_module_version": "1.5.0",
            "_view_count": null,
            "_view_module_version": "1.2.0",
            "_model_module": "@jupyter-widgets/controls"
          }
        },
        "5f2ec247d286472082b8b036c496118b": {
          "model_module": "@jupyter-widgets/base",
          "model_name": "LayoutModel",
          "state": {
            "_view_name": "LayoutView",
            "grid_template_rows": null,
            "right": null,
            "justify_content": null,
            "_view_module": "@jupyter-widgets/base",
            "overflow": null,
            "_model_module_version": "1.2.0",
            "_view_count": null,
            "flex_flow": null,
            "width": null,
            "min_width": null,
            "border": null,
            "align_items": null,
            "bottom": null,
            "_model_module": "@jupyter-widgets/base",
            "top": null,
            "grid_column": null,
            "overflow_y": null,
            "overflow_x": null,
            "grid_auto_flow": null,
            "grid_area": null,
            "grid_template_columns": null,
            "flex": null,
            "_model_name": "LayoutModel",
            "justify_items": null,
            "grid_row": null,
            "max_height": null,
            "align_content": null,
            "visibility": null,
            "align_self": null,
            "height": null,
            "min_height": null,
            "padding": null,
            "grid_auto_rows": null,
            "grid_gap": null,
            "max_width": null,
            "order": null,
            "_view_module_version": "1.2.0",
            "grid_template_areas": null,
            "object_position": null,
            "object_fit": null,
            "grid_auto_columns": null,
            "margin": null,
            "display": null,
            "left": null
          }
        },
        "b135248191a64b698ee03c8f012b0fe1": {
          "model_module": "@jupyter-widgets/controls",
          "model_name": "HBoxModel",
          "state": {
            "_view_name": "HBoxView",
            "_dom_classes": [],
            "_model_name": "HBoxModel",
            "_view_module": "@jupyter-widgets/controls",
            "_model_module_version": "1.5.0",
            "_view_count": null,
            "_view_module_version": "1.5.0",
            "box_style": "",
            "layout": "IPY_MODEL_b386830b09224fa88c75e158a4f0e110",
            "_model_module": "@jupyter-widgets/controls",
            "children": [
              "IPY_MODEL_f36820b3c417486d89cf406746a0d1c6",
              "IPY_MODEL_4f8d27ad47ee4f019ec1aa22d6afb4d3"
            ]
          }
        },
        "b386830b09224fa88c75e158a4f0e110": {
          "model_module": "@jupyter-widgets/base",
          "model_name": "LayoutModel",
          "state": {
            "_view_name": "LayoutView",
            "grid_template_rows": null,
            "right": null,
            "justify_content": null,
            "_view_module": "@jupyter-widgets/base",
            "overflow": null,
            "_model_module_version": "1.2.0",
            "_view_count": null,
            "flex_flow": null,
            "width": null,
            "min_width": null,
            "border": null,
            "align_items": null,
            "bottom": null,
            "_model_module": "@jupyter-widgets/base",
            "top": null,
            "grid_column": null,
            "overflow_y": null,
            "overflow_x": null,
            "grid_auto_flow": null,
            "grid_area": null,
            "grid_template_columns": null,
            "flex": null,
            "_model_name": "LayoutModel",
            "justify_items": null,
            "grid_row": null,
            "max_height": null,
            "align_content": null,
            "visibility": null,
            "align_self": null,
            "height": null,
            "min_height": null,
            "padding": null,
            "grid_auto_rows": null,
            "grid_gap": null,
            "max_width": null,
            "order": null,
            "_view_module_version": "1.2.0",
            "grid_template_areas": null,
            "object_position": null,
            "object_fit": null,
            "grid_auto_columns": null,
            "margin": null,
            "display": null,
            "left": null
          }
        },
        "f36820b3c417486d89cf406746a0d1c6": {
          "model_module": "@jupyter-widgets/controls",
          "model_name": "FloatProgressModel",
          "state": {
            "_view_name": "ProgressView",
            "style": "IPY_MODEL_28b15c8a29c5469198a30ce112dba29c",
            "_dom_classes": [],
            "description": "Downloading: ",
            "_model_name": "FloatProgressModel",
            "bar_style": "success",
            "max": 1362,
            "_view_module": "@jupyter-widgets/controls",
            "_model_module_version": "1.5.0",
            "value": 1362,
            "_view_count": null,
            "_view_module_version": "1.5.0",
            "orientation": "horizontal",
            "min": 0,
            "description_tooltip": null,
            "_model_module": "@jupyter-widgets/controls",
            "layout": "IPY_MODEL_947b6b84a7514768865ed889df1501d5"
          }
        },
        "4f8d27ad47ee4f019ec1aa22d6afb4d3": {
          "model_module": "@jupyter-widgets/controls",
          "model_name": "HTMLModel",
          "state": {
            "_view_name": "HTMLView",
            "style": "IPY_MODEL_f05d5420021a41a1a961bd2b20d760c0",
            "_dom_classes": [],
            "description": "",
            "_model_name": "HTMLModel",
            "placeholder": "​",
            "_view_module": "@jupyter-widgets/controls",
            "_model_module_version": "1.5.0",
            "value": " 2.92k/? [00:00&lt;00:00, 16.9kB/s]",
            "_view_count": null,
            "_view_module_version": "1.5.0",
            "description_tooltip": null,
            "_model_module": "@jupyter-widgets/controls",
            "layout": "IPY_MODEL_d1823bc53edc40aa98516db02f95ccb6"
          }
        },
        "28b15c8a29c5469198a30ce112dba29c": {
          "model_module": "@jupyter-widgets/controls",
          "model_name": "ProgressStyleModel",
          "state": {
            "_view_name": "StyleView",
            "_model_name": "ProgressStyleModel",
            "description_width": "initial",
            "_view_module": "@jupyter-widgets/base",
            "_model_module_version": "1.5.0",
            "_view_count": null,
            "_view_module_version": "1.2.0",
            "bar_color": null,
            "_model_module": "@jupyter-widgets/controls"
          }
        },
        "947b6b84a7514768865ed889df1501d5": {
          "model_module": "@jupyter-widgets/base",
          "model_name": "LayoutModel",
          "state": {
            "_view_name": "LayoutView",
            "grid_template_rows": null,
            "right": null,
            "justify_content": null,
            "_view_module": "@jupyter-widgets/base",
            "overflow": null,
            "_model_module_version": "1.2.0",
            "_view_count": null,
            "flex_flow": null,
            "width": null,
            "min_width": null,
            "border": null,
            "align_items": null,
            "bottom": null,
            "_model_module": "@jupyter-widgets/base",
            "top": null,
            "grid_column": null,
            "overflow_y": null,
            "overflow_x": null,
            "grid_auto_flow": null,
            "grid_area": null,
            "grid_template_columns": null,
            "flex": null,
            "_model_name": "LayoutModel",
            "justify_items": null,
            "grid_row": null,
            "max_height": null,
            "align_content": null,
            "visibility": null,
            "align_self": null,
            "height": null,
            "min_height": null,
            "padding": null,
            "grid_auto_rows": null,
            "grid_gap": null,
            "max_width": null,
            "order": null,
            "_view_module_version": "1.2.0",
            "grid_template_areas": null,
            "object_position": null,
            "object_fit": null,
            "grid_auto_columns": null,
            "margin": null,
            "display": null,
            "left": null
          }
        },
        "f05d5420021a41a1a961bd2b20d760c0": {
          "model_module": "@jupyter-widgets/controls",
          "model_name": "DescriptionStyleModel",
          "state": {
            "_view_name": "StyleView",
            "_model_name": "DescriptionStyleModel",
            "description_width": "",
            "_view_module": "@jupyter-widgets/base",
            "_model_module_version": "1.5.0",
            "_view_count": null,
            "_view_module_version": "1.2.0",
            "_model_module": "@jupyter-widgets/controls"
          }
        },
        "d1823bc53edc40aa98516db02f95ccb6": {
          "model_module": "@jupyter-widgets/base",
          "model_name": "LayoutModel",
          "state": {
            "_view_name": "LayoutView",
            "grid_template_rows": null,
            "right": null,
            "justify_content": null,
            "_view_module": "@jupyter-widgets/base",
            "overflow": null,
            "_model_module_version": "1.2.0",
            "_view_count": null,
            "flex_flow": null,
            "width": null,
            "min_width": null,
            "border": null,
            "align_items": null,
            "bottom": null,
            "_model_module": "@jupyter-widgets/base",
            "top": null,
            "grid_column": null,
            "overflow_y": null,
            "overflow_x": null,
            "grid_auto_flow": null,
            "grid_area": null,
            "grid_template_columns": null,
            "flex": null,
            "_model_name": "LayoutModel",
            "justify_items": null,
            "grid_row": null,
            "max_height": null,
            "align_content": null,
            "visibility": null,
            "align_self": null,
            "height": null,
            "min_height": null,
            "padding": null,
            "grid_auto_rows": null,
            "grid_gap": null,
            "max_width": null,
            "order": null,
            "_view_module_version": "1.2.0",
            "grid_template_areas": null,
            "object_position": null,
            "object_fit": null,
            "grid_auto_columns": null,
            "margin": null,
            "display": null,
            "left": null
          }
        }
      }
    },
    "accelerator": "GPU"
  },
  "cells": [
    {
      "cell_type": "markdown",
      "metadata": {
        "id": "lfXofZpSyPuM"
      },
      "source": [
        "# 1. Setup"
      ]
    },
    {
      "cell_type": "code",
      "metadata": {
        "colab": {
          "base_uri": "https://localhost:8080/"
        },
        "id": "frC3UpYvOMuc",
        "outputId": "2e718f2f-aa1c-4228-b1b9-cb027ef1122f"
      },
      "source": [
        "!pip install transformers==4.6.1\n",
        "!pip install SentencePiece==0.1.95\n",
        "!pip install datasets"
      ],
      "execution_count": null,
      "outputs": [
        {
          "output_type": "stream",
          "text": [
            "Requirement already satisfied: transformers==4.6.1 in /usr/local/lib/python3.7/dist-packages (4.6.1)\n",
            "Requirement already satisfied: regex!=2019.12.17 in /usr/local/lib/python3.7/dist-packages (from transformers==4.6.1) (2019.12.20)\n",
            "Requirement already satisfied: importlib-metadata; python_version < \"3.8\" in /usr/local/lib/python3.7/dist-packages (from transformers==4.6.1) (4.5.0)\n",
            "Requirement already satisfied: tokenizers<0.11,>=0.10.1 in /usr/local/lib/python3.7/dist-packages (from transformers==4.6.1) (0.10.3)\n",
            "Requirement already satisfied: numpy>=1.17 in /usr/local/lib/python3.7/dist-packages (from transformers==4.6.1) (1.19.5)\n",
            "Requirement already satisfied: filelock in /usr/local/lib/python3.7/dist-packages (from transformers==4.6.1) (3.0.12)\n",
            "Requirement already satisfied: packaging in /usr/local/lib/python3.7/dist-packages (from transformers==4.6.1) (20.9)\n",
            "Requirement already satisfied: requests in /usr/local/lib/python3.7/dist-packages (from transformers==4.6.1) (2.23.0)\n",
            "Requirement already satisfied: sacremoses in /usr/local/lib/python3.7/dist-packages (from transformers==4.6.1) (0.0.45)\n",
            "Requirement already satisfied: huggingface-hub==0.0.8 in /usr/local/lib/python3.7/dist-packages (from transformers==4.6.1) (0.0.8)\n",
            "Requirement already satisfied: tqdm>=4.27 in /usr/local/lib/python3.7/dist-packages (from transformers==4.6.1) (4.41.1)\n",
            "Requirement already satisfied: zipp>=0.5 in /usr/local/lib/python3.7/dist-packages (from importlib-metadata; python_version < \"3.8\"->transformers==4.6.1) (3.4.1)\n",
            "Requirement already satisfied: typing-extensions>=3.6.4; python_version < \"3.8\" in /usr/local/lib/python3.7/dist-packages (from importlib-metadata; python_version < \"3.8\"->transformers==4.6.1) (3.7.4.3)\n",
            "Requirement already satisfied: pyparsing>=2.0.2 in /usr/local/lib/python3.7/dist-packages (from packaging->transformers==4.6.1) (2.4.7)\n",
            "Requirement already satisfied: chardet<4,>=3.0.2 in /usr/local/lib/python3.7/dist-packages (from requests->transformers==4.6.1) (3.0.4)\n",
            "Requirement already satisfied: idna<3,>=2.5 in /usr/local/lib/python3.7/dist-packages (from requests->transformers==4.6.1) (2.10)\n",
            "Requirement already satisfied: urllib3!=1.25.0,!=1.25.1,<1.26,>=1.21.1 in /usr/local/lib/python3.7/dist-packages (from requests->transformers==4.6.1) (1.24.3)\n",
            "Requirement already satisfied: certifi>=2017.4.17 in /usr/local/lib/python3.7/dist-packages (from requests->transformers==4.6.1) (2021.5.30)\n",
            "Requirement already satisfied: joblib in /usr/local/lib/python3.7/dist-packages (from sacremoses->transformers==4.6.1) (1.0.1)\n",
            "Requirement already satisfied: click in /usr/local/lib/python3.7/dist-packages (from sacremoses->transformers==4.6.1) (7.1.2)\n",
            "Requirement already satisfied: six in /usr/local/lib/python3.7/dist-packages (from sacremoses->transformers==4.6.1) (1.15.0)\n",
            "Requirement already satisfied: SentencePiece==0.1.95 in /usr/local/lib/python3.7/dist-packages (0.1.95)\n",
            "Requirement already satisfied: datasets in /usr/local/lib/python3.7/dist-packages (1.8.0)\n",
            "Requirement already satisfied: huggingface-hub<0.1.0 in /usr/local/lib/python3.7/dist-packages (from datasets) (0.0.8)\n",
            "Requirement already satisfied: numpy>=1.17 in /usr/local/lib/python3.7/dist-packages (from datasets) (1.19.5)\n",
            "Requirement already satisfied: packaging in /usr/local/lib/python3.7/dist-packages (from datasets) (20.9)\n",
            "Requirement already satisfied: xxhash in /usr/local/lib/python3.7/dist-packages (from datasets) (2.0.2)\n",
            "Requirement already satisfied: importlib-metadata; python_version < \"3.8\" in /usr/local/lib/python3.7/dist-packages (from datasets) (4.5.0)\n",
            "Requirement already satisfied: fsspec in /usr/local/lib/python3.7/dist-packages (from datasets) (2021.6.1)\n",
            "Requirement already satisfied: pyarrow<4.0.0,>=1.0.0 in /usr/local/lib/python3.7/dist-packages (from datasets) (3.0.0)\n",
            "Requirement already satisfied: pandas in /usr/local/lib/python3.7/dist-packages (from datasets) (1.1.5)\n",
            "Requirement already satisfied: requests>=2.19.0 in /usr/local/lib/python3.7/dist-packages (from datasets) (2.23.0)\n",
            "Requirement already satisfied: tqdm<4.50.0,>=4.27 in /usr/local/lib/python3.7/dist-packages (from datasets) (4.41.1)\n",
            "Requirement already satisfied: dill in /usr/local/lib/python3.7/dist-packages (from datasets) (0.3.4)\n",
            "Requirement already satisfied: multiprocess in /usr/local/lib/python3.7/dist-packages (from datasets) (0.70.12.2)\n",
            "Requirement already satisfied: filelock in /usr/local/lib/python3.7/dist-packages (from huggingface-hub<0.1.0->datasets) (3.0.12)\n",
            "Requirement already satisfied: pyparsing>=2.0.2 in /usr/local/lib/python3.7/dist-packages (from packaging->datasets) (2.4.7)\n",
            "Requirement already satisfied: zipp>=0.5 in /usr/local/lib/python3.7/dist-packages (from importlib-metadata; python_version < \"3.8\"->datasets) (3.4.1)\n",
            "Requirement already satisfied: typing-extensions>=3.6.4; python_version < \"3.8\" in /usr/local/lib/python3.7/dist-packages (from importlib-metadata; python_version < \"3.8\"->datasets) (3.7.4.3)\n",
            "Requirement already satisfied: pytz>=2017.2 in /usr/local/lib/python3.7/dist-packages (from pandas->datasets) (2018.9)\n",
            "Requirement already satisfied: python-dateutil>=2.7.3 in /usr/local/lib/python3.7/dist-packages (from pandas->datasets) (2.8.1)\n",
            "Requirement already satisfied: idna<3,>=2.5 in /usr/local/lib/python3.7/dist-packages (from requests>=2.19.0->datasets) (2.10)\n",
            "Requirement already satisfied: certifi>=2017.4.17 in /usr/local/lib/python3.7/dist-packages (from requests>=2.19.0->datasets) (2021.5.30)\n",
            "Requirement already satisfied: chardet<4,>=3.0.2 in /usr/local/lib/python3.7/dist-packages (from requests>=2.19.0->datasets) (3.0.4)\n",
            "Requirement already satisfied: urllib3!=1.25.0,!=1.25.1,<1.26,>=1.21.1 in /usr/local/lib/python3.7/dist-packages (from requests>=2.19.0->datasets) (1.24.3)\n",
            "Requirement already satisfied: six>=1.5 in /usr/local/lib/python3.7/dist-packages (from python-dateutil>=2.7.3->pandas->datasets) (1.15.0)\n"
          ],
          "name": "stdout"
        }
      ]
    },
    {
      "cell_type": "code",
      "metadata": {
        "id": "lQQ8X3mGOm87",
        "colab": {
          "base_uri": "https://localhost:8080/"
        },
        "outputId": "c151f213-5624-4088-992f-ae954e7f8cf6"
      },
      "source": [
        "!python -c \"from transformers import pipeline; print(pipeline('sentiment-analysis')('we love you'))\""
      ],
      "execution_count": null,
      "outputs": [
        {
          "output_type": "stream",
          "text": [
            "2021-07-02 09:24:58.901948: I tensorflow/stream_executor/platform/default/dso_loader.cc:53] Successfully opened dynamic library libcudart.so.11.0\n",
            "Downloading: 100% 629/629 [00:00<00:00, 784kB/s]\n",
            "Downloading: 100% 268M/268M [00:04<00:00, 62.3MB/s]\n",
            "Downloading: 100% 232k/232k [00:00<00:00, 1.72MB/s]\n",
            "Downloading: 100% 48.0/48.0 [00:00<00:00, 49.4kB/s]\n",
            "[{'label': 'POSITIVE', 'score': 0.9998704791069031}]\n"
          ],
          "name": "stdout"
        }
      ]
    },
    {
      "cell_type": "code",
      "metadata": {
        "colab": {
          "base_uri": "https://localhost:8080/"
        },
        "id": "LyUe-qLbBcLS",
        "outputId": "8f23d667-1f3e-472e-9071-6359e50c2729"
      },
      "source": [
        "!pwd"
      ],
      "execution_count": null,
      "outputs": [
        {
          "output_type": "stream",
          "text": [
            "/content\n"
          ],
          "name": "stdout"
        }
      ]
    },
    {
      "cell_type": "code",
      "metadata": {
        "id": "lkgzmCdgBel_"
      },
      "source": [
        "from datasets import load_dataset, load_metric"
      ],
      "execution_count": null,
      "outputs": []
    },
    {
      "cell_type": "code",
      "metadata": {
        "colab": {
          "base_uri": "https://localhost:8080/"
        },
        "id": "45DEWlOVi9k5",
        "outputId": "4d003d6f-d400-494c-fa40-b42d13c9a859"
      },
      "source": [
        "dataset = load_dataset(\"eduge\")"
      ],
      "execution_count": null,
      "outputs": [
        {
          "output_type": "stream",
          "text": [
            "Couldn't find file locally at eduge/eduge.py, or remotely at https://raw.githubusercontent.com/huggingface/datasets/1.8.0/datasets/eduge/eduge.py.\n",
            "The file was picked from the master branch on github instead at https://raw.githubusercontent.com/huggingface/datasets/master/datasets/eduge/eduge.py.\n",
            "Using custom data configuration default\n",
            "Reusing dataset eduge (/root/.cache/huggingface/datasets/eduge/default/0.0.0/533d404905b3b3371f97e26f3dd3e73f45582dfb9ce96b9afd42bbf7fb1a87f8)\n"
          ],
          "name": "stderr"
        }
      ]
    },
    {
      "cell_type": "code",
      "metadata": {
        "colab": {
          "base_uri": "https://localhost:8080/"
        },
        "id": "AgTGgDPj5F7Y",
        "outputId": "036627de-f7a3-4d22-e43b-8a68d452321c"
      },
      "source": [
        "dataset"
      ],
      "execution_count": null,
      "outputs": [
        {
          "output_type": "execute_result",
          "data": {
            "text/plain": [
              "DatasetDict({\n",
              "    train: Dataset({\n",
              "        features: ['label', 'news'],\n",
              "        num_rows: 60528\n",
              "    })\n",
              "    test: Dataset({\n",
              "        features: ['label', 'news'],\n",
              "        num_rows: 15133\n",
              "    })\n",
              "})"
            ]
          },
          "metadata": {
            "tags": []
          },
          "execution_count": 15
        }
      ]
    },
    {
      "cell_type": "code",
      "metadata": {
        "colab": {
          "base_uri": "https://localhost:8080/"
        },
        "id": "Mff0k4bc5MDW",
        "outputId": "3a48647f-3647-4d0d-f21f-f1ff7d6f34c2"
      },
      "source": [
        "dataset['train']['label'][0], dataset['train']['news'][0]"
      ],
      "execution_count": null,
      "outputs": [
        {
          "output_type": "execute_result",
          "data": {
            "text/plain": [
              "(5,\n",
              " 'Манай сонин зун, өвлийн олимпийн наадам, хөлбөмбөгийн дэлхий, Европын аварга шалгаруулах тэмцээн, Азийн зуны наадам зэрэг спортын томоохон тэмцээн уралдааны өмнө хуваарийг нь уншигч та бүхэндээ өргөн барьдаг уламжлалтай билээ. Энэ удаад “Сочи-2014” өвлийн олимпийн XXII наадмын хуваарийг Улаанбаатарын цагт хөрвүүлэн хүргэж байна. Уншигч таныг энэхүү хөтөлбөртэй олимпийн наадам өндөрлөтөл хамт байна гэдэгт итгэлтэй байна. II.06-07 14:00 Сноуборд. Эр. Slopestyle. Урьдчилсан үзүүлбэр.\\xa0 18:00 Сноуборд. Эм. Slopestyle. Урьдчилсан үзүүлбэр.\\xa0 22:00 Фрийстайл. Эм. Могул. Урьдчилсан үзүүлбэр 1.\\xa0 23:30 Уран гулгалт. Баг. Эрэгтэйн богино үзүүлбэр.\\xa0 01:10 Уран гулгалт. Баг. Хосын богино үзүүлбэр.\\xa0 II.07-08 00:14 Олимпийн наадмын нээлтийн ажиллагаа. II.08-09 13:30 Сноуборд. Эр. Slopestyle. Хагас шигшээ үзүүлбэр. 16:00 Хоккей. Эм. “А” хэсэг. АНУ - Финланд. 16:45 Сноуборд. Эр. Slopestyle. Шигшээ үзүүлбэр. 18:00 Гүйлтийн цана. Эм. Скиатлон. 7.5км сонгомол тэшилт + 7.5км чөлөөт тэшилтийн уралдаан. 19:30 Тэшүүр. Эр. 5000м-ийн уралдаан. 21:00 Хоккей. Эм. “А” хэсэг. Канад - Швейцарь. 22:00 Фрийстайл. Эм. Могул. Урьдчилсан үзүүлбэр 2. 22:30 Биатлон. Эр. 10 км-ийн ойрын зайн уралдаан. 22:30 Уран гулгалт. Баг. Мөсний бүжиг. Богино үзүүлбэр. 22:30 Чарга. Эр. Ганцаарчилсан. Гараа 1. 00:10 Уран гулгалт. Баг. Эмэгтэйн богино үзүүлбэр. 00:30 Цанын харайлт. Эр. Дунд толгод. Урьдчилсан харайлт.\\xa0 00:40 Чарга. Эр. Ганцаарчилсан. Гараа 2. 02:00 Фрийстайл. Эм. Могул. Шигшээ үзүүлбэр 1. 02:05 Уран гулгалт. Баг. Хосын чөлөөт үзүүлбэр. 02:35 Фрийстайл. Эм. Могул. Шигшээ үзүүлбэр 2. 03:10 Фрийстайл. Эм. Могул. Шигшээ үзүүлбэр 3. II.09-10 14:30 Сноуборд. Эм. Slopestyle. Хагас шигшээ үзүүлбэр. 15:00 Уулын цана. Эр. Уруу газар. 16:00 Хоккей. Эм. “В” хэсэг. Швед - Япон\\xa0 17:15 Сноуборд. Эм. Slopestyle. Шигшээ үзүүлбэр. 18:00 Гүйлтийн цана. Эр. Скиатлон. 15км сонгомол тэшилт +15км чөлөөт тэшилтийн уралдаан. 19:30 Тэшүүр. Эр. 3000м-ийн уралдаан. 21:00 Хоккей. Эм. “В” хэсэг. ОХУ - Герман. 22:30 Биатлон. Эм. 7.5 км-ийн ойрын зайн уралдаан. 22:30 Чарга. Эр. Ганцаарчилсан. Гараа 3. 23:00 Уран гулгалт. Баг. Эрэгтэйн чөлөөт үзүүлбэр. 00:05 Уран гулгалт. Баг. Эмэгтэйн чөлөөт үзүүлбэр. 00:40 Чарга. Эр. Ганцаарчилсан. Гараа 4. 01:10 Уран гулгалт. Баг. Мөсний бүжиг. Чөлөөт үзүүлбэр. 01:30 Цанын харайлт. Эр. Дунд толгод. Нэгдүгээр шат. 02:45 Цанын харайлт. Эр. Дунд толгод. Шигшээ шат. II.10-11 13:00 Кёрлинг. Эр. ОХУ - Их Британи. 13:00 Кёрлинг. Эр. Швейцарь - Швед. 13:00 Кёрлинг. Эр. Дани - БНХАУ. 13:00 Кёрлинг. Эр. Герман - Канад. 15:00 Уулын цана. Эм. Super Combined. Уруу газар. 17:45 Шорт-трек. Эр. 1500м. Урьдчилсан уралдаан. 18:00 Хоккей. Эм. “А” хэсэг. АНУ - Швейцарь. 18:00 Кёрлинг. Эм. БНХАУ - Канад. 18:00 Кёрлинг. Эм. Швейцарь - АНУ. 18:00 Кёрлинг. Эм. ОХУ - Дани. 18:00 Кёрлинг. Эм. Швед - Их Британи. 18:47 Шорт-трек. Эм. 500 м. Урьдчилсан уралдаан. 19:00 Уулын цана. Эм. Super Combined. Слалом. 19:04 Шорт-трек. Эр. 1500 м. Хагас шигшээ уралдаан. 19:35 Шорт-трек. Эм. 3000м-ийн буухиа. Хагас шигшээ уралдаан. 20:05 Шорт-трек. Эр. 1500 м. Шигшээ уралдаан. 21:00 Тэшүүр. Эр. 500 м-ийн уралдаан. Эхний хагас. 22:00 Фрийстайл. Эр. Могул. Урьдчилсан үзүүлбэр 1. 22:45 Чарга. Эм. Ганцаарчилсан. Гараа 1. 22:50 Фрийстайл. Эр. Могул. Урьдчилсан үзүүлбэр 2. 22:55 Тэшүүр. Эр. 500 м-ийн уралдаан. Сүүлчийн хагас. 23:00 Биатлон. Эр. 12.5км-ийн хөөх гараатай уралдаан. 23:00 Хоккей. Эм. “А” хэсэг. Финланд - Канад. 23:00 Кёрлинг. Эр. АНУ- Норвеги. 23:00 Кёрлинг. Эр. Дани - ОХУ. 23:00 Кёрлинг. Эр. Канад - Швейцарь. 23:00 Кёрлинг. Эр. Швед - Их Британи. 00:35 Чарга. Эм. Ганцаарчилсан. Гараа 2. 02:00 Фрийстайл. Эр. Могул. Шигшээ үзүүлбэр 1. 02:35 Фрийстайл. Эр. Могул. Шигшээ үзүүлбэр 2. 03:10 Фрийстайл. Эр. Могул. Шигшээ үзүүлбэр 3. II.11-12 13:00 Кёрлинг. Эм. БНСУ -Япон. 13:00 Кёрлинг. Эм. ОХУ - АНУ. 13:00 Кёрлинг. Эм. Швейцарь - Дани. 13:00 Кёрлинг. Эм. Швед - Канад. 14:00 Фрийстайл. Эм. Ski Slopestyle. Урьдчилсан үзүүлбэр.\\xa0 17:00 Фрийстайл. Эм. Ski Slopestyle. Шигшээ үзүүлбэр.\\xa0 18:00 Гүйлтийн цана. Эм. Чөлөөт тэшилтийн ойрын зайн урьдчилсан уралдаан. 18:00 Хоккей. Эм. “В” хэсэг. Герман - Швед. 18:00 Сноуборд. Эр. Halfpipe. Урьдчилсан үзүүлбэр. 18:00 Кёрлинг. Эр. Канад- Швед. 18:00 Кёрлинг. Эр. АНУ - БНХАУ. 18:00 Кёрлинг. Эр. Их Британи - Герман. 18:00 Кёрлинг. Эр. Норвеги - ОХУ. 18:25 Гүйлтийн цана. Эр. Чөлөөт тэшилтийн ойрын зайн урьдчилсан уралдаан. 20:00 Гүйлтийн цана. Эм. Чөлөөт тэшилтийн ойрын зайн 1/4 шигшээ уралдаан. 20:25 Гүйлтийн цана. Эр. Чөлөөт тэшилтийн ойрын зайн 1/4 шигшээ уралдаан. 20:45 Тэшүүр. Эм. 500 м-ийн уралдаан. Эхний хагас. 20:56 Гүйлтийн цана. Эм. Чөлөөт тэшилтийн ойрын зайн хагас шигшээ уралдаан. 21:06 Гүйлтийн цана. Эр. Чөлөөт тэшилтийн ойрын зайн хагас шигшээ уралдаан. 21:22 Гүйлтийн цана. Эм. Чөлөөт тэшилтийн ойрын зайн шигшээ уралдаан. 21:30 Гүйлтийн цана. Эр. Чөлөөт тэшилтийн ойрын зайн шигшээ уралдаан. 22:34 Тэшүүр. Эм. 500м-ийн уралдаан. Сүүлчийн хагас. 22:45 Чарга. Эм. Ганцаарчилсан. Гараа 3. 23:00 Уран гулгалт. Хос. Богино үзүүлбэр. 23:00 Биатлон. Эм. 10 км-ийн хөөх гараатай уралдаан. 23:00 Хоккей. Эм. “В” хэсэг. ОХУ - Япон. 23:00 Сноуборд. Эр. Halfpipe. Хагас шигшээ үзүүлбэр. 23:00 Кёрлинг. Эм. БНСУ - Швейцарь. 23:00 Кёрлинг. Эм. Их Британи - АНУ. 23:00 Кёрлинг. Эм. БНХАУ - ОХУ. 23:00 Кёрлинг. Эм. Дани - Япон. 00:35 Чарга. Эм. Ганцаарчилсан. Гараа 4. 01:30 Сноуборд. Эр. Halfpipe. Шигшээ үзүүлбэр. 01:30 Цанын харайлт. Эм. Дунд толгод. Нэгдүгээр шат.\\xa0 02:45 Цанын харайлт. Эм. Дунд толгод. Шигшээ шат. II.12-13 13:00 Кёрлинг. Эр. Дани - АНУ 13:00 Кёрлинг. Эр. Норвеги - Герман 13:00 Кёрлинг. Эр. БНХАУ - Швейцарь. 15:00 Уулын цана. Эм. Уруу газар. 16:00 Хоккей. Эм. “А” хэсэг. Швейцарь - Финланд. 16:00 Хоккей. Эм. “В” хэсэг. Япон - Герман. 17:30 Цанын хоёр төрөлт. Дунд толгод/10 км-ийн уралдаан. Харайлт. 18:00 Сноуборд. Эм. Halfpipe. Урьдчилсан үзүүлбэр. 18:00 Кёрлинг. Эм. АНУ - БНХАУ. 18:00 Кёрлинг. Эм. БНСУ - Швед. 18:00 Кёрлинг. Эм. Япон - ОХУ. 18:00 Кёрлинг. Эм. Канад - Их Британи. 20:30 Хоккей. Эм. “А” хэсэг. Канад - АНУ. 20:30 Цанын хоёр төрөлт. Дунд толгод/10 км-ийн уралдаан. Уралдаан. 22:00 Тэшүүр. Эр. 1000 м-ийн уралдаан. 22:15 Чарга. Эрэгтэй хос. Гараа 1. 23:00 Сноуборд. Эм. Halfpipe. Хагас шигшээ үзүүлбэр. 23:00 Кёрлинг. Эр. Герман - БНХАУ. 23:00 Кёрлинг. Эр. Швейцарь - Их Британи. 23:00 Кёрлинг. Эр. ОХУ - Канад. 23:00 Кёрлинг. Эр. Дани - Швед. 23:45 Уран гулгалт. Хос. Чөлөөт үзүүлбэр. \\xa0 23:45 Чарга. Эрэгтэй хос. Гараа 2. 23:45 Чарга. Эрэгтэй хос. Гараа 2. 01:00 Хоккей. Эр. “С” хэсэг. Чех - Швед. 01:00 Хоккей. Эр. “С” хэсэг. Латви - Швейцарь.\\xa0 01:00 Хоккей. Эм. “В” хэсэг. Швед - ОХУ. 01:30 Сноуборд. Эм. Halfpipe. Шигшээ үзүүлбэр.\\xa0 II.13-14 09:00 Кёрлинг. Эм. БНХАУ - Их Британи. 09:00 Кёрлинг. Эм. Канад-Дани. 09:00 Кёрлинг. Эм. Швейцарь - Швед. 14:15 Фрийстайл. Эр. Ski Slopestyle. Урьдчилсан үзүүлбэр. 15:30 Скелетон. Эм. Гараа 1. 16:00 Хоккей. Эр. “В” хэсэг. Финланд - Австри. 16:40 Скелетон. Эм. Гараа 2. 17:30 Фрийстайл. Эр. Ski Slopestyle. Шигшээ үзүүлбэр. 18:00 Гүйлтийн цана. Эм. Сонгомол тэшилтийн 10 км-ийн уралдаан. 18:00 Кёрлинг. Эр. Швейцарь - ОХУ. 18:00 Кёрлинг. Эр. Канад- Дани. 18:00 Кёрлинг. Эр. Норвеги - Швед. 18:00 Кёрлинг. Эр. Их Британи - АНУ. 18:00 Шорт-трек. Эм. 500м. 1/4 шигшээ уралдаан. 18:25 Шорт-трек. Эр. 1000м. Урьдчилсан уралдаан. 19:10 Шорт-трек. Эм. 500м. Хагас шигшээ уралдаан. 19:31 Шорт-трек. Эр. 5000м-ийн буухиа. Хагас шигшээ уралдаан. 2 0:05 Шорт-трек. Эм. 500м. Шигшээ уралдаан. 20:30 Хоккей. Эр. “А” хэсэг. ОХУ - Словени. 20:30 Хоккей. Эр. “А” хэсэг. Словак - АНУ. 22:00 Биатлон. Эр. 20км ганцаарчилсан уралдаан.\\xa0 22:00 Тэшүүр. Эм. 1000м-ийн уралдаан. 23:00 Уран гулгалт. Эр. Богино үзүүлбэр. 23:00 Кёрлинг. Эм. Швейцарь - Канад. 23:00 Кёрлинг. Эм. Япон - АНУ. 23:00 Кёрлинг. Эм. ОХУ- БНСУ. 23:00 Кёрлинг. Эм. Швед-Дани. 00:15 Чарга. Багийн буухиа тэмцээн. 01:00 Хоккей. Эр. “В” хэсэг. Канад - Норвеги. 13:00 Кёрлинг. Эр. Швед - БНХАУ. 13:00 Кёрлинг. Эр. АНУ - Герман. 13:00 Кёрлинг. Эр. Канад - Норвеги. 15:00 Уулын цана. Эр. Super Combined. Уруу газар. II.14-15 16:00 Хоккей. Эр. “С” хэсэг. Чех - Латви.\\xa0 18:00 Гүйлтийн цана. Эр. Сонгомол тэшилтийн 15 км-ийн уралдаан. 18:00 Кёрлинг. Эм. Их Британи -Япон. 18:00 Кёрлинг. Эм. БНСУ - БНХАУ. 18:00 Кёрлинг. Эм. ОХУ - Швейцарь. 19:30 Уулын цана. Эр. Super Combined. Слалом. 20:30 Хоккей. Эр. “С” хэсэг. Швед - Швейцарь. 20:30 Скелетон. Эр. Гараа 1. 21:45 Фрийстайл. Эм. Aerials. Урьдчилсан үзүүлбэр 1. 22:00 Биатлон. Эм. 15 км ганцаарчилсан уралдаан. 22:05 Скелетон. Эр. Гараа 2. 22:30 Фрийстайл. Эм. Aerials. Урьдчилсан үзүүлбэр 2. 23:00 Уран гулгалт. Эр. Чөлөөт үзүүлбэр. 23:00 Кёрлинг. Эр. Их Британи - Дани. 23:00 Кёрлинг. Эр. ОХУ - АНУ. 23:00 Кёрлинг. Эр. БНХАУ - Норвеги. 23:00 Кёрлинг. Эр. Швейцарь - Герман. 23:40 Скелетон. Эм. Гараа 3. 00:51 Скелетон. Эм. Гараа 4. 01:00 Хоккей. Эр. “В” хэсэг. Канад - Австри. 01:00 Хоккей. Эр. “В” хэсэг. Норвеги - Финланд. 01:30 Цанын харайлт. Эр. Том толгод. Урьдчилсан харайлт.\\xa0 01:30 Фрийстайл. Эм. Aerials. Шигшээ үзүүлбэр 1. 01:55 Фрийстайл. Эм. Aerials. Шигшээ үзүүлбэр 2. 02:12 Фрийстайл. Эм. Aerials. Шигшээ үзүүлбэр 3. II.16-16 13:00 Кёрлинг. Эм. Канад - Япон. 13:00 Кёрлинг. Эм. БНХАУ - Швед. 13:00 Кёрлинг. Эм. Их Британи - БНСУ. 15:00 Уулын цана. Эм. Super G. 16:00 Хоккей. Эр. “А” хэсэг. Словак - Словени. 18:00 Гүйлтийн цана. Эм. 4x5 км-ийн буухиа уралдаан.\\xa0 18:00 Кёрлинг. Эр. Швед- Герман. 18:00 Кёрлинг. Эр. Дани - Швейцарь. 18:00 Кёрлинг. Эр. Канад - Их Британи. 18:00 Кёрлинг. Эр. ОХУ - БНХАУ. 18:00 Шорт-трек. Эм. 1500м. Урьдчилсан уралдаан.\\xa0 18:43 Шорт-трек. Эр. 1000м. 1/4 шигшээ уралдаан.\\xa0 19:12 Шорт-трек. Эм. 1500м. Хагас шигшээ уралдаан.\\xa0 19:43 Шорт-трек. Эм. 1000м. Хагас шигшээ уралдаан.\\xa0 20:06 Шорт-трек. Эм. 1500м. Шигшээ уралдаан. 20:20 Шорт-трек. Эр. 1000м. Шигшээ уралдаан. 20:30 Хоккей. Эр. “А” хэсэг. АНУ - ОХУ. 21:30 Тэшүүр. Эр. 1500м-ийн уралдаан. 22:45 Скелетон. Эр. Гараа 3. 23:00 Кёрлинг. Эм. Канад - ОХУ. 23:00 Кёрлинг. Эм. АНУ - Швед. 23:00 Кёрлинг. Эм. Их Британи - Швейцарь. 23:00 Кёрлинг. Эм. Дани - БНХАУ. 00:16 Скелетон. Эр. Гараа 4. 01:00 Хоккей. Эр. “С” хэсэг. Швейцарь - Чех. 01:00 Хоккей. Эр. “С” хэсэг. Швед - Латви. 01:30 Цанын харайлт. Эр. Том толгод. Нэгдүгээр шат.\\xa0 02:45 Цанын харайлт. Эр. Том толгод. Шигшээ шат. II.16-17 13:00 Кёрлинг. Эр. АНУ- Канад. 13:00 Кёрлинг. Эр. Их Британи - Норвеги. 13:00 Кёрлинг. Эр. Швед - ОХУ. 15:00 Уулын цана. Эр. Super G. 16:00 Хоккей. Эр. “В” хэсэг. Австри - Норвеги. 16:00 Хоккей. Эм. 1/4 шигшээ тоглолт. А4 - В1. 17:15 Сноуборд. Эм. Cross. 1/4 шигшээ үзүүлбэр. 17:30 Сноуборд. Эм. Cross. Хагас шигшээ үзүүлбэр.\\xa0 18:00 Гүйлтийн цана. Эр. 4x10км-ийн буухиа уралдаан.\\xa0 18:00 Кёрлинг. Эм. АНУ - Канад. 18:00 Кёрлинг. Эм. Швед - ОХУ. 18:00 Кёрлинг. Эм. Дани - БНСУ. 18:00 Кёрлинг. Эм. Япон - Швейцарь. 20:30 Хоккей. Эр. “А” хэсэг. ОХУ - Словак. 20:30 Хоккей. Эр. “А” хэсэг. Словени - АНУ\\xa0 22:00 Тэшүүр. Эм. 1500м-ийн уралдаан. 23:00 Уран гулгалт. Мөсний бүжиг. Богино үзүүлбэр. 23:00 Биатлон. Эр. 15км-ийн бөөн гараатай уралдаан. 23:00 Кёрлинг. Эр. Норвеги - Швейцарь. 23:00 Кёрлинг. Эр. БНХАУ - Канад. 23:00 Кёрлинг. Эр. Герман - Дани. 23:00 Кёрлинг. Эр. АНУ - Швед. 0Q:15 Бобслей. Эр хос. Гараа 1. 01:00 Хоккей. Эр. “В” хэсэг. Финланд - Канад. 01:00 Хоккей. Эм. 1/4 шигшээ тоглолт. A3 - В2.\\xa0 01:40 Сноуборд. Эм. Cross. Шигшээ үзүүлбэр.\\xa0 01:50 Бобслей. Эр хос. Гараа 2. II.16-17 13:00 Кёрлинг. Эм. БНСУ - АНУ. 13:00 Кёрлинг. Эм. ОХУ - Их Британи. 13:00 Кёрлинг. Эм. Япон - БНХАУ. 17:30 Сноуборд. Эр. Cross. 1/8 шигшээ үзүүлбэр. 17:52 Сноуборд. Эр. Cross. 1/4 шигшээ үзүүлбэр.\\xa0 18:00 Кёрлинг. Эр. БНХАУ - Их Британи. 18:00 Кёрлинг. Эр. Герман - ОХУ. 18:00 Кёрлинг. Эр. Швейцарь - АНУ. 18:00 Кёрлинг. Эр. Норвеги - Дани. 18:04 Сноуборд. Эр. Cross. Хагас шигшээ үзүүлбэр.\\xa0 18:12 Сноуборд. Эр. Cross. Шигшээ үзүүлбэр. 20:30 Хоккей. Эм. Хагас шигшээ тоглолт. А1 - A4/B1.\\xa0 21:45 Фрийстайл. Эр. Aerials. Урьдчилсан үзүүлбэр 1. 22:30 Фрийстайл. Эр. Aerials. Урьдчилсан үзүүлбэр 2.\\xa0 22:30 Бобслей. Эр хос. Гараа 3. 23:00 Уран гулгалт. Мөсний бүжиг. Чөлөөт үзүүлбэр.\\xa0 23:00 Биатлон. Эм. 12.5 км-ийн бөөн гараатай уралдаан.\\xa0 23:00 Кёрлинг. Эм. БНХАУ - Швейцарь. 23:00 Кёрлинг. Эм. Дани - Их Британи. 23:00 Кёрлинг. Эм. Швед - Япон. 23:00 Кёрлинг. Эм. Канад- БНСУ. 00:05 Бобслей. Эр хос. Гараа 4. 01:00 Хоккей. Эм. Хагас шигшээ тоглолт. А2 - АЗ/В2. 01:15 Цанын харайлт. Эр. Багийн харайлт. Нэгдүгээр шат.\\xa0 01:30 Фрийстайл. Эр. Aerials. Шигшээ үзүүлбэр 1. 01:55 Фрийстайл. Эр. Aerials. Шигшээ үзүүлбэр 2. 02:12 Фрийстайл. Эр. Aerials. Шигшээ үзүүлбэр 3. 02:22 Цанын харайлт. Эр. Багийн харайлт. Шигшээ шат. II.18-19 15:00 Уулын цана. Эм. Giant Slalom. Гараа 1 16:00 Хоккей. Эр. 1/8 шигшээ тоглолт. VIII - IX. 17:30 Цанын хоёр төрөлт. Их толгод/10 км-ийн уралдаан. Харайлт. 17:30 Шорт-трек. Эм. 1000м. Урьдчилсан уралдаан. 18:15 Шорт-трек. Эр. 500м. Урьдчилсан уралдаан. 18:30 Уулын цана. Эм. Giant Slalom. Гараа 2. 18:54 Шорт-трек. Эм. 3000м-ийн буухиа. Шигшээ уралдаан\\xa0 20:00 Цанын хоёр төрөлт. Их толгод/10 км-ийн уралдаан. Уралдаан. 20:30 Хоккей. Эр. 1/8 шигшээ тоглолт. V -XII. 21:00 Тэшүүр. Эр. 10000м-ийн уралдаан. 21:45 Фрийстайл. Эр. Halfpipe. Урьдчилсан үзүүлбэр. 23:15 Бобслей. Эм хос. Гараа 1. 00:23 Бобслей. Эм хос. Гараа 2. 01:00 Хоккей. Эр. 1/8 шигшээ тоглолт. VI - XI. 01:00 Хоккей. Эр. 1/8 шигшээ тоглолт. VII - X. 01:30 Фрийстайл. Эр. Halfpipe. Шигшээ үзүүлбэр. II.19-20 13:15 Сноуборд. Эм. Parallel Giant Slalom. Урьдчилсан үзүүлбэр.\\xa0 13:42 Сноуборд. Эр. Parallel Giant Slalom. Урьдчилсан үзүүлбэр.\\xa0 15:00 Уулын цана. Эр. Giant Slalom. Гараа 1. 16:00 Хоккей. Эр. 1/4 шигшээ тоглолт. I - VIII/IX. 17:00 Сноуборд. Эм. Parallel Giant Slalom. 1/8 шигшээ үзүүлбэр.\\xa0 17:12 Сноуборд. Эр. Parallel Giant Slalom. 1/8 шигшээ үзүүлбэр.\\xa0 17:15 Гүйлтийн цана. Эм. Сонгомол тэшилтийн багийн ойрын зайн хагас шигшээ уралдаан. 17:48 Сноуборд. Эм. Parallel Giant Slalom. 1/4 шигшээ үзүүлбэр.\\xa0 17:54 Сноуборд. Эр. Parallel Giant Slalom. 1/4 шигшээ үзүүлбэр.\\xa0 18:00 Кёрлинг. Эм. Хагас шигшээ тоглолт. 18:00 Кёрлинг. Эм. Хагас шигшээ тоглолт. 18:06 Гүйлтийн цана. Эр. Сонгомол тэшилтийн багийн ойрын зайн хагас шигшээ уралдаан. 18:15 Сноуборд. Эм. Parallel Giant Slalom. Хагас шигшээ үзүүлбэр.\\xa0 18:18 Сноуборд. Эр. Parallel Giant Slalom. Хагас үзүүлбэр. 18:30 Уулын цана. Эр. Giant Slalom. Гараа 2. 18:31 Сноуборд. Эм. Parallel Giant Slalom. Шигшээ үзүүлбэр. 18:35 Сноуборд. Эр. Parallel Giant Slalom. Шигшээ үзүүлбэр. 19:45 Гүйлтийн цана. Эм. Сонгомол тэшилтийн багийн ойрын зайн шигшээ уралдаан. 20:15 Гүйлтийн цана. Эр. Сонгомол тэшилтийн багийн ойрын зайн шигшээ уралдаан. 20:30 Хоккей. Эр. 1/4 шигшээ тоглолт. IV - V/XII. 21:30 Тэшүүр. Эм. 5000м-ийн уралдаан. 22:30 Биатлон. Холимогхос. 4x6 (7.5) км-ийн буухиа уралдаан. 23:00 Уран гулгалт. Эм. Богино үзүүлбэр. 23:00 Кёрлинг. Эр. Хагас шигшээ тоглолт. 23:00 Кёрлинг. Эр. Хагас шигшээ тоглолт. 00:15 Бобслей. Эм хос. Гараа 3. 01:00 Хоккей. Эр. 1/4 шигшээ тоглолт. Ill - VI/XL\\xa0 01:00 Хоккей. Эр. 1/4 шигшээ тоглолт. II - VII/X.\\xa0 01:23 Бобслей. Эм хос. Гараа 4. II.20-21 16:00 Цанын хоёр төрөлт. Багийн тэмцээн. Их толгод/4х5 км-ийн уралдаан. Харайлт. 16:30 Кёрлинг. Эм. Хүрэл медаль. 17:30 Фрийстайл. Эр. Ski Cross. 1/8 шигшээ үзүүлбэр.\\xa0 18:05 Фрийстайл. Эр. Ski Cross. 1/4 шигшээ үзүүлбэр.\\xa0 18:25 Фрийстайл. Эр. Ski Cross. Хагас шигшээ үзүүлбэр.\\xa0 18:41 Фрийстайл. Эр. Ski Cross. Шигшээ үзүүлбэр. 19:00 Цанын хоёр төрөлт. Багийн тэмцээн. Их толгод/4х5 км-ийн уралдаан. Уралдаан. 20:00 Хоккей. Эм. Хүрэл медаль. 21:30 Кёрлинг. Эм. Шигшээ тоглолт. 22:30 Фрийстайл. Эм. Ski Halfpipe. Урьдчилсан үзүүлбэр.\\xa0 23:00 Уран гулгалт. Эм. Чөлөөт үзүүлбэр. 01:00 Хоккей. Эм. Шигшээ тоглолт. 01:30 Фрийстайл. Эм. Ski Halfpipe. Шигшээ үзүүлбэр. II.21-22 16:30 Кёрлинг. Эр. Хүрэл медаль. 17:30 Фрийстайл. Эм. Ski Cross. 1/8 шигшээ үзүүлбэр. 18:05 Фрийстайл. Эм. Ski Cross. 1/4 шигшээ үзүүлбэр. 18:25 Фрийстайл. Эм. Ski Cross. Хагас шигшээ үзүүлбэр. 18:41 Фрийстайл. Эм. Ski Cross. Шигшээ үзүүлбэр. 20:00 Хоккей. Эр. Хагас шигшээ тоглолт. 20:45 Уулын цана. Эм. Слалом. Гараа 1. 21:30 Кёрлинг. Эр. Шигшээ тоглолт. 21:30 Тэшүүр. Эр. Багийн хөөх гараатай 1/4 шигшээ уралдаан.\\xa0 22:23 Тэшүүр. Эм. Багийн хөөх гараатай 1/4 шигшээ уралдаан.\\xa0 22:30 Биатлон. Эм. 4x6 км-ийн буухиа уралдаан. 23:00 Уулын цана. Эм. Слалом. Гараа 2. 23:13 Тэшүүр. Эр. Багийн хөөх гараатай хагас шигшээ уралдаан.\\xa0 00:30 Шорт-трек. Эр. 500м. 1/4 шигшээ уралдаан. 00:44 Шорт-трек. Эм. 1000м. 1/4 шигшээ уралдаан. 01:00 Хоккей. Эр. Хагас шигшээ тоглолт. 01:13 Шорт-трек. Эр. 500м. Хагас шигшээ уралдаан. 01:21 Шорт-трек. Эм. 1000м. Хагас шигшээ уралдаан. 01:43 Шорт-трек. Эр. 500м. Шигшээ уралдаан. 01:53 Шорт-трек. Эм. 1000м. Шигшээ уралдаан. 02:18 Шорт-трек. Эр. 5000м-ийн буухиа. Шигшээ уралдаан. II.22-23 13:15 Сноуборд. Эм. Parallel Slalom. Урьдчилсан үзүүлбэр. 13:42 Сноуборд. Эр. Parallel Slalom. Урьдчилсан үзүүлбэр. 17:15 Сноуборд. Эм. Parallel Slalom. 1/8 шигшээ үзүүлбэр. 17:27 Сноуборд. Эр. Parallel Slalom. 1/8 шигшээ үзүүлбэр. 17:30 Гүйлтийн цана. Эм. Чөлөөт тэшилтийн бөөн гараат 30 км-ийн уралдаан. 18:03 Сноуборд. Эм. Parallel Slalom. 1/4 шигшээ үзүүлбэр. 18:09 Сноуборд. Эр. Parallel Slalom. 1/4 шигшээ үзүүлбэр. 18:30 Сноуборд. Эм. Parallel Slalom. Хагас шигшээ үзүүлбэр.\\xa0 18:33 Сноуборд. Эр. Parallel Slalom. Хагас шигшээ үзүүлбэр. 18:46 Сноуборд. Эм. Parallel Slalom. Шигшээ үзүүлбэр. 18:50 Сноуборд. Эр. Parallel Slalom. Шигшээ үзүүлбэр. 20:45 Уулын цана. Эр. Слалом. Гараа 1. 21:30 Тэшүүр. Эм. Багийн хөөх гараатай хагас шигшээ уралдаан.\\xa0 21:51 Тэшүүр. Эр. Багийн хөөх гараатай шигшээ уралдаан. 22:14 Тэшүүр. Эм. Багийн хөөх гараатай шигшээ уралдаан. 22:30 Биатлон. Эр. 4x7.5 км-ийн буухиа уралдаан. 23:00 Хоккей. Эр. Хүрэл медаль. 23:00 Уулын цана. Эр. Слалом. Гараа 2. 00:30 Бобслей. Эр дөрвөл. Гараа 1. 02:00 Бобслей. Эр дөрвөл. Гараа 2. II.23-24 15:00 Гүйлтийн цана. Эр. Чөлөөт тэшилтийн бөөн гараат 50 км-ийн уралдаан. 17:30 Бобслей. Эр дөрвөл. Гараа 3. 19:00 Бобслей. Эр дөрвөл. Гараа 4. 20:00 Хоккей. Эр. Шигшээ тоглолт. 00:00 Олимпийн наадмын хаалтын ажиллагаа.')"
            ]
          },
          "metadata": {
            "tags": []
          },
          "execution_count": 16
        }
      ]
    },
    {
      "cell_type": "code",
      "metadata": {
        "id": "zy3rONa3STPq"
      },
      "source": [
        "from transformers import pipeline, AutoTokenizer, AutoModelForMaskedLM, AutoModelForSequenceClassification, TrainingArguments, Trainer"
      ],
      "execution_count": null,
      "outputs": []
    },
    {
      "cell_type": "code",
      "metadata": {
        "id": "iJttjMP3pSND",
        "colab": {
          "base_uri": "https://localhost:8080/",
          "height": 262,
          "referenced_widgets": [
            "3f46e58fe36b4cad89a34237f02e71d3",
            "375b32045c4848d09b18c2dd86008394",
            "a12fdba142be4cbdbb74596a3993a808",
            "db4c7512fa95438ab5f8ac800f5167fd",
            "e6beaf3e21cd4373ad1c178cafd5cd42",
            "78cfcdcde1764e18b9f26328b7e69a73",
            "ed090a903efa438eb144b293665dd580",
            "6ae3eb92d9794b2486091bb73538e646",
            "9cc3a73644df4d37ab41d8f471e115ff",
            "204f1e37fd54415f9891635968995cfd",
            "9ca5e7868df54a96aa2bf9074f4a4297",
            "a45a03c430e04bbfa7bb1be8021cbd9c",
            "9b2aa82b133e41a4805b75f6e81ec187",
            "06a9b5aab60b428a898e3b6187facb70",
            "cd6ccc3f229b4fe48efc29619d6948a3",
            "1fc917543f7349108a0c4fb1a34d4db4",
            "6730b25f2ecf415390c733106333eb48",
            "27413c9cae63496ca09b1e5bddcd706e",
            "0063b321822e402d88463a7a71487523",
            "7b75e74f6cb142b8b18ee7e18aea5014",
            "6f427f0dcef0450b94641e82d21b0bce",
            "0f4cd8a439ac43c2b8b7b8aca1bbf7c6",
            "6f8e065a32914683bc656e278dd312e7",
            "3753dedeeea047568e9bfcafc6af2ec1",
            "2ff3cafcad2245be837fc890ff7118d7",
            "ab09884883854e26b4c42cb148a54356",
            "e317c09f31d54a379720e9bd60dae1ae",
            "a85b75b132374067a305ee7fdbbec7fb",
            "57937b379fe644d4bb8f545b3a063a8f",
            "8e1ee576126347bc9a14689b35f56cc2",
            "ac4db0d5a1504b4f80c27d09bc79286f",
            "c522160e52cd4c1e9269de91855d31bd",
            "66540989aed14eb9bbca7441008e8823",
            "973bc3a428aa44dc88dbb120177edfa6",
            "00bd1fed7cf640698548b55cf60c7d03",
            "06f1946001c04d23b4e6c01fbd13bce7",
            "e81a343509cf4a3f9f4d04d47ee3d522",
            "7dba4ed20e5042b9937916ea8b7f3b44",
            "d70842b806ae4db9a1b912f3f5151675",
            "9843fc673dc74c8daced18492499da19"
          ]
        },
        "outputId": "e319752c-5acb-401f-ef3e-24084746bbe2"
      },
      "source": [
        "tokenizer = AutoTokenizer.from_pretrained('tugstugi/bert-base-mongolian-uncased', use_fast=True)"
      ],
      "execution_count": null,
      "outputs": [
        {
          "output_type": "display_data",
          "data": {
            "application/vnd.jupyter.widget-view+json": {
              "model_id": "3f46e58fe36b4cad89a34237f02e71d3",
              "version_minor": 0,
              "version_major": 2
            },
            "text/plain": [
              "HBox(children=(FloatProgress(value=0.0, description='Downloading', max=508.0, style=ProgressStyle(description_…"
            ]
          },
          "metadata": {
            "tags": []
          }
        },
        {
          "output_type": "stream",
          "text": [
            "\n"
          ],
          "name": "stdout"
        },
        {
          "output_type": "display_data",
          "data": {
            "application/vnd.jupyter.widget-view+json": {
              "model_id": "9cc3a73644df4d37ab41d8f471e115ff",
              "version_minor": 0,
              "version_major": 2
            },
            "text/plain": [
              "HBox(children=(FloatProgress(value=0.0, description='Downloading', max=1007226.0, style=ProgressStyle(descript…"
            ]
          },
          "metadata": {
            "tags": []
          }
        },
        {
          "output_type": "stream",
          "text": [
            "\n"
          ],
          "name": "stdout"
        },
        {
          "output_type": "display_data",
          "data": {
            "application/vnd.jupyter.widget-view+json": {
              "model_id": "6730b25f2ecf415390c733106333eb48",
              "version_minor": 0,
              "version_major": 2
            },
            "text/plain": [
              "HBox(children=(FloatProgress(value=0.0, description='Downloading', max=16.0, style=ProgressStyle(description_w…"
            ]
          },
          "metadata": {
            "tags": []
          }
        },
        {
          "output_type": "stream",
          "text": [
            "\n"
          ],
          "name": "stdout"
        },
        {
          "output_type": "display_data",
          "data": {
            "application/vnd.jupyter.widget-view+json": {
              "model_id": "2ff3cafcad2245be837fc890ff7118d7",
              "version_minor": 0,
              "version_major": 2
            },
            "text/plain": [
              "HBox(children=(FloatProgress(value=0.0, description='Downloading', max=156.0, style=ProgressStyle(description_…"
            ]
          },
          "metadata": {
            "tags": []
          }
        },
        {
          "output_type": "stream",
          "text": [
            "\n"
          ],
          "name": "stdout"
        },
        {
          "output_type": "display_data",
          "data": {
            "application/vnd.jupyter.widget-view+json": {
              "model_id": "66540989aed14eb9bbca7441008e8823",
              "version_minor": 0,
              "version_major": 2
            },
            "text/plain": [
              "HBox(children=(FloatProgress(value=0.0, description='Downloading', max=45.0, style=ProgressStyle(description_w…"
            ]
          },
          "metadata": {
            "tags": []
          }
        },
        {
          "output_type": "stream",
          "text": [
            "\n"
          ],
          "name": "stdout"
        }
      ]
    },
    {
      "cell_type": "code",
      "metadata": {
        "colab": {
          "base_uri": "https://localhost:8080/"
        },
        "id": "4GFW5Xn0iSK9",
        "outputId": "c526326e-56b2-4196-d5d8-2b188aa1cb9b"
      },
      "source": [
        "tokenizer"
      ],
      "execution_count": null,
      "outputs": [
        {
          "output_type": "execute_result",
          "data": {
            "text/plain": [
              "PreTrainedTokenizerFast(name_or_path='tugstugi/bert-base-mongolian-uncased', vocab_size=32000, model_max_len=1000000000000000019884624838656, is_fast=True, padding_side='right', special_tokens={'bos_token': '[CLS]', 'eos_token': '[SEP]', 'unk_token': '<unk>', 'sep_token': '[SEP]', 'pad_token': '<pad>', 'cls_token': '[CLS]', 'mask_token': '[MASK]'})"
            ]
          },
          "metadata": {
            "tags": []
          },
          "execution_count": 18
        }
      ]
    },
    {
      "cell_type": "code",
      "metadata": {
        "colab": {
          "base_uri": "https://localhost:8080/"
        },
        "id": "JPNvAKMQSirW",
        "outputId": "619ddae9-bad9-42e3-d4b8-6a41c93d9ee6"
      },
      "source": [
        "tokenizer(\"Сайн байна уу?\", \"Энэ бол хоёр дахь өгүүлбэр\")"
      ],
      "execution_count": null,
      "outputs": [
        {
          "output_type": "execute_result",
          "data": {
            "text/plain": [
              "{'input_ids': [4, 107, 11, 96, 45, 5, 16, 28, 49, 150, 7417, 5], 'token_type_ids': [0, 0, 0, 0, 0, 0, 1, 1, 1, 1, 1, 1], 'attention_mask': [1, 1, 1, 1, 1, 1, 1, 1, 1, 1, 1, 1]}"
            ]
          },
          "metadata": {
            "tags": []
          },
          "execution_count": 19
        }
      ]
    },
    {
      "cell_type": "code",
      "metadata": {
        "id": "N0pRGjw0Cuin"
      },
      "source": [
        "def preprocess_function(examples):\n",
        "  return tokenizer(examples['news'], truncation=True, max_length=128)"
      ],
      "execution_count": null,
      "outputs": []
    },
    {
      "cell_type": "code",
      "metadata": {
        "colab": {
          "base_uri": "https://localhost:8080/",
          "height": 68,
          "referenced_widgets": [
            "5120a36bbdeb43aba7e270d50dfd1a58"
          ]
        },
        "id": "idqz8dgICvUu",
        "outputId": "ba1c7b1f-5a4b-4684-de74-89fd180fd486"
      },
      "source": [
        "encoded_dataset = dataset.map(preprocess_function, batched=True)"
      ],
      "execution_count": null,
      "outputs": [
        {
          "output_type": "stream",
          "text": [
            "\n"
          ],
          "name": "stdout"
        },
        {
          "output_type": "display_data",
          "data": {
            "application/vnd.jupyter.widget-view+json": {
              "model_id": "5120a36bbdeb43aba7e270d50dfd1a58",
              "version_minor": 0,
              "version_major": 2
            },
            "text/plain": [
              "HBox(children=(FloatProgress(value=0.0, max=16.0), HTML(value='')))"
            ]
          },
          "metadata": {
            "tags": []
          }
        },
        {
          "output_type": "stream",
          "text": [
            "\n"
          ],
          "name": "stdout"
        }
      ]
    },
    {
      "cell_type": "code",
      "metadata": {
        "colab": {
          "base_uri": "https://localhost:8080/"
        },
        "id": "3Avam5rfd0Qg",
        "outputId": "cdbfd30d-df89-4984-b6b4-cbe8831f55ed"
      },
      "source": [
        "encoded_dataset"
      ],
      "execution_count": null,
      "outputs": [
        {
          "output_type": "execute_result",
          "data": {
            "text/plain": [
              "DatasetDict({\n",
              "    train: Dataset({\n",
              "        features: ['attention_mask', 'input_ids', 'label', 'news', 'token_type_ids'],\n",
              "        num_rows: 60528\n",
              "    })\n",
              "    test: Dataset({\n",
              "        features: ['attention_mask', 'input_ids', 'label', 'news', 'token_type_ids'],\n",
              "        num_rows: 15133\n",
              "    })\n",
              "})"
            ]
          },
          "metadata": {
            "tags": []
          },
          "execution_count": 22
        }
      ]
    },
    {
      "cell_type": "code",
      "metadata": {
        "id": "bQ1pvH6ZdtTo"
      },
      "source": [
        "# encoded_dataset['train']['input_ids'][0]"
      ],
      "execution_count": null,
      "outputs": []
    },
    {
      "cell_type": "code",
      "metadata": {
        "colab": {
          "base_uri": "https://localhost:8080/",
          "height": 103
        },
        "id": "YZFttCWelTDM",
        "outputId": "0bb4b31c-15d0-4424-829f-72911dce03b0"
      },
      "source": [
        "dataset['train'][0]['news']"
      ],
      "execution_count": null,
      "outputs": [
        {
          "output_type": "execute_result",
          "data": {
            "application/vnd.google.colaboratory.intrinsic+json": {
              "type": "string"
            },
            "text/plain": [
              "'Манай сонин зун, өвлийн олимпийн наадам, хөлбөмбөгийн дэлхий, Европын аварга шалгаруулах тэмцээн, Азийн зуны наадам зэрэг спортын томоохон тэмцээн уралдааны өмнө хуваарийг нь уншигч та бүхэндээ өргөн барьдаг уламжлалтай билээ. Энэ удаад “Сочи-2014” өвлийн олимпийн XXII наадмын хуваарийг Улаанбаатарын цагт хөрвүүлэн хүргэж байна. Уншигч таныг энэхүү хөтөлбөртэй олимпийн наадам өндөрлөтөл хамт байна гэдэгт итгэлтэй байна. II.06-07 14:00 Сноуборд. Эр. Slopestyle. Урьдчилсан үзүүлбэр.\\xa0 18:00 Сноуборд. Эм. Slopestyle. Урьдчилсан үзүүлбэр.\\xa0 22:00 Фрийстайл. Эм. Могул. Урьдчилсан үзүүлбэр 1.\\xa0 23:30 Уран гулгалт. Баг. Эрэгтэйн богино үзүүлбэр.\\xa0 01:10 Уран гулгалт. Баг. Хосын богино үзүүлбэр.\\xa0 II.07-08 00:14 Олимпийн наадмын нээлтийн ажиллагаа. II.08-09 13:30 Сноуборд. Эр. Slopestyle. Хагас шигшээ үзүүлбэр. 16:00 Хоккей. Эм. “А” хэсэг. АНУ - Финланд. 16:45 Сноуборд. Эр. Slopestyle. Шигшээ үзүүлбэр. 18:00 Гүйлтийн цана. Эм. Скиатлон. 7.5км сонгомол тэшилт + 7.5км чөлөөт тэшилтийн уралдаан. 19:30 Тэшүүр. Эр. 5000м-ийн уралдаан. 21:00 Хоккей. Эм. “А” хэсэг. Канад - Швейцарь. 22:00 Фрийстайл. Эм. Могул. Урьдчилсан үзүүлбэр 2. 22:30 Биатлон. Эр. 10 км-ийн ойрын зайн уралдаан. 22:30 Уран гулгалт. Баг. Мөсний бүжиг. Богино үзүүлбэр. 22:30 Чарга. Эр. Ганцаарчилсан. Гараа 1. 00:10 Уран гулгалт. Баг. Эмэгтэйн богино үзүүлбэр. 00:30 Цанын харайлт. Эр. Дунд толгод. Урьдчилсан харайлт.\\xa0 00:40 Чарга. Эр. Ганцаарчилсан. Гараа 2. 02:00 Фрийстайл. Эм. Могул. Шигшээ үзүүлбэр 1. 02:05 Уран гулгалт. Баг. Хосын чөлөөт үзүүлбэр. 02:35 Фрийстайл. Эм. Могул. Шигшээ үзүүлбэр 2. 03:10 Фрийстайл. Эм. Могул. Шигшээ үзүүлбэр 3. II.09-10 14:30 Сноуборд. Эм. Slopestyle. Хагас шигшээ үзүүлбэр. 15:00 Уулын цана. Эр. Уруу газар. 16:00 Хоккей. Эм. “В” хэсэг. Швед - Япон\\xa0 17:15 Сноуборд. Эм. Slopestyle. Шигшээ үзүүлбэр. 18:00 Гүйлтийн цана. Эр. Скиатлон. 15км сонгомол тэшилт +15км чөлөөт тэшилтийн уралдаан. 19:30 Тэшүүр. Эр. 3000м-ийн уралдаан. 21:00 Хоккей. Эм. “В” хэсэг. ОХУ - Герман. 22:30 Биатлон. Эм. 7.5 км-ийн ойрын зайн уралдаан. 22:30 Чарга. Эр. Ганцаарчилсан. Гараа 3. 23:00 Уран гулгалт. Баг. Эрэгтэйн чөлөөт үзүүлбэр. 00:05 Уран гулгалт. Баг. Эмэгтэйн чөлөөт үзүүлбэр. 00:40 Чарга. Эр. Ганцаарчилсан. Гараа 4. 01:10 Уран гулгалт. Баг. Мөсний бүжиг. Чөлөөт үзүүлбэр. 01:30 Цанын харайлт. Эр. Дунд толгод. Нэгдүгээр шат. 02:45 Цанын харайлт. Эр. Дунд толгод. Шигшээ шат. II.10-11 13:00 Кёрлинг. Эр. ОХУ - Их Британи. 13:00 Кёрлинг. Эр. Швейцарь - Швед. 13:00 Кёрлинг. Эр. Дани - БНХАУ. 13:00 Кёрлинг. Эр. Герман - Канад. 15:00 Уулын цана. Эм. Super Combined. Уруу газар. 17:45 Шорт-трек. Эр. 1500м. Урьдчилсан уралдаан. 18:00 Хоккей. Эм. “А” хэсэг. АНУ - Швейцарь. 18:00 Кёрлинг. Эм. БНХАУ - Канад. 18:00 Кёрлинг. Эм. Швейцарь - АНУ. 18:00 Кёрлинг. Эм. ОХУ - Дани. 18:00 Кёрлинг. Эм. Швед - Их Британи. 18:47 Шорт-трек. Эм. 500 м. Урьдчилсан уралдаан. 19:00 Уулын цана. Эм. Super Combined. Слалом. 19:04 Шорт-трек. Эр. 1500 м. Хагас шигшээ уралдаан. 19:35 Шорт-трек. Эм. 3000м-ийн буухиа. Хагас шигшээ уралдаан. 20:05 Шорт-трек. Эр. 1500 м. Шигшээ уралдаан. 21:00 Тэшүүр. Эр. 500 м-ийн уралдаан. Эхний хагас. 22:00 Фрийстайл. Эр. Могул. Урьдчилсан үзүүлбэр 1. 22:45 Чарга. Эм. Ганцаарчилсан. Гараа 1. 22:50 Фрийстайл. Эр. Могул. Урьдчилсан үзүүлбэр 2. 22:55 Тэшүүр. Эр. 500 м-ийн уралдаан. Сүүлчийн хагас. 23:00 Биатлон. Эр. 12.5км-ийн хөөх гараатай уралдаан. 23:00 Хоккей. Эм. “А” хэсэг. Финланд - Канад. 23:00 Кёрлинг. Эр. АНУ- Норвеги. 23:00 Кёрлинг. Эр. Дани - ОХУ. 23:00 Кёрлинг. Эр. Канад - Швейцарь. 23:00 Кёрлинг. Эр. Швед - Их Британи. 00:35 Чарга. Эм. Ганцаарчилсан. Гараа 2. 02:00 Фрийстайл. Эр. Могул. Шигшээ үзүүлбэр 1. 02:35 Фрийстайл. Эр. Могул. Шигшээ үзүүлбэр 2. 03:10 Фрийстайл. Эр. Могул. Шигшээ үзүүлбэр 3. II.11-12 13:00 Кёрлинг. Эм. БНСУ -Япон. 13:00 Кёрлинг. Эм. ОХУ - АНУ. 13:00 Кёрлинг. Эм. Швейцарь - Дани. 13:00 Кёрлинг. Эм. Швед - Канад. 14:00 Фрийстайл. Эм. Ski Slopestyle. Урьдчилсан үзүүлбэр.\\xa0 17:00 Фрийстайл. Эм. Ski Slopestyle. Шигшээ үзүүлбэр.\\xa0 18:00 Гүйлтийн цана. Эм. Чөлөөт тэшилтийн ойрын зайн урьдчилсан уралдаан. 18:00 Хоккей. Эм. “В” хэсэг. Герман - Швед. 18:00 Сноуборд. Эр. Halfpipe. Урьдчилсан үзүүлбэр. 18:00 Кёрлинг. Эр. Канад- Швед. 18:00 Кёрлинг. Эр. АНУ - БНХАУ. 18:00 Кёрлинг. Эр. Их Британи - Герман. 18:00 Кёрлинг. Эр. Норвеги - ОХУ. 18:25 Гүйлтийн цана. Эр. Чөлөөт тэшилтийн ойрын зайн урьдчилсан уралдаан. 20:00 Гүйлтийн цана. Эм. Чөлөөт тэшилтийн ойрын зайн 1/4 шигшээ уралдаан. 20:25 Гүйлтийн цана. Эр. Чөлөөт тэшилтийн ойрын зайн 1/4 шигшээ уралдаан. 20:45 Тэшүүр. Эм. 500 м-ийн уралдаан. Эхний хагас. 20:56 Гүйлтийн цана. Эм. Чөлөөт тэшилтийн ойрын зайн хагас шигшээ уралдаан. 21:06 Гүйлтийн цана. Эр. Чөлөөт тэшилтийн ойрын зайн хагас шигшээ уралдаан. 21:22 Гүйлтийн цана. Эм. Чөлөөт тэшилтийн ойрын зайн шигшээ уралдаан. 21:30 Гүйлтийн цана. Эр. Чөлөөт тэшилтийн ойрын зайн шигшээ уралдаан. 22:34 Тэшүүр. Эм. 500м-ийн уралдаан. Сүүлчийн хагас. 22:45 Чарга. Эм. Ганцаарчилсан. Гараа 3. 23:00 Уран гулгалт. Хос. Богино үзүүлбэр. 23:00 Биатлон. Эм. 10 км-ийн хөөх гараатай уралдаан. 23:00 Хоккей. Эм. “В” хэсэг. ОХУ - Япон. 23:00 Сноуборд. Эр. Halfpipe. Хагас шигшээ үзүүлбэр. 23:00 Кёрлинг. Эм. БНСУ - Швейцарь. 23:00 Кёрлинг. Эм. Их Британи - АНУ. 23:00 Кёрлинг. Эм. БНХАУ - ОХУ. 23:00 Кёрлинг. Эм. Дани - Япон. 00:35 Чарга. Эм. Ганцаарчилсан. Гараа 4. 01:30 Сноуборд. Эр. Halfpipe. Шигшээ үзүүлбэр. 01:30 Цанын харайлт. Эм. Дунд толгод. Нэгдүгээр шат.\\xa0 02:45 Цанын харайлт. Эм. Дунд толгод. Шигшээ шат. II.12-13 13:00 Кёрлинг. Эр. Дани - АНУ 13:00 Кёрлинг. Эр. Норвеги - Герман 13:00 Кёрлинг. Эр. БНХАУ - Швейцарь. 15:00 Уулын цана. Эм. Уруу газар. 16:00 Хоккей. Эм. “А” хэсэг. Швейцарь - Финланд. 16:00 Хоккей. Эм. “В” хэсэг. Япон - Герман. 17:30 Цанын хоёр төрөлт. Дунд толгод/10 км-ийн уралдаан. Харайлт. 18:00 Сноуборд. Эм. Halfpipe. Урьдчилсан үзүүлбэр. 18:00 Кёрлинг. Эм. АНУ - БНХАУ. 18:00 Кёрлинг. Эм. БНСУ - Швед. 18:00 Кёрлинг. Эм. Япон - ОХУ. 18:00 Кёрлинг. Эм. Канад - Их Британи. 20:30 Хоккей. Эм. “А” хэсэг. Канад - АНУ. 20:30 Цанын хоёр төрөлт. Дунд толгод/10 км-ийн уралдаан. Уралдаан. 22:00 Тэшүүр. Эр. 1000 м-ийн уралдаан. 22:15 Чарга. Эрэгтэй хос. Гараа 1. 23:00 Сноуборд. Эм. Halfpipe. Хагас шигшээ үзүүлбэр. 23:00 Кёрлинг. Эр. Герман - БНХАУ. 23:00 Кёрлинг. Эр. Швейцарь - Их Британи. 23:00 Кёрлинг. Эр. ОХУ - Канад. 23:00 Кёрлинг. Эр. Дани - Швед. 23:45 Уран гулгалт. Хос. Чөлөөт үзүүлбэр. \\xa0 23:45 Чарга. Эрэгтэй хос. Гараа 2. 23:45 Чарга. Эрэгтэй хос. Гараа 2. 01:00 Хоккей. Эр. “С” хэсэг. Чех - Швед. 01:00 Хоккей. Эр. “С” хэсэг. Латви - Швейцарь.\\xa0 01:00 Хоккей. Эм. “В” хэсэг. Швед - ОХУ. 01:30 Сноуборд. Эм. Halfpipe. Шигшээ үзүүлбэр.\\xa0 II.13-14 09:00 Кёрлинг. Эм. БНХАУ - Их Британи. 09:00 Кёрлинг. Эм. Канад-Дани. 09:00 Кёрлинг. Эм. Швейцарь - Швед. 14:15 Фрийстайл. Эр. Ski Slopestyle. Урьдчилсан үзүүлбэр. 15:30 Скелетон. Эм. Гараа 1. 16:00 Хоккей. Эр. “В” хэсэг. Финланд - Австри. 16:40 Скелетон. Эм. Гараа 2. 17:30 Фрийстайл. Эр. Ski Slopestyle. Шигшээ үзүүлбэр. 18:00 Гүйлтийн цана. Эм. Сонгомол тэшилтийн 10 км-ийн уралдаан. 18:00 Кёрлинг. Эр. Швейцарь - ОХУ. 18:00 Кёрлинг. Эр. Канад- Дани. 18:00 Кёрлинг. Эр. Норвеги - Швед. 18:00 Кёрлинг. Эр. Их Британи - АНУ. 18:00 Шорт-трек. Эм. 500м. 1/4 шигшээ уралдаан. 18:25 Шорт-трек. Эр. 1000м. Урьдчилсан уралдаан. 19:10 Шорт-трек. Эм. 500м. Хагас шигшээ уралдаан. 19:31 Шорт-трек. Эр. 5000м-ийн буухиа. Хагас шигшээ уралдаан. 2 0:05 Шорт-трек. Эм. 500м. Шигшээ уралдаан. 20:30 Хоккей. Эр. “А” хэсэг. ОХУ - Словени. 20:30 Хоккей. Эр. “А” хэсэг. Словак - АНУ. 22:00 Биатлон. Эр. 20км ганцаарчилсан уралдаан.\\xa0 22:00 Тэшүүр. Эм. 1000м-ийн уралдаан. 23:00 Уран гулгалт. Эр. Богино үзүүлбэр. 23:00 Кёрлинг. Эм. Швейцарь - Канад. 23:00 Кёрлинг. Эм. Япон - АНУ. 23:00 Кёрлинг. Эм. ОХУ- БНСУ. 23:00 Кёрлинг. Эм. Швед-Дани. 00:15 Чарга. Багийн буухиа тэмцээн. 01:00 Хоккей. Эр. “В” хэсэг. Канад - Норвеги. 13:00 Кёрлинг. Эр. Швед - БНХАУ. 13:00 Кёрлинг. Эр. АНУ - Герман. 13:00 Кёрлинг. Эр. Канад - Норвеги. 15:00 Уулын цана. Эр. Super Combined. Уруу газар. II.14-15 16:00 Хоккей. Эр. “С” хэсэг. Чех - Латви.\\xa0 18:00 Гүйлтийн цана. Эр. Сонгомол тэшилтийн 15 км-ийн уралдаан. 18:00 Кёрлинг. Эм. Их Британи -Япон. 18:00 Кёрлинг. Эм. БНСУ - БНХАУ. 18:00 Кёрлинг. Эм. ОХУ - Швейцарь. 19:30 Уулын цана. Эр. Super Combined. Слалом. 20:30 Хоккей. Эр. “С” хэсэг. Швед - Швейцарь. 20:30 Скелетон. Эр. Гараа 1. 21:45 Фрийстайл. Эм. Aerials. Урьдчилсан үзүүлбэр 1. 22:00 Биатлон. Эм. 15 км ганцаарчилсан уралдаан. 22:05 Скелетон. Эр. Гараа 2. 22:30 Фрийстайл. Эм. Aerials. Урьдчилсан үзүүлбэр 2. 23:00 Уран гулгалт. Эр. Чөлөөт үзүүлбэр. 23:00 Кёрлинг. Эр. Их Британи - Дани. 23:00 Кёрлинг. Эр. ОХУ - АНУ. 23:00 Кёрлинг. Эр. БНХАУ - Норвеги. 23:00 Кёрлинг. Эр. Швейцарь - Герман. 23:40 Скелетон. Эм. Гараа 3. 00:51 Скелетон. Эм. Гараа 4. 01:00 Хоккей. Эр. “В” хэсэг. Канад - Австри. 01:00 Хоккей. Эр. “В” хэсэг. Норвеги - Финланд. 01:30 Цанын харайлт. Эр. Том толгод. Урьдчилсан харайлт.\\xa0 01:30 Фрийстайл. Эм. Aerials. Шигшээ үзүүлбэр 1. 01:55 Фрийстайл. Эм. Aerials. Шигшээ үзүүлбэр 2. 02:12 Фрийстайл. Эм. Aerials. Шигшээ үзүүлбэр 3. II.16-16 13:00 Кёрлинг. Эм. Канад - Япон. 13:00 Кёрлинг. Эм. БНХАУ - Швед. 13:00 Кёрлинг. Эм. Их Британи - БНСУ. 15:00 Уулын цана. Эм. Super G. 16:00 Хоккей. Эр. “А” хэсэг. Словак - Словени. 18:00 Гүйлтийн цана. Эм. 4x5 км-ийн буухиа уралдаан.\\xa0 18:00 Кёрлинг. Эр. Швед- Герман. 18:00 Кёрлинг. Эр. Дани - Швейцарь. 18:00 Кёрлинг. Эр. Канад - Их Британи. 18:00 Кёрлинг. Эр. ОХУ - БНХАУ. 18:00 Шорт-трек. Эм. 1500м. Урьдчилсан уралдаан.\\xa0 18:43 Шорт-трек. Эр. 1000м. 1/4 шигшээ уралдаан.\\xa0 19:12 Шорт-трек. Эм. 1500м. Хагас шигшээ уралдаан.\\xa0 19:43 Шорт-трек. Эм. 1000м. Хагас шигшээ уралдаан.\\xa0 20:06 Шорт-трек. Эм. 1500м. Шигшээ уралдаан. 20:20 Шорт-трек. Эр. 1000м. Шигшээ уралдаан. 20:30 Хоккей. Эр. “А” хэсэг. АНУ - ОХУ. 21:30 Тэшүүр. Эр. 1500м-ийн уралдаан. 22:45 Скелетон. Эр. Гараа 3. 23:00 Кёрлинг. Эм. Канад - ОХУ. 23:00 Кёрлинг. Эм. АНУ - Швед. 23:00 Кёрлинг. Эм. Их Британи - Швейцарь. 23:00 Кёрлинг. Эм. Дани - БНХАУ. 00:16 Скелетон. Эр. Гараа 4. 01:00 Хоккей. Эр. “С” хэсэг. Швейцарь - Чех. 01:00 Хоккей. Эр. “С” хэсэг. Швед - Латви. 01:30 Цанын харайлт. Эр. Том толгод. Нэгдүгээр шат.\\xa0 02:45 Цанын харайлт. Эр. Том толгод. Шигшээ шат. II.16-17 13:00 Кёрлинг. Эр. АНУ- Канад. 13:00 Кёрлинг. Эр. Их Британи - Норвеги. 13:00 Кёрлинг. Эр. Швед - ОХУ. 15:00 Уулын цана. Эр. Super G. 16:00 Хоккей. Эр. “В” хэсэг. Австри - Норвеги. 16:00 Хоккей. Эм. 1/4 шигшээ тоглолт. А4 - В1. 17:15 Сноуборд. Эм. Cross. 1/4 шигшээ үзүүлбэр. 17:30 Сноуборд. Эм. Cross. Хагас шигшээ үзүүлбэр.\\xa0 18:00 Гүйлтийн цана. Эр. 4x10км-ийн буухиа уралдаан.\\xa0 18:00 Кёрлинг. Эм. АНУ - Канад. 18:00 Кёрлинг. Эм. Швед - ОХУ. 18:00 Кёрлинг. Эм. Дани - БНСУ. 18:00 Кёрлинг. Эм. Япон - Швейцарь. 20:30 Хоккей. Эр. “А” хэсэг. ОХУ - Словак. 20:30 Хоккей. Эр. “А” хэсэг. Словени - АНУ\\xa0 22:00 Тэшүүр. Эм. 1500м-ийн уралдаан. 23:00 Уран гулгалт. Мөсний бүжиг. Богино үзүүлбэр. 23:00 Биатлон. Эр. 15км-ийн бөөн гараатай уралдаан. 23:00 Кёрлинг. Эр. Норвеги - Швейцарь. 23:00 Кёрлинг. Эр. БНХАУ - Канад. 23:00 Кёрлинг. Эр. Герман - Дани. 23:00 Кёрлинг. Эр. АНУ - Швед. 0Q:15 Бобслей. Эр хос. Гараа 1. 01:00 Хоккей. Эр. “В” хэсэг. Финланд - Канад. 01:00 Хоккей. Эм. 1/4 шигшээ тоглолт. A3 - В2.\\xa0 01:40 Сноуборд. Эм. Cross. Шигшээ үзүүлбэр.\\xa0 01:50 Бобслей. Эр хос. Гараа 2. II.16-17 13:00 Кёрлинг. Эм. БНСУ - АНУ. 13:00 Кёрлинг. Эм. ОХУ - Их Британи. 13:00 Кёрлинг. Эм. Япон - БНХАУ. 17:30 Сноуборд. Эр. Cross. 1/8 шигшээ үзүүлбэр. 17:52 Сноуборд. Эр. Cross. 1/4 шигшээ үзүүлбэр.\\xa0 18:00 Кёрлинг. Эр. БНХАУ - Их Британи. 18:00 Кёрлинг. Эр. Герман - ОХУ. 18:00 Кёрлинг. Эр. Швейцарь - АНУ. 18:00 Кёрлинг. Эр. Норвеги - Дани. 18:04 Сноуборд. Эр. Cross. Хагас шигшээ үзүүлбэр.\\xa0 18:12 Сноуборд. Эр. Cross. Шигшээ үзүүлбэр. 20:30 Хоккей. Эм. Хагас шигшээ тоглолт. А1 - A4/B1.\\xa0 21:45 Фрийстайл. Эр. Aerials. Урьдчилсан үзүүлбэр 1. 22:30 Фрийстайл. Эр. Aerials. Урьдчилсан үзүүлбэр 2.\\xa0 22:30 Бобслей. Эр хос. Гараа 3. 23:00 Уран гулгалт. Мөсний бүжиг. Чөлөөт үзүүлбэр.\\xa0 23:00 Биатлон. Эм. 12.5 км-ийн бөөн гараатай уралдаан.\\xa0 23:00 Кёрлинг. Эм. БНХАУ - Швейцарь. 23:00 Кёрлинг. Эм. Дани - Их Британи. 23:00 Кёрлинг. Эм. Швед - Япон. 23:00 Кёрлинг. Эм. Канад- БНСУ. 00:05 Бобслей. Эр хос. Гараа 4. 01:00 Хоккей. Эм. Хагас шигшээ тоглолт. А2 - АЗ/В2. 01:15 Цанын харайлт. Эр. Багийн харайлт. Нэгдүгээр шат.\\xa0 01:30 Фрийстайл. Эр. Aerials. Шигшээ үзүүлбэр 1. 01:55 Фрийстайл. Эр. Aerials. Шигшээ үзүүлбэр 2. 02:12 Фрийстайл. Эр. Aerials. Шигшээ үзүүлбэр 3. 02:22 Цанын харайлт. Эр. Багийн харайлт. Шигшээ шат. II.18-19 15:00 Уулын цана. Эм. Giant Slalom. Гараа 1 16:00 Хоккей. Эр. 1/8 шигшээ тоглолт. VIII - IX. 17:30 Цанын хоёр төрөлт. Их толгод/10 км-ийн уралдаан. Харайлт. 17:30 Шорт-трек. Эм. 1000м. Урьдчилсан уралдаан. 18:15 Шорт-трек. Эр. 500м. Урьдчилсан уралдаан. 18:30 Уулын цана. Эм. Giant Slalom. Гараа 2. 18:54 Шорт-трек. Эм. 3000м-ийн буухиа. Шигшээ уралдаан\\xa0 20:00 Цанын хоёр төрөлт. Их толгод/10 км-ийн уралдаан. Уралдаан. 20:30 Хоккей. Эр. 1/8 шигшээ тоглолт. V -XII. 21:00 Тэшүүр. Эр. 10000м-ийн уралдаан. 21:45 Фрийстайл. Эр. Halfpipe. Урьдчилсан үзүүлбэр. 23:15 Бобслей. Эм хос. Гараа 1. 00:23 Бобслей. Эм хос. Гараа 2. 01:00 Хоккей. Эр. 1/8 шигшээ тоглолт. VI - XI. 01:00 Хоккей. Эр. 1/8 шигшээ тоглолт. VII - X. 01:30 Фрийстайл. Эр. Halfpipe. Шигшээ үзүүлбэр. II.19-20 13:15 Сноуборд. Эм. Parallel Giant Slalom. Урьдчилсан үзүүлбэр.\\xa0 13:42 Сноуборд. Эр. Parallel Giant Slalom. Урьдчилсан үзүүлбэр.\\xa0 15:00 Уулын цана. Эр. Giant Slalom. Гараа 1. 16:00 Хоккей. Эр. 1/4 шигшээ тоглолт. I - VIII/IX. 17:00 Сноуборд. Эм. Parallel Giant Slalom. 1/8 шигшээ үзүүлбэр.\\xa0 17:12 Сноуборд. Эр. Parallel Giant Slalom. 1/8 шигшээ үзүүлбэр.\\xa0 17:15 Гүйлтийн цана. Эм. Сонгомол тэшилтийн багийн ойрын зайн хагас шигшээ уралдаан. 17:48 Сноуборд. Эм. Parallel Giant Slalom. 1/4 шигшээ үзүүлбэр.\\xa0 17:54 Сноуборд. Эр. Parallel Giant Slalom. 1/4 шигшээ үзүүлбэр.\\xa0 18:00 Кёрлинг. Эм. Хагас шигшээ тоглолт. 18:00 Кёрлинг. Эм. Хагас шигшээ тоглолт. 18:06 Гүйлтийн цана. Эр. Сонгомол тэшилтийн багийн ойрын зайн хагас шигшээ уралдаан. 18:15 Сноуборд. Эм. Parallel Giant Slalom. Хагас шигшээ үзүүлбэр.\\xa0 18:18 Сноуборд. Эр. Parallel Giant Slalom. Хагас үзүүлбэр. 18:30 Уулын цана. Эр. Giant Slalom. Гараа 2. 18:31 Сноуборд. Эм. Parallel Giant Slalom. Шигшээ үзүүлбэр. 18:35 Сноуборд. Эр. Parallel Giant Slalom. Шигшээ үзүүлбэр. 19:45 Гүйлтийн цана. Эм. Сонгомол тэшилтийн багийн ойрын зайн шигшээ уралдаан. 20:15 Гүйлтийн цана. Эр. Сонгомол тэшилтийн багийн ойрын зайн шигшээ уралдаан. 20:30 Хоккей. Эр. 1/4 шигшээ тоглолт. IV - V/XII. 21:30 Тэшүүр. Эм. 5000м-ийн уралдаан. 22:30 Биатлон. Холимогхос. 4x6 (7.5) км-ийн буухиа уралдаан. 23:00 Уран гулгалт. Эм. Богино үзүүлбэр. 23:00 Кёрлинг. Эр. Хагас шигшээ тоглолт. 23:00 Кёрлинг. Эр. Хагас шигшээ тоглолт. 00:15 Бобслей. Эм хос. Гараа 3. 01:00 Хоккей. Эр. 1/4 шигшээ тоглолт. Ill - VI/XL\\xa0 01:00 Хоккей. Эр. 1/4 шигшээ тоглолт. II - VII/X.\\xa0 01:23 Бобслей. Эм хос. Гараа 4. II.20-21 16:00 Цанын хоёр төрөлт. Багийн тэмцээн. Их толгод/4х5 км-ийн уралдаан. Харайлт. 16:30 Кёрлинг. Эм. Хүрэл медаль. 17:30 Фрийстайл. Эр. Ski Cross. 1/8 шигшээ үзүүлбэр.\\xa0 18:05 Фрийстайл. Эр. Ski Cross. 1/4 шигшээ үзүүлбэр.\\xa0 18:25 Фрийстайл. Эр. Ski Cross. Хагас шигшээ үзүүлбэр.\\xa0 18:41 Фрийстайл. Эр. Ski Cross. Шигшээ үзүүлбэр. 19:00 Цанын хоёр төрөлт. Багийн тэмцээн. Их толгод/4х5 км-ийн уралдаан. Уралдаан. 20:00 Хоккей. Эм. Хүрэл медаль. 21:30 Кёрлинг. Эм. Шигшээ тоглолт. 22:30 Фрийстайл. Эм. Ski Halfpipe. Урьдчилсан үзүүлбэр.\\xa0 23:00 Уран гулгалт. Эм. Чөлөөт үзүүлбэр. 01:00 Хоккей. Эм. Шигшээ тоглолт. 01:30 Фрийстайл. Эм. Ski Halfpipe. Шигшээ үзүүлбэр. II.21-22 16:30 Кёрлинг. Эр. Хүрэл медаль. 17:30 Фрийстайл. Эм. Ski Cross. 1/8 шигшээ үзүүлбэр. 18:05 Фрийстайл. Эм. Ski Cross. 1/4 шигшээ үзүүлбэр. 18:25 Фрийстайл. Эм. Ski Cross. Хагас шигшээ үзүүлбэр. 18:41 Фрийстайл. Эм. Ski Cross. Шигшээ үзүүлбэр. 20:00 Хоккей. Эр. Хагас шигшээ тоглолт. 20:45 Уулын цана. Эм. Слалом. Гараа 1. 21:30 Кёрлинг. Эр. Шигшээ тоглолт. 21:30 Тэшүүр. Эр. Багийн хөөх гараатай 1/4 шигшээ уралдаан.\\xa0 22:23 Тэшүүр. Эм. Багийн хөөх гараатай 1/4 шигшээ уралдаан.\\xa0 22:30 Биатлон. Эм. 4x6 км-ийн буухиа уралдаан. 23:00 Уулын цана. Эм. Слалом. Гараа 2. 23:13 Тэшүүр. Эр. Багийн хөөх гараатай хагас шигшээ уралдаан.\\xa0 00:30 Шорт-трек. Эр. 500м. 1/4 шигшээ уралдаан. 00:44 Шорт-трек. Эм. 1000м. 1/4 шигшээ уралдаан. 01:00 Хоккей. Эр. Хагас шигшээ тоглолт. 01:13 Шорт-трек. Эр. 500м. Хагас шигшээ уралдаан. 01:21 Шорт-трек. Эм. 1000м. Хагас шигшээ уралдаан. 01:43 Шорт-трек. Эр. 500м. Шигшээ уралдаан. 01:53 Шорт-трек. Эм. 1000м. Шигшээ уралдаан. 02:18 Шорт-трек. Эр. 5000м-ийн буухиа. Шигшээ уралдаан. II.22-23 13:15 Сноуборд. Эм. Parallel Slalom. Урьдчилсан үзүүлбэр. 13:42 Сноуборд. Эр. Parallel Slalom. Урьдчилсан үзүүлбэр. 17:15 Сноуборд. Эм. Parallel Slalom. 1/8 шигшээ үзүүлбэр. 17:27 Сноуборд. Эр. Parallel Slalom. 1/8 шигшээ үзүүлбэр. 17:30 Гүйлтийн цана. Эм. Чөлөөт тэшилтийн бөөн гараат 30 км-ийн уралдаан. 18:03 Сноуборд. Эм. Parallel Slalom. 1/4 шигшээ үзүүлбэр. 18:09 Сноуборд. Эр. Parallel Slalom. 1/4 шигшээ үзүүлбэр. 18:30 Сноуборд. Эм. Parallel Slalom. Хагас шигшээ үзүүлбэр.\\xa0 18:33 Сноуборд. Эр. Parallel Slalom. Хагас шигшээ үзүүлбэр. 18:46 Сноуборд. Эм. Parallel Slalom. Шигшээ үзүүлбэр. 18:50 Сноуборд. Эр. Parallel Slalom. Шигшээ үзүүлбэр. 20:45 Уулын цана. Эр. Слалом. Гараа 1. 21:30 Тэшүүр. Эм. Багийн хөөх гараатай хагас шигшээ уралдаан.\\xa0 21:51 Тэшүүр. Эр. Багийн хөөх гараатай шигшээ уралдаан. 22:14 Тэшүүр. Эм. Багийн хөөх гараатай шигшээ уралдаан. 22:30 Биатлон. Эр. 4x7.5 км-ийн буухиа уралдаан. 23:00 Хоккей. Эр. Хүрэл медаль. 23:00 Уулын цана. Эр. Слалом. Гараа 2. 00:30 Бобслей. Эр дөрвөл. Гараа 1. 02:00 Бобслей. Эр дөрвөл. Гараа 2. II.23-24 15:00 Гүйлтийн цана. Эр. Чөлөөт тэшилтийн бөөн гараат 50 км-ийн уралдаан. 17:30 Бобслей. Эр дөрвөл. Гараа 3. 19:00 Бобслей. Эр дөрвөл. Гараа 4. 20:00 Хоккей. Эр. Шигшээ тоглолт. 00:00 Олимпийн наадмын хаалтын ажиллагаа.'"
            ]
          },
          "metadata": {
            "tags": []
          },
          "execution_count": 28
        }
      ]
    },
    {
      "cell_type": "code",
      "metadata": {
        "id": "aIZ430nIas83",
        "colab": {
          "base_uri": "https://localhost:8080/",
          "height": 115,
          "referenced_widgets": [
            "00b4890b400d41ce9f94528e972e2d6e",
            "8b783019ee4e4b649a78f6bbcaff2f95",
            "1a5a3396020641bda07e53620a776f39",
            "6a3ef1257b5b47a39a987614388fc06f",
            "bacf89e6d0cf461bbe54f8ecf91bdad8",
            "0cdf82a7b51e401490a8e914a79a18a7",
            "6cf126aed4964627bdb6441c0fd3e14f",
            "811baf8b339a47659eeb0b9bc7663b0d",
            "50297d277b764684b00287cebff3d4f2",
            "5855dc6ea2c947e9a9525dd07d754d09",
            "1365c18370ed409ea29877265f8ba1c9",
            "5cf9cf27b4804b7ca9339816aa375a65",
            "e45fa4fd7ac648c08fce4f2387c961cc",
            "8c285e39730f41058be448d7a2f80379",
            "a8fca2959214473f80e6973b79f0f0ca",
            "b29f9e6de3d54318961209b7984dae38"
          ]
        },
        "outputId": "607d8441-adeb-435e-9d25-e01c8e84c3de"
      },
      "source": [
        "mlm = AutoModelForMaskedLM.from_pretrained('tugstugi/bert-base-mongolian-cased')"
      ],
      "execution_count": null,
      "outputs": [
        {
          "output_type": "display_data",
          "data": {
            "application/vnd.jupyter.widget-view+json": {
              "model_id": "00b4890b400d41ce9f94528e972e2d6e",
              "version_minor": 0,
              "version_major": 2
            },
            "text/plain": [
              "HBox(children=(FloatProgress(value=0.0, description='Downloading', max=508.0, style=ProgressStyle(description_…"
            ]
          },
          "metadata": {
            "tags": []
          }
        },
        {
          "output_type": "stream",
          "text": [
            "\n"
          ],
          "name": "stdout"
        },
        {
          "output_type": "display_data",
          "data": {
            "application/vnd.jupyter.widget-view+json": {
              "model_id": "50297d277b764684b00287cebff3d4f2",
              "version_minor": 0,
              "version_major": 2
            },
            "text/plain": [
              "HBox(children=(FloatProgress(value=0.0, description='Downloading', max=445016569.0, style=ProgressStyle(descri…"
            ]
          },
          "metadata": {
            "tags": []
          }
        },
        {
          "output_type": "stream",
          "text": [
            "\n"
          ],
          "name": "stdout"
        }
      ]
    },
    {
      "cell_type": "code",
      "metadata": {
        "id": "NTWVoJC-a34r",
        "colab": {
          "base_uri": "https://localhost:8080/"
        },
        "outputId": "dd5de9a9-c385-4bf4-bb8f-80a9b28a17d5"
      },
      "source": [
        "## declare task ##\n",
        "pipe = pipeline(task=\"fill-mask\", model=mlm, tokenizer=tokenizer)\n",
        "\n",
        "## example ##\n",
        "input_  = 'Монгол бол [MASK] онцлогтой улс'\n",
        "\n",
        "output_ = pipe(input_)\n",
        "for i in range(len(output_)):\n",
        "    print(output_[i])"
      ],
      "execution_count": null,
      "outputs": [
        {
          "output_type": "stream",
          "text": [
            "{'sequence': 'монгол бол  таараа онцлогтой улс', 'score': 0.5089596509933472, 'token': 14462, 'token_str': 'таараа'}\n",
            "{'sequence': 'монгол бол  мэдрэлийн онцлогтой улс', 'score': 0.14659366011619568, 'token': 6011, 'token_str': 'мэдрэлийн'}\n",
            "{'sequence': 'монгол бол  үеэ онцлогтой улс', 'score': 0.037332162261009216, 'token': 6203, 'token_str': 'үеэ'}\n",
            "{'sequence': 'монгол бол  мүхаүт онцлогтой улс', 'score': 0.03441431000828743, 'token': 9468, 'token_str': 'мүхаүт'}\n",
            "{'sequence': 'монгол бол тай онцлогтой улс', 'score': 0.031810462474823, 'token': 55, 'token_str': 'тай'}\n"
          ],
          "name": "stdout"
        }
      ]
    },
    {
      "cell_type": "code",
      "metadata": {
        "colab": {
          "base_uri": "https://localhost:8080/",
          "height": 171,
          "referenced_widgets": [
            "82b3604d9d9e4308b08a849b1b41033e",
            "90853e3a7c624026a980bcac49b74d66",
            "19d1f6c5618e4ae9ad59a8f08a31590d",
            "7000ff010fa048da80ad9c7d53f12919",
            "264b6485c4f241439b1efae968184f60",
            "bf8d770c9c7b46da83cda37deb5f1d6d",
            "eeb50d5a918e416b9431e5e17b3b29b2",
            "5f2ec247d286472082b8b036c496118b"
          ]
        },
        "id": "WPWH1FMYeSFh",
        "outputId": "9f59c775-3a9b-4b94-922c-93bc0d66d726"
      },
      "source": [
        "model = AutoModelForSequenceClassification.from_pretrained('tugstugi/bert-base-mongolian-uncased', num_labels=9)"
      ],
      "execution_count": null,
      "outputs": [
        {
          "output_type": "display_data",
          "data": {
            "application/vnd.jupyter.widget-view+json": {
              "model_id": "82b3604d9d9e4308b08a849b1b41033e",
              "version_minor": 0,
              "version_major": 2
            },
            "text/plain": [
              "HBox(children=(FloatProgress(value=0.0, description='Downloading', max=445054385.0, style=ProgressStyle(descri…"
            ]
          },
          "metadata": {
            "tags": []
          }
        },
        {
          "output_type": "stream",
          "text": [
            "\n"
          ],
          "name": "stdout"
        },
        {
          "output_type": "stream",
          "text": [
            "Some weights of the model checkpoint at tugstugi/bert-base-mongolian-uncased were not used when initializing BertForSequenceClassification: ['cls.predictions.transform.dense.weight', 'cls.predictions.decoder.weight', 'cls.predictions.transform.dense.bias', 'cls.predictions.transform.LayerNorm.bias', 'cls.predictions.transform.LayerNorm.weight', 'cls.predictions.bias', 'cls.predictions.decoder.bias']\n",
            "- This IS expected if you are initializing BertForSequenceClassification from the checkpoint of a model trained on another task or with another architecture (e.g. initializing a BertForSequenceClassification model from a BertForPreTraining model).\n",
            "- This IS NOT expected if you are initializing BertForSequenceClassification from the checkpoint of a model that you expect to be exactly identical (initializing a BertForSequenceClassification model from a BertForSequenceClassification model).\n",
            "Some weights of BertForSequenceClassification were not initialized from the model checkpoint at tugstugi/bert-base-mongolian-uncased and are newly initialized: ['classifier.weight', 'classifier.bias']\n",
            "You should probably TRAIN this model on a down-stream task to be able to use it for predictions and inference.\n"
          ],
          "name": "stderr"
        }
      ]
    },
    {
      "cell_type": "code",
      "metadata": {
        "colab": {
          "base_uri": "https://localhost:8080/"
        },
        "id": "9UviKhywrSMM",
        "outputId": "fcb1fd4c-4d85-4ea8-a8b2-c1ae6bf2f60a"
      },
      "source": [
        "model"
      ],
      "execution_count": null,
      "outputs": [
        {
          "output_type": "execute_result",
          "data": {
            "text/plain": [
              "BertForSequenceClassification(\n",
              "  (bert): BertModel(\n",
              "    (embeddings): BertEmbeddings(\n",
              "      (word_embeddings): Embedding(32000, 768, padding_idx=0)\n",
              "      (position_embeddings): Embedding(512, 768)\n",
              "      (token_type_embeddings): Embedding(2, 768)\n",
              "      (LayerNorm): LayerNorm((768,), eps=1e-12, elementwise_affine=True)\n",
              "      (dropout): Dropout(p=0.1, inplace=False)\n",
              "    )\n",
              "    (encoder): BertEncoder(\n",
              "      (layer): ModuleList(\n",
              "        (0): BertLayer(\n",
              "          (attention): BertAttention(\n",
              "            (self): BertSelfAttention(\n",
              "              (query): Linear(in_features=768, out_features=768, bias=True)\n",
              "              (key): Linear(in_features=768, out_features=768, bias=True)\n",
              "              (value): Linear(in_features=768, out_features=768, bias=True)\n",
              "              (dropout): Dropout(p=0.1, inplace=False)\n",
              "            )\n",
              "            (output): BertSelfOutput(\n",
              "              (dense): Linear(in_features=768, out_features=768, bias=True)\n",
              "              (LayerNorm): LayerNorm((768,), eps=1e-12, elementwise_affine=True)\n",
              "              (dropout): Dropout(p=0.1, inplace=False)\n",
              "            )\n",
              "          )\n",
              "          (intermediate): BertIntermediate(\n",
              "            (dense): Linear(in_features=768, out_features=3072, bias=True)\n",
              "          )\n",
              "          (output): BertOutput(\n",
              "            (dense): Linear(in_features=3072, out_features=768, bias=True)\n",
              "            (LayerNorm): LayerNorm((768,), eps=1e-12, elementwise_affine=True)\n",
              "            (dropout): Dropout(p=0.1, inplace=False)\n",
              "          )\n",
              "        )\n",
              "        (1): BertLayer(\n",
              "          (attention): BertAttention(\n",
              "            (self): BertSelfAttention(\n",
              "              (query): Linear(in_features=768, out_features=768, bias=True)\n",
              "              (key): Linear(in_features=768, out_features=768, bias=True)\n",
              "              (value): Linear(in_features=768, out_features=768, bias=True)\n",
              "              (dropout): Dropout(p=0.1, inplace=False)\n",
              "            )\n",
              "            (output): BertSelfOutput(\n",
              "              (dense): Linear(in_features=768, out_features=768, bias=True)\n",
              "              (LayerNorm): LayerNorm((768,), eps=1e-12, elementwise_affine=True)\n",
              "              (dropout): Dropout(p=0.1, inplace=False)\n",
              "            )\n",
              "          )\n",
              "          (intermediate): BertIntermediate(\n",
              "            (dense): Linear(in_features=768, out_features=3072, bias=True)\n",
              "          )\n",
              "          (output): BertOutput(\n",
              "            (dense): Linear(in_features=3072, out_features=768, bias=True)\n",
              "            (LayerNorm): LayerNorm((768,), eps=1e-12, elementwise_affine=True)\n",
              "            (dropout): Dropout(p=0.1, inplace=False)\n",
              "          )\n",
              "        )\n",
              "        (2): BertLayer(\n",
              "          (attention): BertAttention(\n",
              "            (self): BertSelfAttention(\n",
              "              (query): Linear(in_features=768, out_features=768, bias=True)\n",
              "              (key): Linear(in_features=768, out_features=768, bias=True)\n",
              "              (value): Linear(in_features=768, out_features=768, bias=True)\n",
              "              (dropout): Dropout(p=0.1, inplace=False)\n",
              "            )\n",
              "            (output): BertSelfOutput(\n",
              "              (dense): Linear(in_features=768, out_features=768, bias=True)\n",
              "              (LayerNorm): LayerNorm((768,), eps=1e-12, elementwise_affine=True)\n",
              "              (dropout): Dropout(p=0.1, inplace=False)\n",
              "            )\n",
              "          )\n",
              "          (intermediate): BertIntermediate(\n",
              "            (dense): Linear(in_features=768, out_features=3072, bias=True)\n",
              "          )\n",
              "          (output): BertOutput(\n",
              "            (dense): Linear(in_features=3072, out_features=768, bias=True)\n",
              "            (LayerNorm): LayerNorm((768,), eps=1e-12, elementwise_affine=True)\n",
              "            (dropout): Dropout(p=0.1, inplace=False)\n",
              "          )\n",
              "        )\n",
              "        (3): BertLayer(\n",
              "          (attention): BertAttention(\n",
              "            (self): BertSelfAttention(\n",
              "              (query): Linear(in_features=768, out_features=768, bias=True)\n",
              "              (key): Linear(in_features=768, out_features=768, bias=True)\n",
              "              (value): Linear(in_features=768, out_features=768, bias=True)\n",
              "              (dropout): Dropout(p=0.1, inplace=False)\n",
              "            )\n",
              "            (output): BertSelfOutput(\n",
              "              (dense): Linear(in_features=768, out_features=768, bias=True)\n",
              "              (LayerNorm): LayerNorm((768,), eps=1e-12, elementwise_affine=True)\n",
              "              (dropout): Dropout(p=0.1, inplace=False)\n",
              "            )\n",
              "          )\n",
              "          (intermediate): BertIntermediate(\n",
              "            (dense): Linear(in_features=768, out_features=3072, bias=True)\n",
              "          )\n",
              "          (output): BertOutput(\n",
              "            (dense): Linear(in_features=3072, out_features=768, bias=True)\n",
              "            (LayerNorm): LayerNorm((768,), eps=1e-12, elementwise_affine=True)\n",
              "            (dropout): Dropout(p=0.1, inplace=False)\n",
              "          )\n",
              "        )\n",
              "        (4): BertLayer(\n",
              "          (attention): BertAttention(\n",
              "            (self): BertSelfAttention(\n",
              "              (query): Linear(in_features=768, out_features=768, bias=True)\n",
              "              (key): Linear(in_features=768, out_features=768, bias=True)\n",
              "              (value): Linear(in_features=768, out_features=768, bias=True)\n",
              "              (dropout): Dropout(p=0.1, inplace=False)\n",
              "            )\n",
              "            (output): BertSelfOutput(\n",
              "              (dense): Linear(in_features=768, out_features=768, bias=True)\n",
              "              (LayerNorm): LayerNorm((768,), eps=1e-12, elementwise_affine=True)\n",
              "              (dropout): Dropout(p=0.1, inplace=False)\n",
              "            )\n",
              "          )\n",
              "          (intermediate): BertIntermediate(\n",
              "            (dense): Linear(in_features=768, out_features=3072, bias=True)\n",
              "          )\n",
              "          (output): BertOutput(\n",
              "            (dense): Linear(in_features=3072, out_features=768, bias=True)\n",
              "            (LayerNorm): LayerNorm((768,), eps=1e-12, elementwise_affine=True)\n",
              "            (dropout): Dropout(p=0.1, inplace=False)\n",
              "          )\n",
              "        )\n",
              "        (5): BertLayer(\n",
              "          (attention): BertAttention(\n",
              "            (self): BertSelfAttention(\n",
              "              (query): Linear(in_features=768, out_features=768, bias=True)\n",
              "              (key): Linear(in_features=768, out_features=768, bias=True)\n",
              "              (value): Linear(in_features=768, out_features=768, bias=True)\n",
              "              (dropout): Dropout(p=0.1, inplace=False)\n",
              "            )\n",
              "            (output): BertSelfOutput(\n",
              "              (dense): Linear(in_features=768, out_features=768, bias=True)\n",
              "              (LayerNorm): LayerNorm((768,), eps=1e-12, elementwise_affine=True)\n",
              "              (dropout): Dropout(p=0.1, inplace=False)\n",
              "            )\n",
              "          )\n",
              "          (intermediate): BertIntermediate(\n",
              "            (dense): Linear(in_features=768, out_features=3072, bias=True)\n",
              "          )\n",
              "          (output): BertOutput(\n",
              "            (dense): Linear(in_features=3072, out_features=768, bias=True)\n",
              "            (LayerNorm): LayerNorm((768,), eps=1e-12, elementwise_affine=True)\n",
              "            (dropout): Dropout(p=0.1, inplace=False)\n",
              "          )\n",
              "        )\n",
              "        (6): BertLayer(\n",
              "          (attention): BertAttention(\n",
              "            (self): BertSelfAttention(\n",
              "              (query): Linear(in_features=768, out_features=768, bias=True)\n",
              "              (key): Linear(in_features=768, out_features=768, bias=True)\n",
              "              (value): Linear(in_features=768, out_features=768, bias=True)\n",
              "              (dropout): Dropout(p=0.1, inplace=False)\n",
              "            )\n",
              "            (output): BertSelfOutput(\n",
              "              (dense): Linear(in_features=768, out_features=768, bias=True)\n",
              "              (LayerNorm): LayerNorm((768,), eps=1e-12, elementwise_affine=True)\n",
              "              (dropout): Dropout(p=0.1, inplace=False)\n",
              "            )\n",
              "          )\n",
              "          (intermediate): BertIntermediate(\n",
              "            (dense): Linear(in_features=768, out_features=3072, bias=True)\n",
              "          )\n",
              "          (output): BertOutput(\n",
              "            (dense): Linear(in_features=3072, out_features=768, bias=True)\n",
              "            (LayerNorm): LayerNorm((768,), eps=1e-12, elementwise_affine=True)\n",
              "            (dropout): Dropout(p=0.1, inplace=False)\n",
              "          )\n",
              "        )\n",
              "        (7): BertLayer(\n",
              "          (attention): BertAttention(\n",
              "            (self): BertSelfAttention(\n",
              "              (query): Linear(in_features=768, out_features=768, bias=True)\n",
              "              (key): Linear(in_features=768, out_features=768, bias=True)\n",
              "              (value): Linear(in_features=768, out_features=768, bias=True)\n",
              "              (dropout): Dropout(p=0.1, inplace=False)\n",
              "            )\n",
              "            (output): BertSelfOutput(\n",
              "              (dense): Linear(in_features=768, out_features=768, bias=True)\n",
              "              (LayerNorm): LayerNorm((768,), eps=1e-12, elementwise_affine=True)\n",
              "              (dropout): Dropout(p=0.1, inplace=False)\n",
              "            )\n",
              "          )\n",
              "          (intermediate): BertIntermediate(\n",
              "            (dense): Linear(in_features=768, out_features=3072, bias=True)\n",
              "          )\n",
              "          (output): BertOutput(\n",
              "            (dense): Linear(in_features=3072, out_features=768, bias=True)\n",
              "            (LayerNorm): LayerNorm((768,), eps=1e-12, elementwise_affine=True)\n",
              "            (dropout): Dropout(p=0.1, inplace=False)\n",
              "          )\n",
              "        )\n",
              "        (8): BertLayer(\n",
              "          (attention): BertAttention(\n",
              "            (self): BertSelfAttention(\n",
              "              (query): Linear(in_features=768, out_features=768, bias=True)\n",
              "              (key): Linear(in_features=768, out_features=768, bias=True)\n",
              "              (value): Linear(in_features=768, out_features=768, bias=True)\n",
              "              (dropout): Dropout(p=0.1, inplace=False)\n",
              "            )\n",
              "            (output): BertSelfOutput(\n",
              "              (dense): Linear(in_features=768, out_features=768, bias=True)\n",
              "              (LayerNorm): LayerNorm((768,), eps=1e-12, elementwise_affine=True)\n",
              "              (dropout): Dropout(p=0.1, inplace=False)\n",
              "            )\n",
              "          )\n",
              "          (intermediate): BertIntermediate(\n",
              "            (dense): Linear(in_features=768, out_features=3072, bias=True)\n",
              "          )\n",
              "          (output): BertOutput(\n",
              "            (dense): Linear(in_features=3072, out_features=768, bias=True)\n",
              "            (LayerNorm): LayerNorm((768,), eps=1e-12, elementwise_affine=True)\n",
              "            (dropout): Dropout(p=0.1, inplace=False)\n",
              "          )\n",
              "        )\n",
              "        (9): BertLayer(\n",
              "          (attention): BertAttention(\n",
              "            (self): BertSelfAttention(\n",
              "              (query): Linear(in_features=768, out_features=768, bias=True)\n",
              "              (key): Linear(in_features=768, out_features=768, bias=True)\n",
              "              (value): Linear(in_features=768, out_features=768, bias=True)\n",
              "              (dropout): Dropout(p=0.1, inplace=False)\n",
              "            )\n",
              "            (output): BertSelfOutput(\n",
              "              (dense): Linear(in_features=768, out_features=768, bias=True)\n",
              "              (LayerNorm): LayerNorm((768,), eps=1e-12, elementwise_affine=True)\n",
              "              (dropout): Dropout(p=0.1, inplace=False)\n",
              "            )\n",
              "          )\n",
              "          (intermediate): BertIntermediate(\n",
              "            (dense): Linear(in_features=768, out_features=3072, bias=True)\n",
              "          )\n",
              "          (output): BertOutput(\n",
              "            (dense): Linear(in_features=3072, out_features=768, bias=True)\n",
              "            (LayerNorm): LayerNorm((768,), eps=1e-12, elementwise_affine=True)\n",
              "            (dropout): Dropout(p=0.1, inplace=False)\n",
              "          )\n",
              "        )\n",
              "        (10): BertLayer(\n",
              "          (attention): BertAttention(\n",
              "            (self): BertSelfAttention(\n",
              "              (query): Linear(in_features=768, out_features=768, bias=True)\n",
              "              (key): Linear(in_features=768, out_features=768, bias=True)\n",
              "              (value): Linear(in_features=768, out_features=768, bias=True)\n",
              "              (dropout): Dropout(p=0.1, inplace=False)\n",
              "            )\n",
              "            (output): BertSelfOutput(\n",
              "              (dense): Linear(in_features=768, out_features=768, bias=True)\n",
              "              (LayerNorm): LayerNorm((768,), eps=1e-12, elementwise_affine=True)\n",
              "              (dropout): Dropout(p=0.1, inplace=False)\n",
              "            )\n",
              "          )\n",
              "          (intermediate): BertIntermediate(\n",
              "            (dense): Linear(in_features=768, out_features=3072, bias=True)\n",
              "          )\n",
              "          (output): BertOutput(\n",
              "            (dense): Linear(in_features=3072, out_features=768, bias=True)\n",
              "            (LayerNorm): LayerNorm((768,), eps=1e-12, elementwise_affine=True)\n",
              "            (dropout): Dropout(p=0.1, inplace=False)\n",
              "          )\n",
              "        )\n",
              "        (11): BertLayer(\n",
              "          (attention): BertAttention(\n",
              "            (self): BertSelfAttention(\n",
              "              (query): Linear(in_features=768, out_features=768, bias=True)\n",
              "              (key): Linear(in_features=768, out_features=768, bias=True)\n",
              "              (value): Linear(in_features=768, out_features=768, bias=True)\n",
              "              (dropout): Dropout(p=0.1, inplace=False)\n",
              "            )\n",
              "            (output): BertSelfOutput(\n",
              "              (dense): Linear(in_features=768, out_features=768, bias=True)\n",
              "              (LayerNorm): LayerNorm((768,), eps=1e-12, elementwise_affine=True)\n",
              "              (dropout): Dropout(p=0.1, inplace=False)\n",
              "            )\n",
              "          )\n",
              "          (intermediate): BertIntermediate(\n",
              "            (dense): Linear(in_features=768, out_features=3072, bias=True)\n",
              "          )\n",
              "          (output): BertOutput(\n",
              "            (dense): Linear(in_features=3072, out_features=768, bias=True)\n",
              "            (LayerNorm): LayerNorm((768,), eps=1e-12, elementwise_affine=True)\n",
              "            (dropout): Dropout(p=0.1, inplace=False)\n",
              "          )\n",
              "        )\n",
              "      )\n",
              "    )\n",
              "    (pooler): BertPooler(\n",
              "      (dense): Linear(in_features=768, out_features=768, bias=True)\n",
              "      (activation): Tanh()\n",
              "    )\n",
              "  )\n",
              "  (dropout): Dropout(p=0.1, inplace=False)\n",
              "  (classifier): Linear(in_features=768, out_features=9, bias=True)\n",
              ")"
            ]
          },
          "metadata": {
            "tags": []
          },
          "execution_count": 35
        }
      ]
    },
    {
      "cell_type": "code",
      "metadata": {
        "id": "J8jHaX3he-2c"
      },
      "source": [
        "metric_name = \"accuracy\"\n",
        "batch_size = 16\n",
        "\n",
        "args = TrainingArguments(\n",
        "    \"eduge\",\n",
        "    evaluation_strategy = \"epoch\",\n",
        "    learning_rate=2e-5,\n",
        "    per_device_train_batch_size=batch_size,\n",
        "    per_device_eval_batch_size=batch_size,\n",
        "    num_train_epochs=5,\n",
        "    weight_decay=0.01,\n",
        "    load_best_model_at_end=True,\n",
        "    metric_for_best_model=metric_name,\n",
        ")"
      ],
      "execution_count": null,
      "outputs": []
    },
    {
      "cell_type": "code",
      "metadata": {
        "id": "gyR3cyWBkR-K",
        "colab": {
          "base_uri": "https://localhost:8080/",
          "height": 66,
          "referenced_widgets": [
            "b135248191a64b698ee03c8f012b0fe1",
            "b386830b09224fa88c75e158a4f0e110",
            "f36820b3c417486d89cf406746a0d1c6",
            "4f8d27ad47ee4f019ec1aa22d6afb4d3",
            "28b15c8a29c5469198a30ce112dba29c",
            "947b6b84a7514768865ed889df1501d5",
            "f05d5420021a41a1a961bd2b20d760c0",
            "d1823bc53edc40aa98516db02f95ccb6"
          ]
        },
        "outputId": "83c11f0b-8e5b-4017-8705-21491796ed55"
      },
      "source": [
        "metric = load_metric('accuracy')"
      ],
      "execution_count": null,
      "outputs": [
        {
          "output_type": "display_data",
          "data": {
            "application/vnd.jupyter.widget-view+json": {
              "model_id": "b135248191a64b698ee03c8f012b0fe1",
              "version_minor": 0,
              "version_major": 2
            },
            "text/plain": [
              "HBox(children=(FloatProgress(value=0.0, description='Downloading', max=1362.0, style=ProgressStyle(description…"
            ]
          },
          "metadata": {
            "tags": []
          }
        },
        {
          "output_type": "stream",
          "text": [
            "\n"
          ],
          "name": "stdout"
        }
      ]
    },
    {
      "cell_type": "code",
      "metadata": {
        "id": "sIw0Bk8qikAs"
      },
      "source": [
        "import numpy as np\n",
        "task = \"eduge\"\n",
        "def compute_metrics(eval_pred):\n",
        "    predictions, labels = eval_pred\n",
        "    if task != \"stsb\":\n",
        "        predictions = np.argmax(predictions, axis=1)\n",
        "    else:\n",
        "        predictions = predictions[:, 0]\n",
        "    return metric.compute(predictions=predictions, references=labels)"
      ],
      "execution_count": null,
      "outputs": []
    },
    {
      "cell_type": "code",
      "metadata": {
        "colab": {
          "base_uri": "https://localhost:8080/"
        },
        "id": "aJUXS6dU_NaH",
        "outputId": "985cf4f4-9e2c-47a1-8f08-9e34fa3b80f1"
      },
      "source": [
        "encoded_dataset"
      ],
      "execution_count": null,
      "outputs": [
        {
          "output_type": "execute_result",
          "data": {
            "text/plain": [
              "DatasetDict({\n",
              "    train: Dataset({\n",
              "        features: ['attention_mask', 'input_ids', 'label', 'news', 'token_type_ids'],\n",
              "        num_rows: 60528\n",
              "    })\n",
              "    test: Dataset({\n",
              "        features: ['attention_mask', 'input_ids', 'label', 'news', 'token_type_ids'],\n",
              "        num_rows: 15133\n",
              "    })\n",
              "})"
            ]
          },
          "metadata": {
            "tags": []
          },
          "execution_count": 39
        }
      ]
    },
    {
      "cell_type": "code",
      "metadata": {
        "colab": {
          "base_uri": "https://localhost:8080/"
        },
        "id": "RcdK-dclvATr",
        "outputId": "802c024c-9af6-4ad7-b9fe-87d98715c483"
      },
      "source": [
        "model.resize_token_embeddings(32001)"
      ],
      "execution_count": null,
      "outputs": [
        {
          "output_type": "execute_result",
          "data": {
            "text/plain": [
              "Embedding(32001, 768)"
            ]
          },
          "metadata": {
            "tags": []
          },
          "execution_count": 40
        }
      ]
    },
    {
      "cell_type": "code",
      "metadata": {
        "colab": {
          "base_uri": "https://localhost:8080/"
        },
        "id": "3fc9omgiHFCg",
        "outputId": "cc2873d5-41fc-42c4-fdaa-c2cad518e83c"
      },
      "source": [
        "model.config"
      ],
      "execution_count": null,
      "outputs": [
        {
          "output_type": "execute_result",
          "data": {
            "text/plain": [
              "BertConfig {\n",
              "  \"_name_or_path\": \"tugstugi/bert-base-mongolian-uncased\",\n",
              "  \"architectures\": [\n",
              "    \"BertForMaskedLM\"\n",
              "  ],\n",
              "  \"attention_probs_dropout_prob\": 0.1,\n",
              "  \"gradient_checkpointing\": false,\n",
              "  \"hidden_act\": \"gelu\",\n",
              "  \"hidden_dropout_prob\": 0.1,\n",
              "  \"hidden_size\": 768,\n",
              "  \"id2label\": {\n",
              "    \"0\": \"LABEL_0\",\n",
              "    \"1\": \"LABEL_1\",\n",
              "    \"2\": \"LABEL_2\",\n",
              "    \"3\": \"LABEL_3\",\n",
              "    \"4\": \"LABEL_4\",\n",
              "    \"5\": \"LABEL_5\",\n",
              "    \"6\": \"LABEL_6\",\n",
              "    \"7\": \"LABEL_7\",\n",
              "    \"8\": \"LABEL_8\"\n",
              "  },\n",
              "  \"initializer_range\": 0.02,\n",
              "  \"intermediate_size\": 3072,\n",
              "  \"label2id\": {\n",
              "    \"LABEL_0\": 0,\n",
              "    \"LABEL_1\": 1,\n",
              "    \"LABEL_2\": 2,\n",
              "    \"LABEL_3\": 3,\n",
              "    \"LABEL_4\": 4,\n",
              "    \"LABEL_5\": 5,\n",
              "    \"LABEL_6\": 6,\n",
              "    \"LABEL_7\": 7,\n",
              "    \"LABEL_8\": 8\n",
              "  },\n",
              "  \"layer_norm_eps\": 1e-12,\n",
              "  \"max_position_embeddings\": 512,\n",
              "  \"model_type\": \"bert\",\n",
              "  \"num_attention_heads\": 12,\n",
              "  \"num_hidden_layers\": 12,\n",
              "  \"pad_token_id\": 0,\n",
              "  \"position_embedding_type\": \"absolute\",\n",
              "  \"tokenizer_class\": \"AlbertTokenizer\",\n",
              "  \"transformers_version\": \"4.6.1\",\n",
              "  \"type_vocab_size\": 2,\n",
              "  \"use_cache\": true,\n",
              "  \"vocab_size\": 32001\n",
              "}"
            ]
          },
          "metadata": {
            "tags": []
          },
          "execution_count": 41
        }
      ]
    },
    {
      "cell_type": "code",
      "metadata": {
        "colab": {
          "base_uri": "https://localhost:8080/"
        },
        "id": "TJvEEmgdvJDZ",
        "outputId": "acb07441-3fb4-4714-8c7f-6528100d49df"
      },
      "source": [
        " model.bert.embeddings"
      ],
      "execution_count": null,
      "outputs": [
        {
          "output_type": "execute_result",
          "data": {
            "text/plain": [
              "BertEmbeddings(\n",
              "  (word_embeddings): Embedding(32000, 768, padding_idx=0)\n",
              "  (position_embeddings): Embedding(512, 768)\n",
              "  (token_type_embeddings): Embedding(2, 768)\n",
              "  (LayerNorm): LayerNorm((768,), eps=1e-12, elementwise_affine=True)\n",
              "  (dropout): Dropout(p=0.1, inplace=False)\n",
              ")"
            ]
          },
          "metadata": {
            "tags": []
          },
          "execution_count": 26
        }
      ]
    },
    {
      "cell_type": "code",
      "metadata": {
        "id": "YXOJJBUTivgW"
      },
      "source": [
        "trainer = Trainer(\n",
        "    model,\n",
        "    args,\n",
        "    train_dataset=encoded_dataset[\"train\"],\n",
        "    eval_dataset=encoded_dataset[\"test\"],\n",
        "    tokenizer=tokenizer,\n",
        "    compute_metrics=compute_metrics\n",
        ")"
      ],
      "execution_count": null,
      "outputs": []
    },
    {
      "cell_type": "code",
      "metadata": {
        "colab": {
          "base_uri": "https://localhost:8080/"
        },
        "id": "kKWPC03IpHbL",
        "outputId": "4ec2bc92-7219-44dc-a80d-eaa66d3d20a2"
      },
      "source": [
        "model.config"
      ],
      "execution_count": null,
      "outputs": [
        {
          "output_type": "execute_result",
          "data": {
            "text/plain": [
              "BertConfig {\n",
              "  \"_name_or_path\": \"tugstugi/bert-base-mongolian-uncased\",\n",
              "  \"architectures\": [\n",
              "    \"BertForMaskedLM\"\n",
              "  ],\n",
              "  \"attention_probs_dropout_prob\": 0.1,\n",
              "  \"gradient_checkpointing\": false,\n",
              "  \"hidden_act\": \"gelu\",\n",
              "  \"hidden_dropout_prob\": 0.1,\n",
              "  \"hidden_size\": 768,\n",
              "  \"id2label\": {\n",
              "    \"0\": \"LABEL_0\",\n",
              "    \"1\": \"LABEL_1\",\n",
              "    \"2\": \"LABEL_2\",\n",
              "    \"3\": \"LABEL_3\",\n",
              "    \"4\": \"LABEL_4\",\n",
              "    \"5\": \"LABEL_5\",\n",
              "    \"6\": \"LABEL_6\",\n",
              "    \"7\": \"LABEL_7\",\n",
              "    \"8\": \"LABEL_8\"\n",
              "  },\n",
              "  \"initializer_range\": 0.02,\n",
              "  \"intermediate_size\": 3072,\n",
              "  \"label2id\": {\n",
              "    \"LABEL_0\": 0,\n",
              "    \"LABEL_1\": 1,\n",
              "    \"LABEL_2\": 2,\n",
              "    \"LABEL_3\": 3,\n",
              "    \"LABEL_4\": 4,\n",
              "    \"LABEL_5\": 5,\n",
              "    \"LABEL_6\": 6,\n",
              "    \"LABEL_7\": 7,\n",
              "    \"LABEL_8\": 8\n",
              "  },\n",
              "  \"layer_norm_eps\": 1e-12,\n",
              "  \"max_position_embeddings\": 512,\n",
              "  \"model_type\": \"bert\",\n",
              "  \"num_attention_heads\": 12,\n",
              "  \"num_hidden_layers\": 12,\n",
              "  \"pad_token_id\": 0,\n",
              "  \"position_embedding_type\": \"absolute\",\n",
              "  \"tokenizer_class\": \"AlbertTokenizer\",\n",
              "  \"transformers_version\": \"4.6.1\",\n",
              "  \"type_vocab_size\": 2,\n",
              "  \"use_cache\": true,\n",
              "  \"vocab_size\": 32001\n",
              "}"
            ]
          },
          "metadata": {
            "tags": []
          },
          "execution_count": 27
        }
      ]
    },
    {
      "cell_type": "code",
      "metadata": {
        "id": "JN0uxnxtiyBi",
        "colab": {
          "base_uri": "https://localhost:8080/",
          "height": 382
        },
        "outputId": "465045d6-8243-4fc6-8ca5-8dc8110cf16b"
      },
      "source": [
        "trainer.train()"
      ],
      "execution_count": null,
      "outputs": [
        {
          "output_type": "display_data",
          "data": {
            "text/html": [
              "\n",
              "    <div>\n",
              "      \n",
              "      <progress value='80' max='18915' style='width:300px; height:20px; vertical-align: middle;'></progress>\n",
              "      [   80/18915 00:32 < 2:10:43, 2.40 it/s, Epoch 0.02/5]\n",
              "    </div>\n",
              "    <table border=\"1\" class=\"dataframe\">\n",
              "  <thead>\n",
              "    <tr style=\"text-align: left;\">\n",
              "      <th>Epoch</th>\n",
              "      <th>Training Loss</th>\n",
              "      <th>Validation Loss</th>\n",
              "    </tr>\n",
              "  </thead>\n",
              "  <tbody>\n",
              "  </tbody>\n",
              "</table><p>"
            ],
            "text/plain": [
              "<IPython.core.display.HTML object>"
            ]
          },
          "metadata": {
            "tags": []
          }
        },
        {
          "output_type": "error",
          "ename": "KeyboardInterrupt",
          "evalue": "ignored",
          "traceback": [
            "\u001b[0;31m---------------------------------------------------------------------------\u001b[0m",
            "\u001b[0;31mKeyboardInterrupt\u001b[0m                         Traceback (most recent call last)",
            "\u001b[0;32m<ipython-input-43-3435b262f1ae>\u001b[0m in \u001b[0;36m<module>\u001b[0;34m()\u001b[0m\n\u001b[0;32m----> 1\u001b[0;31m \u001b[0mtrainer\u001b[0m\u001b[0;34m.\u001b[0m\u001b[0mtrain\u001b[0m\u001b[0;34m(\u001b[0m\u001b[0;34m)\u001b[0m\u001b[0;34m\u001b[0m\u001b[0;34m\u001b[0m\u001b[0m\n\u001b[0m",
            "\u001b[0;32m/usr/local/lib/python3.7/dist-packages/transformers/trainer.py\u001b[0m in \u001b[0;36mtrain\u001b[0;34m(self, resume_from_checkpoint, trial, **kwargs)\u001b[0m\n\u001b[1;32m   1270\u001b[0m                         \u001b[0mtr_loss\u001b[0m \u001b[0;34m+=\u001b[0m \u001b[0mself\u001b[0m\u001b[0;34m.\u001b[0m\u001b[0mtraining_step\u001b[0m\u001b[0;34m(\u001b[0m\u001b[0mmodel\u001b[0m\u001b[0;34m,\u001b[0m \u001b[0minputs\u001b[0m\u001b[0;34m)\u001b[0m\u001b[0;34m\u001b[0m\u001b[0;34m\u001b[0m\u001b[0m\n\u001b[1;32m   1271\u001b[0m                 \u001b[0;32melse\u001b[0m\u001b[0;34m:\u001b[0m\u001b[0;34m\u001b[0m\u001b[0;34m\u001b[0m\u001b[0m\n\u001b[0;32m-> 1272\u001b[0;31m                     \u001b[0mtr_loss\u001b[0m \u001b[0;34m+=\u001b[0m \u001b[0mself\u001b[0m\u001b[0;34m.\u001b[0m\u001b[0mtraining_step\u001b[0m\u001b[0;34m(\u001b[0m\u001b[0mmodel\u001b[0m\u001b[0;34m,\u001b[0m \u001b[0minputs\u001b[0m\u001b[0;34m)\u001b[0m\u001b[0;34m\u001b[0m\u001b[0;34m\u001b[0m\u001b[0m\n\u001b[0m\u001b[1;32m   1273\u001b[0m                 \u001b[0mself\u001b[0m\u001b[0;34m.\u001b[0m\u001b[0mcurrent_flos\u001b[0m \u001b[0;34m+=\u001b[0m \u001b[0mfloat\u001b[0m\u001b[0;34m(\u001b[0m\u001b[0mself\u001b[0m\u001b[0;34m.\u001b[0m\u001b[0mfloating_point_ops\u001b[0m\u001b[0;34m(\u001b[0m\u001b[0minputs\u001b[0m\u001b[0;34m)\u001b[0m\u001b[0;34m)\u001b[0m\u001b[0;34m\u001b[0m\u001b[0;34m\u001b[0m\u001b[0m\n\u001b[1;32m   1274\u001b[0m \u001b[0;34m\u001b[0m\u001b[0m\n",
            "\u001b[0;32m/usr/local/lib/python3.7/dist-packages/transformers/trainer.py\u001b[0m in \u001b[0;36mtraining_step\u001b[0;34m(self, model, inputs)\u001b[0m\n\u001b[1;32m   1732\u001b[0m                 \u001b[0mloss\u001b[0m \u001b[0;34m=\u001b[0m \u001b[0mself\u001b[0m\u001b[0;34m.\u001b[0m\u001b[0mcompute_loss\u001b[0m\u001b[0;34m(\u001b[0m\u001b[0mmodel\u001b[0m\u001b[0;34m,\u001b[0m \u001b[0minputs\u001b[0m\u001b[0;34m)\u001b[0m\u001b[0;34m\u001b[0m\u001b[0;34m\u001b[0m\u001b[0m\n\u001b[1;32m   1733\u001b[0m         \u001b[0;32melse\u001b[0m\u001b[0;34m:\u001b[0m\u001b[0;34m\u001b[0m\u001b[0;34m\u001b[0m\u001b[0m\n\u001b[0;32m-> 1734\u001b[0;31m             \u001b[0mloss\u001b[0m \u001b[0;34m=\u001b[0m \u001b[0mself\u001b[0m\u001b[0;34m.\u001b[0m\u001b[0mcompute_loss\u001b[0m\u001b[0;34m(\u001b[0m\u001b[0mmodel\u001b[0m\u001b[0;34m,\u001b[0m \u001b[0minputs\u001b[0m\u001b[0;34m)\u001b[0m\u001b[0;34m\u001b[0m\u001b[0;34m\u001b[0m\u001b[0m\n\u001b[0m\u001b[1;32m   1735\u001b[0m \u001b[0;34m\u001b[0m\u001b[0m\n\u001b[1;32m   1736\u001b[0m         \u001b[0;32mif\u001b[0m \u001b[0mself\u001b[0m\u001b[0;34m.\u001b[0m\u001b[0margs\u001b[0m\u001b[0;34m.\u001b[0m\u001b[0mn_gpu\u001b[0m \u001b[0;34m>\u001b[0m \u001b[0;36m1\u001b[0m\u001b[0;34m:\u001b[0m\u001b[0;34m\u001b[0m\u001b[0;34m\u001b[0m\u001b[0m\n",
            "\u001b[0;32m/usr/local/lib/python3.7/dist-packages/transformers/trainer.py\u001b[0m in \u001b[0;36mcompute_loss\u001b[0;34m(self, model, inputs, return_outputs)\u001b[0m\n\u001b[1;32m   1764\u001b[0m         \u001b[0;32melse\u001b[0m\u001b[0;34m:\u001b[0m\u001b[0;34m\u001b[0m\u001b[0;34m\u001b[0m\u001b[0m\n\u001b[1;32m   1765\u001b[0m             \u001b[0mlabels\u001b[0m \u001b[0;34m=\u001b[0m \u001b[0;32mNone\u001b[0m\u001b[0;34m\u001b[0m\u001b[0;34m\u001b[0m\u001b[0m\n\u001b[0;32m-> 1766\u001b[0;31m         \u001b[0moutputs\u001b[0m \u001b[0;34m=\u001b[0m \u001b[0mmodel\u001b[0m\u001b[0;34m(\u001b[0m\u001b[0;34m**\u001b[0m\u001b[0minputs\u001b[0m\u001b[0;34m)\u001b[0m\u001b[0;34m\u001b[0m\u001b[0;34m\u001b[0m\u001b[0m\n\u001b[0m\u001b[1;32m   1767\u001b[0m         \u001b[0;31m# Save past state if it exists\u001b[0m\u001b[0;34m\u001b[0m\u001b[0;34m\u001b[0m\u001b[0;34m\u001b[0m\u001b[0m\n\u001b[1;32m   1768\u001b[0m         \u001b[0;31m# TODO: this needs to be fixed and made cleaner later.\u001b[0m\u001b[0;34m\u001b[0m\u001b[0;34m\u001b[0m\u001b[0;34m\u001b[0m\u001b[0m\n",
            "\u001b[0;32m/usr/local/lib/python3.7/dist-packages/torch/nn/modules/module.py\u001b[0m in \u001b[0;36m_call_impl\u001b[0;34m(self, *input, **kwargs)\u001b[0m\n\u001b[1;32m   1049\u001b[0m         if not (self._backward_hooks or self._forward_hooks or self._forward_pre_hooks or _global_backward_hooks\n\u001b[1;32m   1050\u001b[0m                 or _global_forward_hooks or _global_forward_pre_hooks):\n\u001b[0;32m-> 1051\u001b[0;31m             \u001b[0;32mreturn\u001b[0m \u001b[0mforward_call\u001b[0m\u001b[0;34m(\u001b[0m\u001b[0;34m*\u001b[0m\u001b[0minput\u001b[0m\u001b[0;34m,\u001b[0m \u001b[0;34m**\u001b[0m\u001b[0mkwargs\u001b[0m\u001b[0;34m)\u001b[0m\u001b[0;34m\u001b[0m\u001b[0;34m\u001b[0m\u001b[0m\n\u001b[0m\u001b[1;32m   1052\u001b[0m         \u001b[0;31m# Do not call functions when jit is used\u001b[0m\u001b[0;34m\u001b[0m\u001b[0;34m\u001b[0m\u001b[0;34m\u001b[0m\u001b[0m\n\u001b[1;32m   1053\u001b[0m         \u001b[0mfull_backward_hooks\u001b[0m\u001b[0;34m,\u001b[0m \u001b[0mnon_full_backward_hooks\u001b[0m \u001b[0;34m=\u001b[0m \u001b[0;34m[\u001b[0m\u001b[0;34m]\u001b[0m\u001b[0;34m,\u001b[0m \u001b[0;34m[\u001b[0m\u001b[0;34m]\u001b[0m\u001b[0;34m\u001b[0m\u001b[0;34m\u001b[0m\u001b[0m\n",
            "\u001b[0;32m/usr/local/lib/python3.7/dist-packages/transformers/models/bert/modeling_bert.py\u001b[0m in \u001b[0;36mforward\u001b[0;34m(self, input_ids, attention_mask, token_type_ids, position_ids, head_mask, inputs_embeds, labels, output_attentions, output_hidden_states, return_dict)\u001b[0m\n\u001b[1;32m   1509\u001b[0m             \u001b[0moutput_attentions\u001b[0m\u001b[0;34m=\u001b[0m\u001b[0moutput_attentions\u001b[0m\u001b[0;34m,\u001b[0m\u001b[0;34m\u001b[0m\u001b[0;34m\u001b[0m\u001b[0m\n\u001b[1;32m   1510\u001b[0m             \u001b[0moutput_hidden_states\u001b[0m\u001b[0;34m=\u001b[0m\u001b[0moutput_hidden_states\u001b[0m\u001b[0;34m,\u001b[0m\u001b[0;34m\u001b[0m\u001b[0;34m\u001b[0m\u001b[0m\n\u001b[0;32m-> 1511\u001b[0;31m             \u001b[0mreturn_dict\u001b[0m\u001b[0;34m=\u001b[0m\u001b[0mreturn_dict\u001b[0m\u001b[0;34m,\u001b[0m\u001b[0;34m\u001b[0m\u001b[0;34m\u001b[0m\u001b[0m\n\u001b[0m\u001b[1;32m   1512\u001b[0m         )\n\u001b[1;32m   1513\u001b[0m \u001b[0;34m\u001b[0m\u001b[0m\n",
            "\u001b[0;32m/usr/local/lib/python3.7/dist-packages/torch/nn/modules/module.py\u001b[0m in \u001b[0;36m_call_impl\u001b[0;34m(self, *input, **kwargs)\u001b[0m\n\u001b[1;32m   1049\u001b[0m         if not (self._backward_hooks or self._forward_hooks or self._forward_pre_hooks or _global_backward_hooks\n\u001b[1;32m   1050\u001b[0m                 or _global_forward_hooks or _global_forward_pre_hooks):\n\u001b[0;32m-> 1051\u001b[0;31m             \u001b[0;32mreturn\u001b[0m \u001b[0mforward_call\u001b[0m\u001b[0;34m(\u001b[0m\u001b[0;34m*\u001b[0m\u001b[0minput\u001b[0m\u001b[0;34m,\u001b[0m \u001b[0;34m**\u001b[0m\u001b[0mkwargs\u001b[0m\u001b[0;34m)\u001b[0m\u001b[0;34m\u001b[0m\u001b[0;34m\u001b[0m\u001b[0m\n\u001b[0m\u001b[1;32m   1052\u001b[0m         \u001b[0;31m# Do not call functions when jit is used\u001b[0m\u001b[0;34m\u001b[0m\u001b[0;34m\u001b[0m\u001b[0;34m\u001b[0m\u001b[0m\n\u001b[1;32m   1053\u001b[0m         \u001b[0mfull_backward_hooks\u001b[0m\u001b[0;34m,\u001b[0m \u001b[0mnon_full_backward_hooks\u001b[0m \u001b[0;34m=\u001b[0m \u001b[0;34m[\u001b[0m\u001b[0;34m]\u001b[0m\u001b[0;34m,\u001b[0m \u001b[0;34m[\u001b[0m\u001b[0;34m]\u001b[0m\u001b[0;34m\u001b[0m\u001b[0;34m\u001b[0m\u001b[0m\n",
            "\u001b[0;32m/usr/local/lib/python3.7/dist-packages/transformers/models/bert/modeling_bert.py\u001b[0m in \u001b[0;36mforward\u001b[0;34m(self, input_ids, attention_mask, token_type_ids, position_ids, head_mask, inputs_embeds, encoder_hidden_states, encoder_attention_mask, past_key_values, use_cache, output_attentions, output_hidden_states, return_dict)\u001b[0m\n\u001b[1;32m    979\u001b[0m             \u001b[0moutput_attentions\u001b[0m\u001b[0;34m=\u001b[0m\u001b[0moutput_attentions\u001b[0m\u001b[0;34m,\u001b[0m\u001b[0;34m\u001b[0m\u001b[0;34m\u001b[0m\u001b[0m\n\u001b[1;32m    980\u001b[0m             \u001b[0moutput_hidden_states\u001b[0m\u001b[0;34m=\u001b[0m\u001b[0moutput_hidden_states\u001b[0m\u001b[0;34m,\u001b[0m\u001b[0;34m\u001b[0m\u001b[0;34m\u001b[0m\u001b[0m\n\u001b[0;32m--> 981\u001b[0;31m             \u001b[0mreturn_dict\u001b[0m\u001b[0;34m=\u001b[0m\u001b[0mreturn_dict\u001b[0m\u001b[0;34m,\u001b[0m\u001b[0;34m\u001b[0m\u001b[0;34m\u001b[0m\u001b[0m\n\u001b[0m\u001b[1;32m    982\u001b[0m         )\n\u001b[1;32m    983\u001b[0m         \u001b[0msequence_output\u001b[0m \u001b[0;34m=\u001b[0m \u001b[0mencoder_outputs\u001b[0m\u001b[0;34m[\u001b[0m\u001b[0;36m0\u001b[0m\u001b[0;34m]\u001b[0m\u001b[0;34m\u001b[0m\u001b[0;34m\u001b[0m\u001b[0m\n",
            "\u001b[0;32m/usr/local/lib/python3.7/dist-packages/torch/nn/modules/module.py\u001b[0m in \u001b[0;36m_call_impl\u001b[0;34m(self, *input, **kwargs)\u001b[0m\n\u001b[1;32m   1049\u001b[0m         if not (self._backward_hooks or self._forward_hooks or self._forward_pre_hooks or _global_backward_hooks\n\u001b[1;32m   1050\u001b[0m                 or _global_forward_hooks or _global_forward_pre_hooks):\n\u001b[0;32m-> 1051\u001b[0;31m             \u001b[0;32mreturn\u001b[0m \u001b[0mforward_call\u001b[0m\u001b[0;34m(\u001b[0m\u001b[0;34m*\u001b[0m\u001b[0minput\u001b[0m\u001b[0;34m,\u001b[0m \u001b[0;34m**\u001b[0m\u001b[0mkwargs\u001b[0m\u001b[0;34m)\u001b[0m\u001b[0;34m\u001b[0m\u001b[0;34m\u001b[0m\u001b[0m\n\u001b[0m\u001b[1;32m   1052\u001b[0m         \u001b[0;31m# Do not call functions when jit is used\u001b[0m\u001b[0;34m\u001b[0m\u001b[0;34m\u001b[0m\u001b[0;34m\u001b[0m\u001b[0m\n\u001b[1;32m   1053\u001b[0m         \u001b[0mfull_backward_hooks\u001b[0m\u001b[0;34m,\u001b[0m \u001b[0mnon_full_backward_hooks\u001b[0m \u001b[0;34m=\u001b[0m \u001b[0;34m[\u001b[0m\u001b[0;34m]\u001b[0m\u001b[0;34m,\u001b[0m \u001b[0;34m[\u001b[0m\u001b[0;34m]\u001b[0m\u001b[0;34m\u001b[0m\u001b[0;34m\u001b[0m\u001b[0m\n",
            "\u001b[0;32m/usr/local/lib/python3.7/dist-packages/transformers/models/bert/modeling_bert.py\u001b[0m in \u001b[0;36mforward\u001b[0;34m(self, hidden_states, attention_mask, head_mask, encoder_hidden_states, encoder_attention_mask, past_key_values, use_cache, output_attentions, output_hidden_states, return_dict)\u001b[0m\n\u001b[1;32m    573\u001b[0m                     \u001b[0mencoder_attention_mask\u001b[0m\u001b[0;34m,\u001b[0m\u001b[0;34m\u001b[0m\u001b[0;34m\u001b[0m\u001b[0m\n\u001b[1;32m    574\u001b[0m                     \u001b[0mpast_key_value\u001b[0m\u001b[0;34m,\u001b[0m\u001b[0;34m\u001b[0m\u001b[0;34m\u001b[0m\u001b[0m\n\u001b[0;32m--> 575\u001b[0;31m                     \u001b[0moutput_attentions\u001b[0m\u001b[0;34m,\u001b[0m\u001b[0;34m\u001b[0m\u001b[0;34m\u001b[0m\u001b[0m\n\u001b[0m\u001b[1;32m    576\u001b[0m                 )\n\u001b[1;32m    577\u001b[0m \u001b[0;34m\u001b[0m\u001b[0m\n",
            "\u001b[0;32m/usr/local/lib/python3.7/dist-packages/torch/nn/modules/module.py\u001b[0m in \u001b[0;36m_call_impl\u001b[0;34m(self, *input, **kwargs)\u001b[0m\n\u001b[1;32m   1049\u001b[0m         if not (self._backward_hooks or self._forward_hooks or self._forward_pre_hooks or _global_backward_hooks\n\u001b[1;32m   1050\u001b[0m                 or _global_forward_hooks or _global_forward_pre_hooks):\n\u001b[0;32m-> 1051\u001b[0;31m             \u001b[0;32mreturn\u001b[0m \u001b[0mforward_call\u001b[0m\u001b[0;34m(\u001b[0m\u001b[0;34m*\u001b[0m\u001b[0minput\u001b[0m\u001b[0;34m,\u001b[0m \u001b[0;34m**\u001b[0m\u001b[0mkwargs\u001b[0m\u001b[0;34m)\u001b[0m\u001b[0;34m\u001b[0m\u001b[0;34m\u001b[0m\u001b[0m\n\u001b[0m\u001b[1;32m   1052\u001b[0m         \u001b[0;31m# Do not call functions when jit is used\u001b[0m\u001b[0;34m\u001b[0m\u001b[0;34m\u001b[0m\u001b[0;34m\u001b[0m\u001b[0m\n\u001b[1;32m   1053\u001b[0m         \u001b[0mfull_backward_hooks\u001b[0m\u001b[0;34m,\u001b[0m \u001b[0mnon_full_backward_hooks\u001b[0m \u001b[0;34m=\u001b[0m \u001b[0;34m[\u001b[0m\u001b[0;34m]\u001b[0m\u001b[0;34m,\u001b[0m \u001b[0;34m[\u001b[0m\u001b[0;34m]\u001b[0m\u001b[0;34m\u001b[0m\u001b[0;34m\u001b[0m\u001b[0m\n",
            "\u001b[0;32m/usr/local/lib/python3.7/dist-packages/transformers/models/bert/modeling_bert.py\u001b[0m in \u001b[0;36mforward\u001b[0;34m(self, hidden_states, attention_mask, head_mask, encoder_hidden_states, encoder_attention_mask, past_key_value, output_attentions)\u001b[0m\n\u001b[1;32m    459\u001b[0m             \u001b[0mhead_mask\u001b[0m\u001b[0;34m,\u001b[0m\u001b[0;34m\u001b[0m\u001b[0;34m\u001b[0m\u001b[0m\n\u001b[1;32m    460\u001b[0m             \u001b[0moutput_attentions\u001b[0m\u001b[0;34m=\u001b[0m\u001b[0moutput_attentions\u001b[0m\u001b[0;34m,\u001b[0m\u001b[0;34m\u001b[0m\u001b[0;34m\u001b[0m\u001b[0m\n\u001b[0;32m--> 461\u001b[0;31m             \u001b[0mpast_key_value\u001b[0m\u001b[0;34m=\u001b[0m\u001b[0mself_attn_past_key_value\u001b[0m\u001b[0;34m,\u001b[0m\u001b[0;34m\u001b[0m\u001b[0;34m\u001b[0m\u001b[0m\n\u001b[0m\u001b[1;32m    462\u001b[0m         )\n\u001b[1;32m    463\u001b[0m         \u001b[0mattention_output\u001b[0m \u001b[0;34m=\u001b[0m \u001b[0mself_attention_outputs\u001b[0m\u001b[0;34m[\u001b[0m\u001b[0;36m0\u001b[0m\u001b[0;34m]\u001b[0m\u001b[0;34m\u001b[0m\u001b[0;34m\u001b[0m\u001b[0m\n",
            "\u001b[0;32m/usr/local/lib/python3.7/dist-packages/torch/nn/modules/module.py\u001b[0m in \u001b[0;36m_call_impl\u001b[0;34m(self, *input, **kwargs)\u001b[0m\n\u001b[1;32m   1049\u001b[0m         if not (self._backward_hooks or self._forward_hooks or self._forward_pre_hooks or _global_backward_hooks\n\u001b[1;32m   1050\u001b[0m                 or _global_forward_hooks or _global_forward_pre_hooks):\n\u001b[0;32m-> 1051\u001b[0;31m             \u001b[0;32mreturn\u001b[0m \u001b[0mforward_call\u001b[0m\u001b[0;34m(\u001b[0m\u001b[0;34m*\u001b[0m\u001b[0minput\u001b[0m\u001b[0;34m,\u001b[0m \u001b[0;34m**\u001b[0m\u001b[0mkwargs\u001b[0m\u001b[0;34m)\u001b[0m\u001b[0;34m\u001b[0m\u001b[0;34m\u001b[0m\u001b[0m\n\u001b[0m\u001b[1;32m   1052\u001b[0m         \u001b[0;31m# Do not call functions when jit is used\u001b[0m\u001b[0;34m\u001b[0m\u001b[0;34m\u001b[0m\u001b[0;34m\u001b[0m\u001b[0m\n\u001b[1;32m   1053\u001b[0m         \u001b[0mfull_backward_hooks\u001b[0m\u001b[0;34m,\u001b[0m \u001b[0mnon_full_backward_hooks\u001b[0m \u001b[0;34m=\u001b[0m \u001b[0;34m[\u001b[0m\u001b[0;34m]\u001b[0m\u001b[0;34m,\u001b[0m \u001b[0;34m[\u001b[0m\u001b[0;34m]\u001b[0m\u001b[0;34m\u001b[0m\u001b[0;34m\u001b[0m\u001b[0m\n",
            "\u001b[0;32m/usr/local/lib/python3.7/dist-packages/transformers/models/bert/modeling_bert.py\u001b[0m in \u001b[0;36mforward\u001b[0;34m(self, hidden_states, attention_mask, head_mask, encoder_hidden_states, encoder_attention_mask, past_key_value, output_attentions)\u001b[0m\n\u001b[1;32m    392\u001b[0m             \u001b[0mencoder_attention_mask\u001b[0m\u001b[0;34m,\u001b[0m\u001b[0;34m\u001b[0m\u001b[0;34m\u001b[0m\u001b[0m\n\u001b[1;32m    393\u001b[0m             \u001b[0mpast_key_value\u001b[0m\u001b[0;34m,\u001b[0m\u001b[0;34m\u001b[0m\u001b[0;34m\u001b[0m\u001b[0m\n\u001b[0;32m--> 394\u001b[0;31m             \u001b[0moutput_attentions\u001b[0m\u001b[0;34m,\u001b[0m\u001b[0;34m\u001b[0m\u001b[0;34m\u001b[0m\u001b[0m\n\u001b[0m\u001b[1;32m    395\u001b[0m         )\n\u001b[1;32m    396\u001b[0m         \u001b[0mattention_output\u001b[0m \u001b[0;34m=\u001b[0m \u001b[0mself\u001b[0m\u001b[0;34m.\u001b[0m\u001b[0moutput\u001b[0m\u001b[0;34m(\u001b[0m\u001b[0mself_outputs\u001b[0m\u001b[0;34m[\u001b[0m\u001b[0;36m0\u001b[0m\u001b[0;34m]\u001b[0m\u001b[0;34m,\u001b[0m \u001b[0mhidden_states\u001b[0m\u001b[0;34m)\u001b[0m\u001b[0;34m\u001b[0m\u001b[0;34m\u001b[0m\u001b[0m\n",
            "\u001b[0;32m/usr/local/lib/python3.7/dist-packages/torch/nn/modules/module.py\u001b[0m in \u001b[0;36m_call_impl\u001b[0;34m(self, *input, **kwargs)\u001b[0m\n\u001b[1;32m   1049\u001b[0m         if not (self._backward_hooks or self._forward_hooks or self._forward_pre_hooks or _global_backward_hooks\n\u001b[1;32m   1050\u001b[0m                 or _global_forward_hooks or _global_forward_pre_hooks):\n\u001b[0;32m-> 1051\u001b[0;31m             \u001b[0;32mreturn\u001b[0m \u001b[0mforward_call\u001b[0m\u001b[0;34m(\u001b[0m\u001b[0;34m*\u001b[0m\u001b[0minput\u001b[0m\u001b[0;34m,\u001b[0m \u001b[0;34m**\u001b[0m\u001b[0mkwargs\u001b[0m\u001b[0;34m)\u001b[0m\u001b[0;34m\u001b[0m\u001b[0;34m\u001b[0m\u001b[0m\n\u001b[0m\u001b[1;32m   1052\u001b[0m         \u001b[0;31m# Do not call functions when jit is used\u001b[0m\u001b[0;34m\u001b[0m\u001b[0;34m\u001b[0m\u001b[0;34m\u001b[0m\u001b[0m\n\u001b[1;32m   1053\u001b[0m         \u001b[0mfull_backward_hooks\u001b[0m\u001b[0;34m,\u001b[0m \u001b[0mnon_full_backward_hooks\u001b[0m \u001b[0;34m=\u001b[0m \u001b[0;34m[\u001b[0m\u001b[0;34m]\u001b[0m\u001b[0;34m,\u001b[0m \u001b[0;34m[\u001b[0m\u001b[0;34m]\u001b[0m\u001b[0;34m\u001b[0m\u001b[0;34m\u001b[0m\u001b[0m\n",
            "\u001b[0;32m/usr/local/lib/python3.7/dist-packages/transformers/models/bert/modeling_bert.py\u001b[0m in \u001b[0;36mforward\u001b[0;34m(self, hidden_states, attention_mask, head_mask, encoder_hidden_states, encoder_attention_mask, past_key_value, output_attentions)\u001b[0m\n\u001b[1;32m    323\u001b[0m             \u001b[0mattention_probs\u001b[0m \u001b[0;34m=\u001b[0m \u001b[0mattention_probs\u001b[0m \u001b[0;34m*\u001b[0m \u001b[0mhead_mask\u001b[0m\u001b[0;34m\u001b[0m\u001b[0;34m\u001b[0m\u001b[0m\n\u001b[1;32m    324\u001b[0m \u001b[0;34m\u001b[0m\u001b[0m\n\u001b[0;32m--> 325\u001b[0;31m         \u001b[0mcontext_layer\u001b[0m \u001b[0;34m=\u001b[0m \u001b[0mtorch\u001b[0m\u001b[0;34m.\u001b[0m\u001b[0mmatmul\u001b[0m\u001b[0;34m(\u001b[0m\u001b[0mattention_probs\u001b[0m\u001b[0;34m,\u001b[0m \u001b[0mvalue_layer\u001b[0m\u001b[0;34m)\u001b[0m\u001b[0;34m\u001b[0m\u001b[0;34m\u001b[0m\u001b[0m\n\u001b[0m\u001b[1;32m    326\u001b[0m \u001b[0;34m\u001b[0m\u001b[0m\n\u001b[1;32m    327\u001b[0m         \u001b[0mcontext_layer\u001b[0m \u001b[0;34m=\u001b[0m \u001b[0mcontext_layer\u001b[0m\u001b[0;34m.\u001b[0m\u001b[0mpermute\u001b[0m\u001b[0;34m(\u001b[0m\u001b[0;36m0\u001b[0m\u001b[0;34m,\u001b[0m \u001b[0;36m2\u001b[0m\u001b[0;34m,\u001b[0m \u001b[0;36m1\u001b[0m\u001b[0;34m,\u001b[0m \u001b[0;36m3\u001b[0m\u001b[0;34m)\u001b[0m\u001b[0;34m.\u001b[0m\u001b[0mcontiguous\u001b[0m\u001b[0;34m(\u001b[0m\u001b[0;34m)\u001b[0m\u001b[0;34m\u001b[0m\u001b[0;34m\u001b[0m\u001b[0m\n",
            "\u001b[0;31mKeyboardInterrupt\u001b[0m: "
          ]
        }
      ]
    },
    {
      "cell_type": "code",
      "metadata": {
        "id": "1lXy2JxOyRG3",
        "colab": {
          "base_uri": "https://localhost:8080/"
        },
        "outputId": "b4f0ace6-adf3-4f8d-a85b-3f0564df54b0"
      },
      "source": [
        "!nvidia-smi"
      ],
      "execution_count": null,
      "outputs": [
        {
          "output_type": "stream",
          "text": [
            "Fri Jul  2 09:53:11 2021       \n",
            "+-----------------------------------------------------------------------------+\n",
            "| NVIDIA-SMI 465.27       Driver Version: 460.32.03    CUDA Version: 11.2     |\n",
            "|-------------------------------+----------------------+----------------------+\n",
            "| GPU  Name        Persistence-M| Bus-Id        Disp.A | Volatile Uncorr. ECC |\n",
            "| Fan  Temp  Perf  Pwr:Usage/Cap|         Memory-Usage | GPU-Util  Compute M. |\n",
            "|                               |                      |               MIG M. |\n",
            "|===============================+======================+======================|\n",
            "|   0  Tesla T4            Off  | 00000000:00:04.0 Off |                    0 |\n",
            "| N/A   59C    P0    29W /  70W |   4638MiB / 15109MiB |      0%      Default |\n",
            "|                               |                      |                  N/A |\n",
            "+-------------------------------+----------------------+----------------------+\n",
            "                                                                               \n",
            "+-----------------------------------------------------------------------------+\n",
            "| Processes:                                                                  |\n",
            "|  GPU   GI   CI        PID   Type   Process name                  GPU Memory |\n",
            "|        ID   ID                                                   Usage      |\n",
            "|=============================================================================|\n",
            "+-----------------------------------------------------------------------------+\n"
          ],
          "name": "stdout"
        }
      ]
    },
    {
      "cell_type": "code",
      "metadata": {
        "id": "1xrn0Ygtgiqr",
        "colab": {
          "base_uri": "https://localhost:8080/"
        },
        "outputId": "5a1aa4d0-e4bb-45b3-c1f8-e160c0637179"
      },
      "source": [
        "model.bert.embeddings.word_embeddings"
      ],
      "execution_count": null,
      "outputs": [
        {
          "output_type": "execute_result",
          "data": {
            "text/plain": [
              "Embedding(32001, 768)"
            ]
          },
          "metadata": {
            "tags": []
          },
          "execution_count": 46
        }
      ]
    },
    {
      "cell_type": "code",
      "metadata": {
        "id": "RoASV2CJooyx"
      },
      "source": [
        "model.bert.embeddings.word_embeddings.padding_idx"
      ],
      "execution_count": null,
      "outputs": []
    },
    {
      "cell_type": "code",
      "metadata": {
        "id": "hejjFI0J77Zw",
        "colab": {
          "base_uri": "https://localhost:8080/"
        },
        "outputId": "4031062e-7a00-43d5-e662-38723b879e9d"
      },
      "source": [
        "tokenizer.special_tokens_map"
      ],
      "execution_count": null,
      "outputs": [
        {
          "output_type": "execute_result",
          "data": {
            "text/plain": [
              "{'bos_token': '[CLS]',\n",
              " 'cls_token': '[CLS]',\n",
              " 'eos_token': '[SEP]',\n",
              " 'mask_token': '[MASK]',\n",
              " 'pad_token': '<pad>',\n",
              " 'sep_token': '[SEP]',\n",
              " 'unk_token': '<unk>'}"
            ]
          },
          "metadata": {
            "tags": []
          },
          "execution_count": 48
        }
      ]
    },
    {
      "cell_type": "code",
      "metadata": {
        "id": "5KjQ8244l4Xt"
      },
      "source": [
        "mkdir eduge-finetuned"
      ],
      "execution_count": null,
      "outputs": []
    },
    {
      "cell_type": "code",
      "metadata": {
        "colab": {
          "base_uri": "https://localhost:8080/"
        },
        "id": "tNl6gRhRlnSm",
        "outputId": "a4ad553d-ec2d-4e76-c896-96616d587b5a"
      },
      "source": [
        "!gsutil -m cp gs://eduge_dataset/Eduge-finetuned/* eduge-finetuned/"
      ],
      "execution_count": null,
      "outputs": [
        {
          "output_type": "stream",
          "text": [
            "Copying gs://eduge_dataset/Eduge-finetuned/config.json...\n",
            "/ [0/13 files][    0.0 B/  1.2 GiB]   0% Done                                   \rCopying gs://eduge_dataset/Eduge-finetuned/added_tokens.json...\n",
            "/ [0/13 files][    0.0 B/  1.2 GiB]   0% Done                                   \rCopying gs://eduge_dataset/Eduge-finetuned/scheduler.pt...\n",
            "/ [0/13 files][    0.0 B/  1.2 GiB]   0% Done                                   \rCopying gs://eduge_dataset/Eduge-finetuned/pytorch_model.bin...\n",
            "Copying gs://eduge_dataset/Eduge-finetuned/special_tokens_map.json...\n",
            "/ [0/13 files][    0.0 B/  1.2 GiB]   0% Done                                   \r/ [0/13 files][    0.0 B/  1.2 GiB]   0% Done                                   \rCopying gs://eduge_dataset/Eduge-finetuned/optimizer.pt...\n",
            "/ [0/13 files][    0.0 B/  1.2 GiB]   0% Done                                   \rCopying gs://eduge_dataset/Eduge-finetuned/rng_state.pth...\n",
            "/ [0/13 files][    0.0 B/  1.2 GiB]   0% Done                                   \rCopying gs://eduge_dataset/Eduge-finetuned/spiece.model...\n",
            "/ [0/13 files][    0.0 B/  1.2 GiB]   0% Done                                   \rCopying gs://eduge_dataset/Eduge-finetuned/tokenizer.json...\n",
            "Copying gs://eduge_dataset/Eduge-finetuned/tokenizer_config.json...\n",
            "Copying gs://eduge_dataset/Eduge-finetuned/trainer_state.json...\n",
            "Copying gs://eduge_dataset/Eduge-finetuned/training_args.bin...\n"
          ],
          "name": "stdout"
        }
      ]
    },
    {
      "cell_type": "code",
      "metadata": {
        "id": "3FAe_gUwlnxJ"
      },
      "source": [
        "from transformers import pipeline"
      ],
      "execution_count": null,
      "outputs": []
    },
    {
      "cell_type": "code",
      "metadata": {
        "id": "MAVjOPpqmnxI"
      },
      "source": [
        "nlp = pipeline(\"text-classification\", model='./eduge-finetuned/', config='./eduge-finetuned/')"
      ],
      "execution_count": null,
      "outputs": []
    },
    {
      "cell_type": "code",
      "metadata": {
        "colab": {
          "base_uri": "https://localhost:8080/"
        },
        "id": "YH7N18nwm1Vy",
        "outputId": "c1031a96-4aac-493f-bbed-8dddb7681d2c"
      },
      "source": [
        "nlp('Аюулгүй байдал, гадаад бодлогын байнгын хорооны өнөөдрийн хуралдаанаар зарим улсад суух Элчин сайдуудын томилгоог хэлэлцэж байна. Засгийн газрын хуралдаанаар 25 улсад суух Элчин сайдад нэр дэвшигчдийг дэмжсэн билээ. Элчин сайдад нэр дэвшигчдийг Ерөнхийлөгчийн Тамгын газрын дарга Я.Содбаатар танилцуулав.')"
      ],
      "execution_count": null,
      "outputs": [
        {
          "output_type": "execute_result",
          "data": {
            "text/plain": [
              "[{'label': 'LABEL_4', 'score': 0.9985010623931885}]"
            ]
          },
          "metadata": {
            "tags": []
          },
          "execution_count": 53
        }
      ]
    },
    {
      "cell_type": "code",
      "metadata": {
        "colab": {
          "base_uri": "https://localhost:8080/"
        },
        "id": "VUPi0ZQlm5dw",
        "outputId": "1d07cafd-0d8b-4f0c-ad99-6f5012c83c90"
      },
      "source": [
        "nlp('Олон улсын олимпын хороо /ОУОХ/-ны Гүйцэтгэх зөвлөл нь урьдчилан хүлээн зөвшөөрсөн Олон улсын спортын доорх зургаан холбоог Олимпын хартийн дагуу албан ёсоор хүлээн зөвшөөрөв. Олон улсын дэмжигчдийн холбоо /ICU - International Cheerleading Union, 2016 онд урьдчилан статусаар хүлээн зөвшөөрсөн/ Олон улсын Муайтай холбоо /IFU - International Federation of Muaytai Associations, 2016 онд урьдчилан статусаар хүлээн зөвшөөрсөн/ Олон улсын самбо бөхийн холбоо /FIAS - International Sambo Federation, 2018 онд урьдчилан статусаар хүлээн зөвшөөрсөн/ Олон улсын Айс-Стокийн холбоо /IFI - International Federation Icestocksport, 2018 онд урьдчилан статусаар хүлээн зөвшөөрсөн/ Кикбоксын байгууллагуудын дэлхийн холбоо /WAKO - World Association of Kickboxing Organisations, 2018 онд урьдчилан статусаар хүлээн зөвшөөрсөн/ Дэлхийн Лякросс /WL - World Lacrosse, 2018 онд урьдчилан статусаар хүлээн зөвшөөрсөн')"
      ],
      "execution_count": null,
      "outputs": [
        {
          "output_type": "execute_result",
          "data": {
            "text/plain": [
              "[{'label': 'LABEL_5', 'score': 0.999584436416626}]"
            ]
          },
          "metadata": {
            "tags": []
          },
          "execution_count": 11
        }
      ]
    },
    {
      "cell_type": "code",
      "metadata": {
        "id": "1C7H3mJom7nc"
      },
      "source": [
        ""
      ],
      "execution_count": null,
      "outputs": []
    }
  ]
}