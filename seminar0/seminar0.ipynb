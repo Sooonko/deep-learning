{
  "nbformat": 4,
  "nbformat_minor": 0,
  "metadata": {
    "colab": {
      "name": "seminar0.ipynb",
      "provenance": [],
      "collapsed_sections": [
        "Q7mq4NrK5X94",
        "HiICETFGfHcM",
        "8dwyJr6bfblN",
        "aT4hUzYoftLI",
        "Obog0Ycdfxvo"
      ],
      "toc_visible": true,
      "include_colab_link": true
    },
    "kernelspec": {
      "display_name": "Python 3",
      "language": "python",
      "name": "python3"
    },
    "language_info": {
      "codemirror_mode": {
        "name": "ipython",
        "version": 3
      },
      "file_extension": ".py",
      "mimetype": "text/x-python",
      "name": "python",
      "nbconvert_exporter": "python",
      "pygments_lexer": "ipython3",
      "version": "3.7.2"
    }
  },
  "cells": [
    {
      "cell_type": "markdown",
      "metadata": {
        "id": "view-in-github",
        "colab_type": "text"
      },
      "source": [
        "<a href=\"https://colab.research.google.com/github/dl-ub-summer-school/2021/blob/main/seminar0/seminar0.ipynb\" target=\"_parent\"><img src=\"https://colab.research.google.com/assets/colab-badge.svg\" alt=\"Open In Colab\"/></a>"
      ]
    },
    {
      "cell_type": "markdown",
      "metadata": {
        "id": "X1H7tqK6Nhle"
      },
      "source": [
        "<table class=\"tfo-notebook-buttons\" align=\"center\">\n",
        "    <td>\n",
        "        <a target=\"_blank\" href=\"https://colab.research.google.com/github/dl-ub-summer-school/2021/blob/master/seminar0/seminar0.ipynb\"><img src=\"https://www.tensorflow.org/images/colab_logo_32px.png\" />Google Colab дээр нээх</a>\n",
        "    </td>\n",
        "    <td>\n",
        "        <a target=\"_blank\" href=\"https://github.com/dl-ub-summer-school/2021/blob/master/seminar0/seminar0.ipynb\"><img src=\"https://www.tensorflow.org/images/GitHub-Mark-32px.png\" />GitHub дээр нээх</a>\n",
        "    </td>\n",
        "    <td>\n",
        "        <a target=\"_blank\" href=\"https://sites.google.com/view/dlub\"><img src=\"https://avatars0.githubusercontent.com/u/52651086?s=32&v=4\">Зуны сургалтын вебсайт</a>\n",
        "    </td>\n",
        "</table>"
      ]
    },
    {
      "cell_type": "markdown",
      "metadata": {
        "id": "Q7mq4NrK5X94"
      },
      "source": [
        "# 0. Google Colab-тай танилцах нь\n",
        "\n",
        "Энэ бол Google Colab нөтбүк (цаашид Колаб нөтбүк гэх). Колаб нь [Jupyter нөтбүк](https://jupyter.org/)тэй маш адилхан файлын бүтэцтэй нөтбүкийг Google Drive хэмээх (цаашид Драйв гэх) үүлэн агуулахад байршуулж олон хүн нэг файлыг харах, өөрчлөлт оруулах зэргийг боломжтой болгосон шийдэл юм.\n",
        "\n",
        "Дараагийн хэдэн дасгалаар дамжуулж Колаб дээр хэрхэн ажиллахыг ойлгоцгооё. Эхлээд дараах үйлдлүүдийг дагаж хийгээд энэ нөтбүкийг өөрийн Драйвтаа хадгалж аваарай.\n",
        "\n",
        "1. Зүүн дээд буланд байгаа _File_ дээр дараад\n",
        "2. _Save copy in Drive_ дээр дарж өөрийн хувийг үүсгээд\n",
        "3. Үүсгэсэн Колаб нөтбүк дээрээ ажилла.\n",
        "4. Дараа нь энэ Колаб нөтбүкээ Драйв доторх Colab Notebooks гэдэг нэртэй, автоматаар үүсдэг хавтсан дотроос олж үзээрэй."
      ]
    },
    {
      "cell_type": "code",
      "metadata": {
        "id": "R1yP_uvyNX2A"
      },
      "source": [
        "# This is a comment\n",
        "# in a code cell\n",
        "# Press shift + enter to execute a cell\n",
        "# Nothing will print from this cell since these are all comments"
      ],
      "execution_count": null,
      "outputs": []
    },
    {
      "cell_type": "markdown",
      "metadata": {
        "id": "HiICETFGfHcM"
      },
      "source": [
        "## Дасгал 0.0: Hello World\n",
        "\n",
        "**Hello World** нь хамгийн энгийн програмуудын нэг ба шинээр програмчлал сурах болгонд хамгийн эхэнд бичигддэг билээ.\n",
        "\n",
        "1. Энэ текстэн нүдэн дээр дар. Уг нүд тодрох ёстой.\n",
        "2. Зүүн дээр (өмнө дарсан File-ын ойролцоо) байгаа \"+ CODE\" товчлуур дээр дар. Ингэвэл дараагийн мөрөнд кодны шинэ нүд үүсэх болно.\n",
        "3. Шинээр үүсгэсэн нүдэндээ дараах кодыг оруул:\n",
        "\n",
        "> ```python\n",
        "> print( \"Hello world!\" )\n",
        "> ```\n",
        "\n",
        "4. Кодны нүдний зүүн талын \"тоглуулах\" товчин дээр дарж нүдээ ажиллуулаарай. Колаб нөтбүк дотор хамгийн эхний нүдээ ажиллуулахад 10-20 секунд болж уддаг бол дараа дараагийнхаас хурдан болчихдог.\n",
        "\n",
        "    * keyboard shortcut: `SHIFT+ENTER`\n",
        "    \n",
        "-----------"
      ]
    },
    {
      "cell_type": "code",
      "metadata": {
        "id": "V-OpQk6kfVON"
      },
      "source": [
        "print('Hello World!')"
      ],
      "execution_count": null,
      "outputs": []
    },
    {
      "cell_type": "markdown",
      "metadata": {
        "id": "r6GNtgwrfWZw"
      },
      "source": [
        "### Тэмдэглэл\n",
        "\n",
        "Python дээр бичигдсэн кодны тухайн мөрийн `#` тэмдгийн дараах хэсэг _ажилладаггүй_. Энэ ажиллахгүй байгаа хэсгийг \"коммент\" гэдэг. Python-ы код гүйцэтгэгч (interpreter) `#` тэмдгээр эхэлсэн мөрийг алгасдаг ба энэ тэмдэгтэй мөр нь програмд ямар ч нөлөө үзүүлэхгүй, харин кодыг уншиж байгаа хүнд зориулагдсан тэмдэглэл байдлаар хэрэглэгддэг."
      ]
    },
    {
      "cell_type": "markdown",
      "metadata": {
        "id": "8dwyJr6bfblN"
      },
      "source": [
        "## Дасгал 0.1: Бүр амархан Hello World \n",
        "\n",
        "Энд кодны нүдэнд хамгийн сүүлд бодогдож байгаа илэрхийллийн утга автоматаар хэвлэгддэг. Тэгэхээр `print` гэж бичих илүүц байж.\n",
        "\n",
        "1. Энэ текстэн нүдэн дээр дар. Уг нүд тодрох ёстой.\n",
        "2. Зүүн дээр байгаа \"+ CODE\" товчлуур дээр дар. Ингэвэл дараагийн мөрөнд кодны шинэ нүд үүсэх болно.\n",
        "3. Шинээр үүсгэсэн нүдэндээ дараах кодыг оруул:\n",
        "\n",
        "> ```python\n",
        "> \"Hello world!\"\n",
        "> ```\n",
        "\n",
        "4. Кодны нүдний зүүн талын \"тоглуулах\" товчин дээр дарж нүдээ ажиллуулаарай.\n",
        "----------"
      ]
    },
    {
      "cell_type": "code",
      "metadata": {
        "id": "ikDSlDh5faNz"
      },
      "source": [
        "\"Hello world!\""
      ],
      "execution_count": null,
      "outputs": []
    },
    {
      "cell_type": "markdown",
      "metadata": {
        "id": "A2LpLWRVfjHC"
      },
      "source": [
        "### Ямар ялгаа байв?\n",
        "\n",
        "`print(x)` функц `str(x)`-ийн үр дүнг стандарт гаралт (`stdout`) руу шууд бичдэг. Jupyter нөтбүк дээр `stdout` руу бичигдсэн бүхэн кодны нүдний яг доор хэвлэгддэг.\n",
        "\n"
      ]
    },
    {
      "cell_type": "code",
      "metadata": {
        "id": "vUDZHkbBflPP"
      },
      "source": [
        "# Here we write a value to stdout, which is the same thing as print().\n",
        "\n",
        "import sys\n",
        "\n",
        "sys.stdout.write( \"Hello, standard out!\\n\" )\n",
        "print( \"Hello, print!\" )"
      ],
      "execution_count": null,
      "outputs": []
    },
    {
      "cell_type": "markdown",
      "metadata": {
        "id": "5mqb6ABifohK"
      },
      "source": [
        "Эндээс сурах зүйл нь: `print()` нь python-ы ямар л бол ямар орчинд - notebook, command line, script, web server, or library - ажилладаг, учир нь эд бүгд `stdout`-т хандах эрхтэй.\n",
        "\n",
        "Jupyter нөтбүкийн нүдийг `x`-ээр төгсгөөд ажиллуулбал энэ нүдний чанх доор `repr(x)` хэвлэгдэнэ. Энэ нь зөвхөн Jupyter нөтбүкт хамааралтай зүйл юм. Та энэ үйлдлийг Jupyter нөтбүкийн _гадна_ хийвэл баларна шүү."
      ]
    },
    {
      "cell_type": "code",
      "metadata": {
        "id": "WBgtIL4Lfqet"
      },
      "source": [
        "\"Hello, Jupyter cell!\""
      ],
      "execution_count": null,
      "outputs": []
    },
    {
      "cell_type": "markdown",
      "metadata": {
        "id": "aT4hUzYoftLI"
      },
      "source": [
        "## Дасгал 0.10: Текстээс ч илүүг\n",
        "\n",
        "Кодны нүдийг ажиллуулахад тухайн нүдний хамгийн сүүлийн мөрийн үр дүнгийн текстэн утга дандаа хэвлэгддэг.\n",
        "\n",
        "1. Шинэ кодны нүд үүсгээд дараахыг оруул:\n",
        "\n",
        "> ```python\n",
        "> a = 10 # YOUR FAVORITE NUMBER\n",
        "> a\n",
        "> ```\n",
        "\n",
        "2. Нүдээ ажиллуул.\n",
        "\n",
        "_Техникийн хувьд_: `repr(LAST_EXPRESSION)`-ийн текстэн утга нүдийг уншуулсны дараа нүдний яг дор хэвлэгддэг.\n",
        "\n",
        "--------\n",
        "\n"
      ]
    },
    {
      "cell_type": "code",
      "metadata": {
        "id": "jBbWtq-4fvLs"
      },
      "source": [
        "a = 42\n",
        "print(a)"
      ],
      "execution_count": null,
      "outputs": []
    },
    {
      "cell_type": "markdown",
      "metadata": {
        "id": "Obog0Ycdfxvo"
      },
      "source": [
        "# 1. Python-тай танилцах нь\n",
        "\n",
        "Шууд ажилдаа оръё.\n",
        "\n",
        "Python програм гэдэг нь илэрхийлэл, томъёоны (expression, statement) дараалал юм. Бүр нарийн ширийнд нь санаа зовох хэрэггүй, ерөнхийдөө ингэж ойлгож болно:\n",
        "\n",
        "* **statement** нь **үйл үг** шиг, энэ нь ямар нэгэн юм **хийдэг**.\n",
        "* **expression** нь **нэр үг** шиг, энэ нь **өөрөө** ямар нэгэн юм.\n",
        "\n",
        "Хамгийн энгийн Python програм нь ганц expression, харин хамгийн энгийн expression нь зүгээр тоо.\n",
        "\n",
        "Кодны нүд нээгээд, нэг тоо бичээд, нүдээ ажиллуулаад үзээрэй.."
      ]
    },
    {
      "cell_type": "code",
      "metadata": {
        "id": "Y5jy8L4gf2kT"
      },
      "source": [
        "# Statement\n",
        "49"
      ],
      "execution_count": null,
      "outputs": []
    },
    {
      "cell_type": "code",
      "metadata": {
        "id": "Jfl3iPMSf55w"
      },
      "source": [
        "# Expression\n",
        "a = 49"
      ],
      "execution_count": null,
      "outputs": []
    },
    {
      "cell_type": "code",
      "metadata": {
        "id": "EGySp81Lf7jA"
      },
      "source": [
        "print(a)"
      ],
      "execution_count": null,
      "outputs": []
    },
    {
      "cell_type": "markdown",
      "metadata": {
        "id": "NGzfTy-RhgeX"
      },
      "source": [
        "##  Дасгал 1.0 Literal илэрхийлэл"
      ]
    },
    {
      "cell_type": "markdown",
      "metadata": {
        "id": "A7T7-G4Af-Df"
      },
      "source": [
        "Ганц утга илэрхийлдэг илэрхийллийг **literal** гэдэг. Literal бүр нь **type** буюу төрөлтэй. Дээрх  literal бол **integer** буюу **бүхэл тоо**.\n",
        "\n",
        "Python хэд хэдэн тоон төрөлтэй.\n",
        "\n",
        "Дараах нүдэнд бодит тооны (floating point number) жишээ байна:\n"
      ]
    },
    {
      "cell_type": "code",
      "metadata": {
        "id": "igCMxQBVhlNN"
      },
      "source": [
        "# Floating Point Number\n",
        "4.52324"
      ],
      "execution_count": null,
      "outputs": []
    },
    {
      "cell_type": "markdown",
      "metadata": {
        "id": "AeurrYO3hm8A"
      },
      "source": [
        "Дараах нүдэнд комплекс тооны (complex number) жишээ байна:"
      ]
    },
    {
      "cell_type": "code",
      "metadata": {
        "id": "LU9vvIIfhot5"
      },
      "source": [
        "# Complex Number\n",
        "complex(1, 5)"
      ],
      "execution_count": null,
      "outputs": []
    },
    {
      "cell_type": "markdown",
      "metadata": {
        "id": "0i6bRij9ht76"
      },
      "source": [
        "Өмнө бичсэнчлэн, literal төрөлтэй. Яг үнэндээ - бүх илэрхийллийн утга төрөлтэй. Т `type` функцийг ашиглаад илэрхийллүүдийн утгын төрлийг мэдэж болно.\n",
        "\n",
        "```python\n",
        "type(EXPRESSION)\n",
        "```\n",
        "\n",
        "Туршаад үзээрэй."
      ]
    },
    {
      "cell_type": "code",
      "metadata": {
        "id": "MBMx3xIuhueA"
      },
      "source": [
        "type(5)"
      ],
      "execution_count": null,
      "outputs": []
    },
    {
      "cell_type": "code",
      "metadata": {
        "id": "6IILuad-hx8T"
      },
      "source": [
        "a = 5\n",
        "type(a)"
      ],
      "execution_count": null,
      "outputs": []
    },
    {
      "cell_type": "code",
      "metadata": {
        "id": "Gzc7k8IThzT-"
      },
      "source": [
        "a = 5.2\n",
        "type(a)"
      ],
      "execution_count": null,
      "outputs": []
    },
    {
      "cell_type": "code",
      "metadata": {
        "id": "VY4jj5gsh1xH"
      },
      "source": [
        "type(complex(4, 3))"
      ],
      "execution_count": null,
      "outputs": []
    },
    {
      "cell_type": "markdown",
      "metadata": {
        "id": "lRa2s4cqh3Rw"
      },
      "source": [
        "## Дасгал 1.1 Арифмемик илэрхийлэл\n",
        "\n",
        "Python өөрөө тоон төрлийн literal-уудын хэд хэдэн хялбар арифметик илэрхийлэлтэй.\n",
        "\n",
        "* `+` нэмэх\n",
        "* `-` хасах\n",
        "* `*` үржих\n",
        "* `/` хуваах\n",
        "* `**` зэрэгт дэвшүүлэх\n",
        "\n",
        "Бусад арифметик илэрхийллүүд:\n",
        "\n",
        "* `//` бүхлээр хуваах \n",
        "* `%` хуваахад гарах үлдэгдэл"
      ]
    },
    {
      "cell_type": "code",
      "metadata": {
        "id": "ZUEA06ECh4lH"
      },
      "source": [
        "# Examples \n",
        "\n",
        "# Addition\n",
        "a = 10\n",
        "print(a + 2)"
      ],
      "execution_count": null,
      "outputs": []
    },
    {
      "cell_type": "code",
      "metadata": {
        "id": "VArkb7aSykJo"
      },
      "source": [
        "# Subtraction\n",
        "print(a - 2)"
      ],
      "execution_count": null,
      "outputs": []
    },
    {
      "cell_type": "code",
      "metadata": {
        "id": "_tsP7w23ylXp"
      },
      "source": [
        "# Multiplication\n",
        "print(a * 2)"
      ],
      "execution_count": null,
      "outputs": []
    },
    {
      "cell_type": "code",
      "metadata": {
        "id": "8gHLAGaEynCB"
      },
      "source": [
        "# Division\n",
        "print(a/2)"
      ],
      "execution_count": null,
      "outputs": []
    },
    {
      "cell_type": "code",
      "metadata": {
        "id": "VgZUcWrVyo7j"
      },
      "source": [
        "# Exponentiation\n",
        "a = 5\n",
        "b = 2\n",
        "print(a ** b)"
      ],
      "execution_count": null,
      "outputs": []
    },
    {
      "cell_type": "markdown",
      "metadata": {
        "id": "jTh7eVgiyriL"
      },
      "source": [
        "Асуултууд: \n",
        "\n",
        "1. Бүхлээр хуваах гэж юу вэ?\n",
        "2. Хуваахад гарах үлдэгдэл гэж юу вэ?"
      ]
    },
    {
      "cell_type": "code",
      "metadata": {
        "id": "Lmdc9qKPpuBN"
      },
      "source": [
        "#Floor Division\n",
        "print(17 // 8)"
      ],
      "execution_count": null,
      "outputs": []
    },
    {
      "cell_type": "code",
      "metadata": {
        "id": "f9EBgGanpvwb"
      },
      "source": [
        "# Modulo\n",
        "print(17 % 9)"
      ],
      "execution_count": null,
      "outputs": []
    },
    {
      "cell_type": "markdown",
      "metadata": {
        "id": "-vHPaV62pxQh"
      },
      "source": [
        "## Дасгал 1.10 Хувьсагч илэрхийлэл\n",
        "\n",
        "Python **хувьсагч** гэгддэг утгуудыг тэмдэглэх аргатай. Та алгебрийн хичээлээсээ хувьсагчийн талаар хувьсагч тоо хадгалдаг гэсэн ойлголтыг авсан байх.\n",
        "\n",
        "$$ x_i = 15.4 $$\n",
        "\n",
        "Python-д хувьсагчийг зарлахдаа **assignment statement** ашигладаг ба энэ нь эхлээд хувьсагч үүсгээд дараа нь тухайн хувьсагчдаа утга оноож өгдөг. Энэ үйл явц нь `=` мэтийн **assignment operator**-ын тусламжтай, дараах маягаар явагддаг:\n",
        "\n",
        "```python\n",
        "VARIABLE = VALUE_EXPRESSION\n",
        "```\n",
        "\n",
        "Жишээлбэл, энд бид `a` гэсэн хувьсагчийг үүсгээд үүндээ бодит утга болох `1969.2121`-г оноож өгнө."
      ]
    },
    {
      "cell_type": "code",
      "metadata": {
        "id": "rJbyprwfrjpP"
      },
      "source": [
        "a = 1969.2121\n",
        "b = 10\n",
        "c = a + b\n",
        "print(c)"
      ],
      "execution_count": null,
      "outputs": []
    },
    {
      "cell_type": "markdown",
      "metadata": {
        "id": "PXWufCPernY3"
      },
      "source": [
        "**Тэмдэглэл**\n",
        "\n",
        "`=` assignment operator нь Python-д \"тэнцүү\" _биш_, \"утга авлаа\" гэж уншигддаг. `a = 12` statement нь \"a арван хоёр гэсэн утга авлаа\" гэж уншигдана.\n",
        "\n",
        "\n",
        "#### Кодны уншигдах байдал \n",
        "\n",
        "Тодорхой хувьсагчийн нэр ашиглах нь уншихад амархан код бичихийн чухал хэсэг. Python-д нэгээс гурав орчим жижигхэн үсэгтэй үгийг доогуур зураасаар нийлүүлж бичих нь элбэг. Жишээлбэл:\n",
        "\n",
        "`birthday`\n",
        "\n",
        "эсвэл\n",
        "\n",
        "`party_date`\n",
        "\n",
        "Зарим тохиолдолд богино хувьсагчийн нэр ашиглах нь илүү тохиромжтой байдаг, жишээлбэл `i` нь давталтын тоолуурыг нэрлэхэд илүү тохиромжтой."
      ]
    },
    {
      "cell_type": "markdown",
      "metadata": {
        "id": "fBKhwKHKvgdw"
      },
      "source": [
        "### Баруунаас зүүн рүү гүйцэтгэл\n",
        "\n",
        "Дараах кодыг ажиллуулбал юу болно гэж бодож байна?\n",
        "\n",
        "```python\n",
        "a = 7\n",
        "a = a*2\n",
        "print( a )\n",
        "```\n",
        "\n",
        "Ажиллуулаад шалгаарай!"
      ]
    },
    {
      "cell_type": "code",
      "metadata": {
        "id": "xxir3wpKwQK1"
      },
      "source": [
        "a = 7\n",
        "a = a*2\n",
        "print( a )"
      ],
      "execution_count": null,
      "outputs": []
    },
    {
      "cell_type": "code",
      "metadata": {
        "id": "WE5WXaxkwSR_"
      },
      "source": [
        "# This is the same as above but with a different method\n",
        "a = 7\n",
        "a *= 2\n",
        "print( a )"
      ],
      "execution_count": null,
      "outputs": []
    },
    {
      "cell_type": "markdown",
      "metadata": {
        "id": "i2hEU3PswU5I"
      },
      "source": [
        "Ажиллаж байгаа биз!? Яагаад гэхлээр assignment statement нь **баруунаас зүүн рүү** тооцогддог. Эхлээд `=` тэмдгийн баруун талын илэрхийлэл бодогдоод, дараа нь зүүн талын хувьсагчид тооцсон утга нь оноогддог.\n",
        "\n",
        "Ингэж хувьсагчийн утгыг солих нь маш түгээмэл хэрэглэгддэг учраас Python-д цаанаасаа уг үйлдлийг товчилсон тэмдэглэгээ хүртэл байдаг. Эхний мөрийн үр дүнг `x += 5` гээд гаргаж болох байсан. Энэ **syntactic sugar** буюу бичиглэлийн хялбарчлал нь `+`, `-`, `*`, `/`, `**`, `%` гэсэн бидний дээр дурдсан хялбар үйлдлүүдэд бас үйлчилнэ."
      ]
    },
    {
      "cell_type": "markdown",
      "metadata": {
        "id": "TwJjmjqswYkV"
      },
      "source": [
        "## Дасгал 1.11 Логик\n",
        "\n",
        "Бид _сонголт_ хийхгүйгээр програм бичих боломжгүй ба `if` statement нь бидэнд сонголт хийх боломжийг олгодог. `if` statement нь тухайн statement-ийг зөвхөн _өгөгдсөн илэрхийллийн утга True_ үед гүйцэтгэхийг зааж өгдөг.\n",
        "\n",
        "Python дээрх `if` statement-ийн ерөнхий syntax буюу бичиглэлийн дүрэм нь дараах хэлбэртэй:\n",
        "\n",
        "```python\n",
        "if condition:\n",
        "    if_block_statement\n",
        "```\n",
        "\n",
        "Энд `if` statement `:` тэмдгээр төгсөж байгааг анхаараарай. Ингэж төгсгөх нь Python \"үүний дараа догол мөр эхэлнэ шүү\" гэж зарлаж байгаа нь юм."
      ]
    },
    {
      "cell_type": "code",
      "metadata": {
        "id": "Vwe2baeSwcFV"
      },
      "source": [
        "# Example 1\n",
        "if True:\n",
        "  print(\"True!\")"
      ],
      "execution_count": null,
      "outputs": []
    },
    {
      "cell_type": "code",
      "metadata": {
        "id": "c6M8tffswfln"
      },
      "source": [
        "# Example 2\n",
        "a = 3\n",
        "if a != 5:\n",
        "  print(a)"
      ],
      "execution_count": null,
      "outputs": []
    },
    {
      "cell_type": "code",
      "metadata": {
        "id": "l8pw4v5WwiAk"
      },
      "source": [
        "# Example 3\n",
        "a = 3\n",
        "if a != 3:\n",
        "  print(a)\n",
        "else:\n",
        "  print(\"a = 3\")"
      ],
      "execution_count": null,
      "outputs": []
    },
    {
      "cell_type": "markdown",
      "metadata": {
        "id": "4SEvvichwiwi"
      },
      "source": [
        "### Функц\n",
        "\n",
        "Python-д функц хэрхэн тодорхойлдог талаар тайлбарлая. Функцийн бичиглэлийн дүрэм нь нэлээн хялбар ба та олон бичээд байвал улам амархан болно.\n",
        "\n",
        "1. Бүх функц declaritive буюу зарлах statement-ээр эхэлдэг ба үүнийг функцийн аргумент буюу хувьсагчийг дамжуулахад хэрэглэдэг. Дахин хэлэхэд, функцаа нэрлэхдээ тухайн функцийн юу хийж байгааг нь илэрхийлэх нэрээр нэрлээрэй.\n",
        "\n",
        "2. Бүх функц хоосон ч бай, өөр хэрэгтэй мэдээлэл ч бай, ямар нэгэн юм буцаах ёстой ба үүнийг return statement гэнэ.\n",
        "\n",
        "Жишээ нь, доор хоёр тоог нэмдэг функц үүсгэе."
      ]
    },
    {
      "cell_type": "code",
      "metadata": {
        "id": "wP2fiVNFwk5e"
      },
      "source": [
        "# Declare and name the function\n",
        "def add(a,b):\n",
        "  \n",
        "  # Add the two numbers and save as a new variable\n",
        "  c = a + b\n",
        "  \n",
        "  # Return the value c\n",
        "  return c\n",
        "\n",
        "# Call the function with a = 10, and b = 15\n",
        "add(10,15)"
      ],
      "execution_count": null,
      "outputs": []
    },
    {
      "cell_type": "markdown",
      "metadata": {
        "id": "RHQpFSFTwnwC"
      },
      "source": [
        "### Нөхцөл\n",
        "\n",
        "Нөхцөл гэж юу вэ? Үнэндээ `if`нь нэг нөхцлийг `True` буюу үнэн эсвэл `False` буюу худлын алинтай нь тэнцүүг л шалгадаг. Хэрэв тухайн нөхцөл үнэн бол `if` statement-ийн доторх код ажилладаг. Хэрэв тухайн нөхцөл худал бол `if` доторх догол мөртэй кодны блокыг алгасдаг. \n",
        "\n",
        "Бидэнд үнэн, худлын талаарх ойлголт байдаг боловч бид эдгээр ойлголтуудыг программын хувьд сайтар дахин тодорхойлох шаардлагатай.\n",
        "\n",
        "`True` болон `False` нь бидний логикт boolean буюу бүүлийн утга (товчоор `bool`) гэж тэмдэглэдэг утгууд ба Python тэднийг мөн адил бүүлийн гэж тэмдэглэдэг. Эд нь маш олон хэрэглээтэй онцгой утгууд ба үндсэндээ тухайн statement-ийн үнэн, худалд тавих тэмдэг маягаар ашиглагддаг. Python-д `True` болон `False` гэсэн үгнүүд нь тухайлан бүүлийн утгуудыг илтгэх гэж онцгой зорилгоор хадгалагдсан байдаг. Том үсгээр эхэлдэгийг нь анхаараарай.\n",
        "\n",
        "```python\n",
        "In [1]: type(True)\n",
        "Out[1]: bool\n",
        "\n",
        "In [2]: type(False)\n",
        "Out[2]: bool\n",
        "```"
      ]
    },
    {
      "cell_type": "code",
      "metadata": {
        "id": "tnF3t2rvwqRY"
      },
      "source": [
        "a = 3\n",
        "print(a != 3)"
      ],
      "execution_count": null,
      "outputs": []
    },
    {
      "cell_type": "code",
      "metadata": {
        "id": "uQ1qZr9Ews7N"
      },
      "source": [
        "def add_even(a,b):\n",
        "  \n",
        "  if a % 2 == 0:\n",
        "    \n",
        "    return a + b\n",
        "  else:\n",
        "    print('a is not even')\n",
        "    return None\n",
        "  \n",
        "add_even(12,3)"
      ],
      "execution_count": null,
      "outputs": []
    },
    {
      "cell_type": "markdown",
      "metadata": {
        "id": "W0s4IQ9F3xdD"
      },
      "source": [
        "# 10. Python бол Объект хандалтат програмчлалын хэл\n",
        "(Object oriented programming language)\n",
        "\n",
        "Объект хандалтат програмчлал нь өгөгдөл-төвтэй програмчлалын хэлбэр ба тодорхой өгөгдөл дээр тодорхой янзаар ажилладаг өгөгдөл, функцийг багцлан **class** буюу класс үүсгэх санаан дээр суурилсан. Классыг нарийн бүтэцтэй өгөгдлийн хэлбэр, эсвэл загвар гэж ойлгож болно. Өгөгдлийн төрөл нь класс байдаг хувьсагчийг **object** буюу объект, эсвэл тухайн классын **instance**  буюу инстанц гэнэ.\n",
        "\n",
        "Дараах жишээ энэ ойлголтыг арай хялбар болгоно:"
      ]
    },
    {
      "cell_type": "markdown",
      "metadata": {
        "id": "s7d0e3B3FZhQ"
      },
      "source": [
        "##  Дасгал 10.0 Класс зарлах"
      ]
    },
    {
      "cell_type": "code",
      "metadata": {
        "id": "pUp3G12L5n8j"
      },
      "source": [
        "class Person:\n",
        "    def __init__(self, name, age):\n",
        "        self.name = name\n",
        "        self.age = age"
      ],
      "execution_count": null,
      "outputs": []
    },
    {
      "cell_type": "markdown",
      "metadata": {
        "id": "5vUuYC1H3-vm"
      },
      "source": [
        "Тэгэхээр энд хэд хэдэн зүйл боллоо. Бид сая Person нэртэй классыг `__init__` буюу үүсгэгч функцтэйгээр үүсгэлээ. Доогуур зураасаар эхэлсэн нэртэй функцүүд үргэлж Python-д онцгой үүрэгтэй функцүүд байдаг ба эдгээр нь уг хэлний цаанаасаа тодорхойлогдсон хэсгүүдтэй холбоотой байдаг. Үүсгэгч функц тухайн классын объект шинээр үүсэхэд дуудагддаг."
      ]
    },
    {
      "cell_type": "code",
      "metadata": {
        "id": "zgJxyZzDA9MN"
      },
      "source": [
        "author = Person(\"Maarten\", 30)\n",
        "print(\"My name is \" + author.name)\n",
        "print(\"My age is \" + str(author.age))"
      ],
      "execution_count": null,
      "outputs": []
    },
    {
      "cell_type": "markdown",
      "metadata": {
        "id": "XgLFst0dBD5L"
      },
      "source": [
        "Классын доторх функцийг **method** буюу метод гэдэг. Бидний тодорхойлсон үүсгэгч метод нь тухайн *объектод хамаарах* хувьсагчдад дамжуулагдсан хоёр параметрийг оноож өгч байгаа ба класс зарлаж байх үед тухайн объектын тодорхойлолт нь үргэлж `self` байна.\n",
        "\n",
        "Методын хамгийн эхний аргумент үргэлж `self` байх ба энэ нь үргэлж тухайн классын тухайн утга руу заана. Методыг дуудахад энэ эхний аргументыг хэзээ ч илээр дамжуулдаггүй. Python үүнийг далдаар дамжуулдаг. Ийм учраас классын тодорхойлолт дахь аргументын тооноос өөр тооны параметртайгаар методуудыг дууддаг байна.\n",
        "\n",
        "Классын бүх хувьсагч эсвэл методод цэгэн (`.`) бичиглэлийн дүрмээр хандаж болно:\n",
        "\n",
        "    object.variable \n",
        "\n",
        "эсвэл:\n",
        "\n",
        "    object.method\n",
        "\n",
        "Өмнөх жишээн дээр бид Person классын объектын name, age хувьсагчдын утгыг хэвлэсэн. Бид үүнийгээ дараах байдлаар классын метод болгож болно:\n"
      ]
    },
    {
      "cell_type": "markdown",
      "metadata": {
        "id": "nrFyBu76Fqj9"
      },
      "source": [
        "##  Дасгал 10.1 Классын метод тодорхойлох"
      ]
    },
    {
      "cell_type": "code",
      "metadata": {
        "id": "TLT7zNF2BDX5"
      },
      "source": [
        "class Person:\n",
        "    def __init__(self, name, age):\n",
        "        self.name = name\n",
        "        self.age = age\n",
        "        \n",
        "    def introduceYourself(self):\n",
        "        print(\"My name is \" + self.name)\n",
        "        print(\"My age is \" + str(self.age))\n",
        "        \n",
        "author = Person(\"Maarten\",30)\n",
        "author.introduceYourself()"
      ],
      "execution_count": null,
      "outputs": []
    },
    {
      "cell_type": "markdown",
      "metadata": {
        "id": "k17jJW6hEWdw"
      },
      "source": [
        "Дээрх ойлголтууд нь Python хэлний хамгийн суурь ойлголтууд ба та бүхнийг цааш үргэлжлүүлэн уншиж судална гэж бид найдаж байна.\n",
        "\n",
        "Хүндэтгэсэн,\n",
        "\n",
        "[Гүнзгий сургалтын зуны сургалт](https://sites.google.com/view/dlub/dl-ub-2019)ын зохион байгуулалтын баг"
      ]
    },
    {
      "cell_type": "markdown",
      "metadata": {
        "id": "kOxuZMNMHxce"
      },
      "source": [
        "Уг нөтбүкийг бэлдэхэд ашигласан материалууд:\n",
        "\n",
        "- [Introduction to Python through Google Colab (бичлэг)](https://www.youtube.com/watch?v=dT_XDTarsjw)\n",
        "- [Chapter 6 - Objected Oriented Programming (онлайн номын бүлэг)](https://github.com/fbkarsdorp/python-course/blob/master/Chapter%206%20-%20Object%20Oriented%20Programming.ipynb)\n",
        "- [Колабын албан ёсны танилцуулга](https://colab.research.google.com/notebooks/welcome.ipynb)\n",
        "\n",
        "Цааш уншъя гэвэл:\n",
        "- [Python course](https://github.com/fbkarsdorp/python-course)\n",
        "- [Python3-ын албан ёсны documentation](https://docs.python.org/3/)\n",
        "- [Колабын функцүүдийн танилцуулга](https://colab.research.google.com/notebooks/basic_features_overview.ipynb#scrollTo=_YrTcK7k22Fp)\n",
        "- [Jupyter нөтбүкийн шидэт функцүүд](https://nbviewer.jupyter.org/github/ipython/ipython/blob/1.x/examples/notebooks/Cell%20Magics.ipynb)"
      ]
    }
  ]
}