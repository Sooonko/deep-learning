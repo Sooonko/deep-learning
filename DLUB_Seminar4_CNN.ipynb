{
  "nbformat": 4,
  "nbformat_minor": 0,
  "metadata": {
    "colab": {
      "name": "DLUB_Seminar4_CNN.ipynb",
      "provenance": [],
      "collapsed_sections": [],
      "authorship_tag": "ABX9TyOGJwQgq7C3pgHlvK7NjyXj",
      "include_colab_link": true
    },
    "kernelspec": {
      "name": "python3",
      "display_name": "Python 3"
    },
    "language_info": {
      "name": "python"
    },
    "widgets": {
      "application/vnd.jupyter.widget-state+json": {
        "1de1957adddd41f681bfbee4cf52ff9e": {
          "model_module": "@jupyter-widgets/controls",
          "model_name": "HBoxModel",
          "state": {
            "_view_name": "HBoxView",
            "_dom_classes": [],
            "_model_name": "HBoxModel",
            "_view_module": "@jupyter-widgets/controls",
            "_model_module_version": "1.5.0",
            "_view_count": null,
            "_view_module_version": "1.5.0",
            "box_style": "",
            "layout": "IPY_MODEL_a283bcb3204a4d9a9bff9bd6736abad7",
            "_model_module": "@jupyter-widgets/controls",
            "children": [
              "IPY_MODEL_37498403f47849988ce256ec9bd91fdb",
              "IPY_MODEL_b859411eaa624630bca1f1e759ccc4f9"
            ]
          }
        },
        "a283bcb3204a4d9a9bff9bd6736abad7": {
          "model_module": "@jupyter-widgets/base",
          "model_name": "LayoutModel",
          "state": {
            "_view_name": "LayoutView",
            "grid_template_rows": null,
            "right": null,
            "justify_content": null,
            "_view_module": "@jupyter-widgets/base",
            "overflow": null,
            "_model_module_version": "1.2.0",
            "_view_count": null,
            "flex_flow": null,
            "width": null,
            "min_width": null,
            "border": null,
            "align_items": null,
            "bottom": null,
            "_model_module": "@jupyter-widgets/base",
            "top": null,
            "grid_column": null,
            "overflow_y": null,
            "overflow_x": null,
            "grid_auto_flow": null,
            "grid_area": null,
            "grid_template_columns": null,
            "flex": null,
            "_model_name": "LayoutModel",
            "justify_items": null,
            "grid_row": null,
            "max_height": null,
            "align_content": null,
            "visibility": null,
            "align_self": null,
            "height": null,
            "min_height": null,
            "padding": null,
            "grid_auto_rows": null,
            "grid_gap": null,
            "max_width": null,
            "order": null,
            "_view_module_version": "1.2.0",
            "grid_template_areas": null,
            "object_position": null,
            "object_fit": null,
            "grid_auto_columns": null,
            "margin": null,
            "display": null,
            "left": null
          }
        },
        "37498403f47849988ce256ec9bd91fdb": {
          "model_module": "@jupyter-widgets/controls",
          "model_name": "FloatProgressModel",
          "state": {
            "_view_name": "ProgressView",
            "style": "IPY_MODEL_569c902d7ee54e17898d8321e0dadf86",
            "_dom_classes": [],
            "description": "",
            "_model_name": "FloatProgressModel",
            "bar_style": "success",
            "max": 9912422,
            "_view_module": "@jupyter-widgets/controls",
            "_model_module_version": "1.5.0",
            "value": 9912422,
            "_view_count": null,
            "_view_module_version": "1.5.0",
            "orientation": "horizontal",
            "min": 0,
            "description_tooltip": null,
            "_model_module": "@jupyter-widgets/controls",
            "layout": "IPY_MODEL_197375f9bcf44b0d9592823dd3402d1a"
          }
        },
        "b859411eaa624630bca1f1e759ccc4f9": {
          "model_module": "@jupyter-widgets/controls",
          "model_name": "HTMLModel",
          "state": {
            "_view_name": "HTMLView",
            "style": "IPY_MODEL_df85ea9580d64d11af63d7202a1af6dd",
            "_dom_classes": [],
            "description": "",
            "_model_name": "HTMLModel",
            "placeholder": "​",
            "_view_module": "@jupyter-widgets/controls",
            "_model_module_version": "1.5.0",
            "value": " 9913344/? [00:15&lt;00:00, 644958.20it/s]",
            "_view_count": null,
            "_view_module_version": "1.5.0",
            "description_tooltip": null,
            "_model_module": "@jupyter-widgets/controls",
            "layout": "IPY_MODEL_4af6651d0b3e4b4c8fe7f6f2abd1c7e8"
          }
        },
        "569c902d7ee54e17898d8321e0dadf86": {
          "model_module": "@jupyter-widgets/controls",
          "model_name": "ProgressStyleModel",
          "state": {
            "_view_name": "StyleView",
            "_model_name": "ProgressStyleModel",
            "description_width": "initial",
            "_view_module": "@jupyter-widgets/base",
            "_model_module_version": "1.5.0",
            "_view_count": null,
            "_view_module_version": "1.2.0",
            "bar_color": null,
            "_model_module": "@jupyter-widgets/controls"
          }
        },
        "197375f9bcf44b0d9592823dd3402d1a": {
          "model_module": "@jupyter-widgets/base",
          "model_name": "LayoutModel",
          "state": {
            "_view_name": "LayoutView",
            "grid_template_rows": null,
            "right": null,
            "justify_content": null,
            "_view_module": "@jupyter-widgets/base",
            "overflow": null,
            "_model_module_version": "1.2.0",
            "_view_count": null,
            "flex_flow": null,
            "width": null,
            "min_width": null,
            "border": null,
            "align_items": null,
            "bottom": null,
            "_model_module": "@jupyter-widgets/base",
            "top": null,
            "grid_column": null,
            "overflow_y": null,
            "overflow_x": null,
            "grid_auto_flow": null,
            "grid_area": null,
            "grid_template_columns": null,
            "flex": null,
            "_model_name": "LayoutModel",
            "justify_items": null,
            "grid_row": null,
            "max_height": null,
            "align_content": null,
            "visibility": null,
            "align_self": null,
            "height": null,
            "min_height": null,
            "padding": null,
            "grid_auto_rows": null,
            "grid_gap": null,
            "max_width": null,
            "order": null,
            "_view_module_version": "1.2.0",
            "grid_template_areas": null,
            "object_position": null,
            "object_fit": null,
            "grid_auto_columns": null,
            "margin": null,
            "display": null,
            "left": null
          }
        },
        "df85ea9580d64d11af63d7202a1af6dd": {
          "model_module": "@jupyter-widgets/controls",
          "model_name": "DescriptionStyleModel",
          "state": {
            "_view_name": "StyleView",
            "_model_name": "DescriptionStyleModel",
            "description_width": "",
            "_view_module": "@jupyter-widgets/base",
            "_model_module_version": "1.5.0",
            "_view_count": null,
            "_view_module_version": "1.2.0",
            "_model_module": "@jupyter-widgets/controls"
          }
        },
        "4af6651d0b3e4b4c8fe7f6f2abd1c7e8": {
          "model_module": "@jupyter-widgets/base",
          "model_name": "LayoutModel",
          "state": {
            "_view_name": "LayoutView",
            "grid_template_rows": null,
            "right": null,
            "justify_content": null,
            "_view_module": "@jupyter-widgets/base",
            "overflow": null,
            "_model_module_version": "1.2.0",
            "_view_count": null,
            "flex_flow": null,
            "width": null,
            "min_width": null,
            "border": null,
            "align_items": null,
            "bottom": null,
            "_model_module": "@jupyter-widgets/base",
            "top": null,
            "grid_column": null,
            "overflow_y": null,
            "overflow_x": null,
            "grid_auto_flow": null,
            "grid_area": null,
            "grid_template_columns": null,
            "flex": null,
            "_model_name": "LayoutModel",
            "justify_items": null,
            "grid_row": null,
            "max_height": null,
            "align_content": null,
            "visibility": null,
            "align_self": null,
            "height": null,
            "min_height": null,
            "padding": null,
            "grid_auto_rows": null,
            "grid_gap": null,
            "max_width": null,
            "order": null,
            "_view_module_version": "1.2.0",
            "grid_template_areas": null,
            "object_position": null,
            "object_fit": null,
            "grid_auto_columns": null,
            "margin": null,
            "display": null,
            "left": null
          }
        },
        "bc01ed9afa9d4eeab9ea85b50b19ee48": {
          "model_module": "@jupyter-widgets/controls",
          "model_name": "HBoxModel",
          "state": {
            "_view_name": "HBoxView",
            "_dom_classes": [],
            "_model_name": "HBoxModel",
            "_view_module": "@jupyter-widgets/controls",
            "_model_module_version": "1.5.0",
            "_view_count": null,
            "_view_module_version": "1.5.0",
            "box_style": "",
            "layout": "IPY_MODEL_be40fac2eef449358714c713026d643e",
            "_model_module": "@jupyter-widgets/controls",
            "children": [
              "IPY_MODEL_c00b0a67ff9c4615894886716022dfe8",
              "IPY_MODEL_942b7b1907f44ccda2da2bf05685660f"
            ]
          }
        },
        "be40fac2eef449358714c713026d643e": {
          "model_module": "@jupyter-widgets/base",
          "model_name": "LayoutModel",
          "state": {
            "_view_name": "LayoutView",
            "grid_template_rows": null,
            "right": null,
            "justify_content": null,
            "_view_module": "@jupyter-widgets/base",
            "overflow": null,
            "_model_module_version": "1.2.0",
            "_view_count": null,
            "flex_flow": null,
            "width": null,
            "min_width": null,
            "border": null,
            "align_items": null,
            "bottom": null,
            "_model_module": "@jupyter-widgets/base",
            "top": null,
            "grid_column": null,
            "overflow_y": null,
            "overflow_x": null,
            "grid_auto_flow": null,
            "grid_area": null,
            "grid_template_columns": null,
            "flex": null,
            "_model_name": "LayoutModel",
            "justify_items": null,
            "grid_row": null,
            "max_height": null,
            "align_content": null,
            "visibility": null,
            "align_self": null,
            "height": null,
            "min_height": null,
            "padding": null,
            "grid_auto_rows": null,
            "grid_gap": null,
            "max_width": null,
            "order": null,
            "_view_module_version": "1.2.0",
            "grid_template_areas": null,
            "object_position": null,
            "object_fit": null,
            "grid_auto_columns": null,
            "margin": null,
            "display": null,
            "left": null
          }
        },
        "c00b0a67ff9c4615894886716022dfe8": {
          "model_module": "@jupyter-widgets/controls",
          "model_name": "FloatProgressModel",
          "state": {
            "_view_name": "ProgressView",
            "style": "IPY_MODEL_6a1f33e528c140dfb8ddf0788c65f5d6",
            "_dom_classes": [],
            "description": "",
            "_model_name": "FloatProgressModel",
            "bar_style": "success",
            "max": 28881,
            "_view_module": "@jupyter-widgets/controls",
            "_model_module_version": "1.5.0",
            "value": 28881,
            "_view_count": null,
            "_view_module_version": "1.5.0",
            "orientation": "horizontal",
            "min": 0,
            "description_tooltip": null,
            "_model_module": "@jupyter-widgets/controls",
            "layout": "IPY_MODEL_e631ba070f344534ae4a41c2282cb90f"
          }
        },
        "942b7b1907f44ccda2da2bf05685660f": {
          "model_module": "@jupyter-widgets/controls",
          "model_name": "HTMLModel",
          "state": {
            "_view_name": "HTMLView",
            "style": "IPY_MODEL_58c4b1b177b34220ad2c4542938d9950",
            "_dom_classes": [],
            "description": "",
            "_model_name": "HTMLModel",
            "placeholder": "​",
            "_view_module": "@jupyter-widgets/controls",
            "_model_module_version": "1.5.0",
            "value": " 29696/? [00:13&lt;00:00, 2175.95it/s]",
            "_view_count": null,
            "_view_module_version": "1.5.0",
            "description_tooltip": null,
            "_model_module": "@jupyter-widgets/controls",
            "layout": "IPY_MODEL_fab284a847734ff09978fac49612d360"
          }
        },
        "6a1f33e528c140dfb8ddf0788c65f5d6": {
          "model_module": "@jupyter-widgets/controls",
          "model_name": "ProgressStyleModel",
          "state": {
            "_view_name": "StyleView",
            "_model_name": "ProgressStyleModel",
            "description_width": "initial",
            "_view_module": "@jupyter-widgets/base",
            "_model_module_version": "1.5.0",
            "_view_count": null,
            "_view_module_version": "1.2.0",
            "bar_color": null,
            "_model_module": "@jupyter-widgets/controls"
          }
        },
        "e631ba070f344534ae4a41c2282cb90f": {
          "model_module": "@jupyter-widgets/base",
          "model_name": "LayoutModel",
          "state": {
            "_view_name": "LayoutView",
            "grid_template_rows": null,
            "right": null,
            "justify_content": null,
            "_view_module": "@jupyter-widgets/base",
            "overflow": null,
            "_model_module_version": "1.2.0",
            "_view_count": null,
            "flex_flow": null,
            "width": null,
            "min_width": null,
            "border": null,
            "align_items": null,
            "bottom": null,
            "_model_module": "@jupyter-widgets/base",
            "top": null,
            "grid_column": null,
            "overflow_y": null,
            "overflow_x": null,
            "grid_auto_flow": null,
            "grid_area": null,
            "grid_template_columns": null,
            "flex": null,
            "_model_name": "LayoutModel",
            "justify_items": null,
            "grid_row": null,
            "max_height": null,
            "align_content": null,
            "visibility": null,
            "align_self": null,
            "height": null,
            "min_height": null,
            "padding": null,
            "grid_auto_rows": null,
            "grid_gap": null,
            "max_width": null,
            "order": null,
            "_view_module_version": "1.2.0",
            "grid_template_areas": null,
            "object_position": null,
            "object_fit": null,
            "grid_auto_columns": null,
            "margin": null,
            "display": null,
            "left": null
          }
        },
        "58c4b1b177b34220ad2c4542938d9950": {
          "model_module": "@jupyter-widgets/controls",
          "model_name": "DescriptionStyleModel",
          "state": {
            "_view_name": "StyleView",
            "_model_name": "DescriptionStyleModel",
            "description_width": "",
            "_view_module": "@jupyter-widgets/base",
            "_model_module_version": "1.5.0",
            "_view_count": null,
            "_view_module_version": "1.2.0",
            "_model_module": "@jupyter-widgets/controls"
          }
        },
        "fab284a847734ff09978fac49612d360": {
          "model_module": "@jupyter-widgets/base",
          "model_name": "LayoutModel",
          "state": {
            "_view_name": "LayoutView",
            "grid_template_rows": null,
            "right": null,
            "justify_content": null,
            "_view_module": "@jupyter-widgets/base",
            "overflow": null,
            "_model_module_version": "1.2.0",
            "_view_count": null,
            "flex_flow": null,
            "width": null,
            "min_width": null,
            "border": null,
            "align_items": null,
            "bottom": null,
            "_model_module": "@jupyter-widgets/base",
            "top": null,
            "grid_column": null,
            "overflow_y": null,
            "overflow_x": null,
            "grid_auto_flow": null,
            "grid_area": null,
            "grid_template_columns": null,
            "flex": null,
            "_model_name": "LayoutModel",
            "justify_items": null,
            "grid_row": null,
            "max_height": null,
            "align_content": null,
            "visibility": null,
            "align_self": null,
            "height": null,
            "min_height": null,
            "padding": null,
            "grid_auto_rows": null,
            "grid_gap": null,
            "max_width": null,
            "order": null,
            "_view_module_version": "1.2.0",
            "grid_template_areas": null,
            "object_position": null,
            "object_fit": null,
            "grid_auto_columns": null,
            "margin": null,
            "display": null,
            "left": null
          }
        },
        "274e16d42e7b4e95828bd2a358de89a6": {
          "model_module": "@jupyter-widgets/controls",
          "model_name": "HBoxModel",
          "state": {
            "_view_name": "HBoxView",
            "_dom_classes": [],
            "_model_name": "HBoxModel",
            "_view_module": "@jupyter-widgets/controls",
            "_model_module_version": "1.5.0",
            "_view_count": null,
            "_view_module_version": "1.5.0",
            "box_style": "",
            "layout": "IPY_MODEL_ef6506dbf7aa4cf296b58d63bc365c63",
            "_model_module": "@jupyter-widgets/controls",
            "children": [
              "IPY_MODEL_960dae70a52b4e9ea0f1c5c97b58a5cc",
              "IPY_MODEL_6c3b05ca64cc40369d81dde6babc6b71"
            ]
          }
        },
        "ef6506dbf7aa4cf296b58d63bc365c63": {
          "model_module": "@jupyter-widgets/base",
          "model_name": "LayoutModel",
          "state": {
            "_view_name": "LayoutView",
            "grid_template_rows": null,
            "right": null,
            "justify_content": null,
            "_view_module": "@jupyter-widgets/base",
            "overflow": null,
            "_model_module_version": "1.2.0",
            "_view_count": null,
            "flex_flow": null,
            "width": null,
            "min_width": null,
            "border": null,
            "align_items": null,
            "bottom": null,
            "_model_module": "@jupyter-widgets/base",
            "top": null,
            "grid_column": null,
            "overflow_y": null,
            "overflow_x": null,
            "grid_auto_flow": null,
            "grid_area": null,
            "grid_template_columns": null,
            "flex": null,
            "_model_name": "LayoutModel",
            "justify_items": null,
            "grid_row": null,
            "max_height": null,
            "align_content": null,
            "visibility": null,
            "align_self": null,
            "height": null,
            "min_height": null,
            "padding": null,
            "grid_auto_rows": null,
            "grid_gap": null,
            "max_width": null,
            "order": null,
            "_view_module_version": "1.2.0",
            "grid_template_areas": null,
            "object_position": null,
            "object_fit": null,
            "grid_auto_columns": null,
            "margin": null,
            "display": null,
            "left": null
          }
        },
        "960dae70a52b4e9ea0f1c5c97b58a5cc": {
          "model_module": "@jupyter-widgets/controls",
          "model_name": "FloatProgressModel",
          "state": {
            "_view_name": "ProgressView",
            "style": "IPY_MODEL_81857eb065fe4902a8b396942a6e4d0b",
            "_dom_classes": [],
            "description": "",
            "_model_name": "FloatProgressModel",
            "bar_style": "success",
            "max": 1648877,
            "_view_module": "@jupyter-widgets/controls",
            "_model_module_version": "1.5.0",
            "value": 1648877,
            "_view_count": null,
            "_view_module_version": "1.5.0",
            "orientation": "horizontal",
            "min": 0,
            "description_tooltip": null,
            "_model_module": "@jupyter-widgets/controls",
            "layout": "IPY_MODEL_369445277cd0470db99f9900ed7224ce"
          }
        },
        "6c3b05ca64cc40369d81dde6babc6b71": {
          "model_module": "@jupyter-widgets/controls",
          "model_name": "HTMLModel",
          "state": {
            "_view_name": "HTMLView",
            "style": "IPY_MODEL_7c405987c5ee4574a1d40f64846fc73f",
            "_dom_classes": [],
            "description": "",
            "_model_name": "HTMLModel",
            "placeholder": "​",
            "_view_module": "@jupyter-widgets/controls",
            "_model_module_version": "1.5.0",
            "value": " 1649664/? [00:12&lt;00:00, 133939.82it/s]",
            "_view_count": null,
            "_view_module_version": "1.5.0",
            "description_tooltip": null,
            "_model_module": "@jupyter-widgets/controls",
            "layout": "IPY_MODEL_ff8ba3b3fbe64190a3a021e042042e28"
          }
        },
        "81857eb065fe4902a8b396942a6e4d0b": {
          "model_module": "@jupyter-widgets/controls",
          "model_name": "ProgressStyleModel",
          "state": {
            "_view_name": "StyleView",
            "_model_name": "ProgressStyleModel",
            "description_width": "initial",
            "_view_module": "@jupyter-widgets/base",
            "_model_module_version": "1.5.0",
            "_view_count": null,
            "_view_module_version": "1.2.0",
            "bar_color": null,
            "_model_module": "@jupyter-widgets/controls"
          }
        },
        "369445277cd0470db99f9900ed7224ce": {
          "model_module": "@jupyter-widgets/base",
          "model_name": "LayoutModel",
          "state": {
            "_view_name": "LayoutView",
            "grid_template_rows": null,
            "right": null,
            "justify_content": null,
            "_view_module": "@jupyter-widgets/base",
            "overflow": null,
            "_model_module_version": "1.2.0",
            "_view_count": null,
            "flex_flow": null,
            "width": null,
            "min_width": null,
            "border": null,
            "align_items": null,
            "bottom": null,
            "_model_module": "@jupyter-widgets/base",
            "top": null,
            "grid_column": null,
            "overflow_y": null,
            "overflow_x": null,
            "grid_auto_flow": null,
            "grid_area": null,
            "grid_template_columns": null,
            "flex": null,
            "_model_name": "LayoutModel",
            "justify_items": null,
            "grid_row": null,
            "max_height": null,
            "align_content": null,
            "visibility": null,
            "align_self": null,
            "height": null,
            "min_height": null,
            "padding": null,
            "grid_auto_rows": null,
            "grid_gap": null,
            "max_width": null,
            "order": null,
            "_view_module_version": "1.2.0",
            "grid_template_areas": null,
            "object_position": null,
            "object_fit": null,
            "grid_auto_columns": null,
            "margin": null,
            "display": null,
            "left": null
          }
        },
        "7c405987c5ee4574a1d40f64846fc73f": {
          "model_module": "@jupyter-widgets/controls",
          "model_name": "DescriptionStyleModel",
          "state": {
            "_view_name": "StyleView",
            "_model_name": "DescriptionStyleModel",
            "description_width": "",
            "_view_module": "@jupyter-widgets/base",
            "_model_module_version": "1.5.0",
            "_view_count": null,
            "_view_module_version": "1.2.0",
            "_model_module": "@jupyter-widgets/controls"
          }
        },
        "ff8ba3b3fbe64190a3a021e042042e28": {
          "model_module": "@jupyter-widgets/base",
          "model_name": "LayoutModel",
          "state": {
            "_view_name": "LayoutView",
            "grid_template_rows": null,
            "right": null,
            "justify_content": null,
            "_view_module": "@jupyter-widgets/base",
            "overflow": null,
            "_model_module_version": "1.2.0",
            "_view_count": null,
            "flex_flow": null,
            "width": null,
            "min_width": null,
            "border": null,
            "align_items": null,
            "bottom": null,
            "_model_module": "@jupyter-widgets/base",
            "top": null,
            "grid_column": null,
            "overflow_y": null,
            "overflow_x": null,
            "grid_auto_flow": null,
            "grid_area": null,
            "grid_template_columns": null,
            "flex": null,
            "_model_name": "LayoutModel",
            "justify_items": null,
            "grid_row": null,
            "max_height": null,
            "align_content": null,
            "visibility": null,
            "align_self": null,
            "height": null,
            "min_height": null,
            "padding": null,
            "grid_auto_rows": null,
            "grid_gap": null,
            "max_width": null,
            "order": null,
            "_view_module_version": "1.2.0",
            "grid_template_areas": null,
            "object_position": null,
            "object_fit": null,
            "grid_auto_columns": null,
            "margin": null,
            "display": null,
            "left": null
          }
        },
        "7e2f183840ff444db1e69709a73538c7": {
          "model_module": "@jupyter-widgets/controls",
          "model_name": "HBoxModel",
          "state": {
            "_view_name": "HBoxView",
            "_dom_classes": [],
            "_model_name": "HBoxModel",
            "_view_module": "@jupyter-widgets/controls",
            "_model_module_version": "1.5.0",
            "_view_count": null,
            "_view_module_version": "1.5.0",
            "box_style": "",
            "layout": "IPY_MODEL_e22f121bb7a7413b82a2c4f5460467c1",
            "_model_module": "@jupyter-widgets/controls",
            "children": [
              "IPY_MODEL_0d3587b9b5734185854eb69199d99ad3",
              "IPY_MODEL_374c085733df44428c0e3af9746c3c82"
            ]
          }
        },
        "e22f121bb7a7413b82a2c4f5460467c1": {
          "model_module": "@jupyter-widgets/base",
          "model_name": "LayoutModel",
          "state": {
            "_view_name": "LayoutView",
            "grid_template_rows": null,
            "right": null,
            "justify_content": null,
            "_view_module": "@jupyter-widgets/base",
            "overflow": null,
            "_model_module_version": "1.2.0",
            "_view_count": null,
            "flex_flow": null,
            "width": null,
            "min_width": null,
            "border": null,
            "align_items": null,
            "bottom": null,
            "_model_module": "@jupyter-widgets/base",
            "top": null,
            "grid_column": null,
            "overflow_y": null,
            "overflow_x": null,
            "grid_auto_flow": null,
            "grid_area": null,
            "grid_template_columns": null,
            "flex": null,
            "_model_name": "LayoutModel",
            "justify_items": null,
            "grid_row": null,
            "max_height": null,
            "align_content": null,
            "visibility": null,
            "align_self": null,
            "height": null,
            "min_height": null,
            "padding": null,
            "grid_auto_rows": null,
            "grid_gap": null,
            "max_width": null,
            "order": null,
            "_view_module_version": "1.2.0",
            "grid_template_areas": null,
            "object_position": null,
            "object_fit": null,
            "grid_auto_columns": null,
            "margin": null,
            "display": null,
            "left": null
          }
        },
        "0d3587b9b5734185854eb69199d99ad3": {
          "model_module": "@jupyter-widgets/controls",
          "model_name": "FloatProgressModel",
          "state": {
            "_view_name": "ProgressView",
            "style": "IPY_MODEL_fdabd8dd22f34300a9588ae9047d0737",
            "_dom_classes": [],
            "description": "",
            "_model_name": "FloatProgressModel",
            "bar_style": "success",
            "max": 4542,
            "_view_module": "@jupyter-widgets/controls",
            "_model_module_version": "1.5.0",
            "value": 4542,
            "_view_count": null,
            "_view_module_version": "1.5.0",
            "orientation": "horizontal",
            "min": 0,
            "description_tooltip": null,
            "_model_module": "@jupyter-widgets/controls",
            "layout": "IPY_MODEL_f40310336c8446d08fd45d09513e491b"
          }
        },
        "374c085733df44428c0e3af9746c3c82": {
          "model_module": "@jupyter-widgets/controls",
          "model_name": "HTMLModel",
          "state": {
            "_view_name": "HTMLView",
            "style": "IPY_MODEL_129c781443484c869e21b204d23d48d4",
            "_dom_classes": [],
            "description": "",
            "_model_name": "HTMLModel",
            "placeholder": "​",
            "_view_module": "@jupyter-widgets/controls",
            "_model_module_version": "1.5.0",
            "value": " 5120/? [00:11&lt;00:00, 456.44it/s]",
            "_view_count": null,
            "_view_module_version": "1.5.0",
            "description_tooltip": null,
            "_model_module": "@jupyter-widgets/controls",
            "layout": "IPY_MODEL_0ba7f7b3dad541abb43d89ccce6c9d71"
          }
        },
        "fdabd8dd22f34300a9588ae9047d0737": {
          "model_module": "@jupyter-widgets/controls",
          "model_name": "ProgressStyleModel",
          "state": {
            "_view_name": "StyleView",
            "_model_name": "ProgressStyleModel",
            "description_width": "initial",
            "_view_module": "@jupyter-widgets/base",
            "_model_module_version": "1.5.0",
            "_view_count": null,
            "_view_module_version": "1.2.0",
            "bar_color": null,
            "_model_module": "@jupyter-widgets/controls"
          }
        },
        "f40310336c8446d08fd45d09513e491b": {
          "model_module": "@jupyter-widgets/base",
          "model_name": "LayoutModel",
          "state": {
            "_view_name": "LayoutView",
            "grid_template_rows": null,
            "right": null,
            "justify_content": null,
            "_view_module": "@jupyter-widgets/base",
            "overflow": null,
            "_model_module_version": "1.2.0",
            "_view_count": null,
            "flex_flow": null,
            "width": null,
            "min_width": null,
            "border": null,
            "align_items": null,
            "bottom": null,
            "_model_module": "@jupyter-widgets/base",
            "top": null,
            "grid_column": null,
            "overflow_y": null,
            "overflow_x": null,
            "grid_auto_flow": null,
            "grid_area": null,
            "grid_template_columns": null,
            "flex": null,
            "_model_name": "LayoutModel",
            "justify_items": null,
            "grid_row": null,
            "max_height": null,
            "align_content": null,
            "visibility": null,
            "align_self": null,
            "height": null,
            "min_height": null,
            "padding": null,
            "grid_auto_rows": null,
            "grid_gap": null,
            "max_width": null,
            "order": null,
            "_view_module_version": "1.2.0",
            "grid_template_areas": null,
            "object_position": null,
            "object_fit": null,
            "grid_auto_columns": null,
            "margin": null,
            "display": null,
            "left": null
          }
        },
        "129c781443484c869e21b204d23d48d4": {
          "model_module": "@jupyter-widgets/controls",
          "model_name": "DescriptionStyleModel",
          "state": {
            "_view_name": "StyleView",
            "_model_name": "DescriptionStyleModel",
            "description_width": "",
            "_view_module": "@jupyter-widgets/base",
            "_model_module_version": "1.5.0",
            "_view_count": null,
            "_view_module_version": "1.2.0",
            "_model_module": "@jupyter-widgets/controls"
          }
        },
        "0ba7f7b3dad541abb43d89ccce6c9d71": {
          "model_module": "@jupyter-widgets/base",
          "model_name": "LayoutModel",
          "state": {
            "_view_name": "LayoutView",
            "grid_template_rows": null,
            "right": null,
            "justify_content": null,
            "_view_module": "@jupyter-widgets/base",
            "overflow": null,
            "_model_module_version": "1.2.0",
            "_view_count": null,
            "flex_flow": null,
            "width": null,
            "min_width": null,
            "border": null,
            "align_items": null,
            "bottom": null,
            "_model_module": "@jupyter-widgets/base",
            "top": null,
            "grid_column": null,
            "overflow_y": null,
            "overflow_x": null,
            "grid_auto_flow": null,
            "grid_area": null,
            "grid_template_columns": null,
            "flex": null,
            "_model_name": "LayoutModel",
            "justify_items": null,
            "grid_row": null,
            "max_height": null,
            "align_content": null,
            "visibility": null,
            "align_self": null,
            "height": null,
            "min_height": null,
            "padding": null,
            "grid_auto_rows": null,
            "grid_gap": null,
            "max_width": null,
            "order": null,
            "_view_module_version": "1.2.0",
            "grid_template_areas": null,
            "object_position": null,
            "object_fit": null,
            "grid_auto_columns": null,
            "margin": null,
            "display": null,
            "left": null
          }
        }
      }
    }
  },
  "cells": [
    {
      "cell_type": "markdown",
      "metadata": {
        "id": "view-in-github",
        "colab_type": "text"
      },
      "source": [
        "<a href=\"https://colab.research.google.com/github/dl-ub-summer-school/2021/blob/main/DLUB_Seminar4_CNN.ipynb\" target=\"_parent\"><img src=\"https://colab.research.google.com/assets/colab-badge.svg\" alt=\"Open In Colab\"/></a>"
      ]
    },
    {
      "cell_type": "markdown",
      "metadata": {
        "id": "AKr6XLS5cKrF"
      },
      "source": [
        "Convolutional Neural Network CNN\n",
        "==============================================================="
      ]
    },
    {
      "cell_type": "markdown",
      "metadata": {
        "id": "vNwc61uicT9r"
      },
      "source": [
        "### LeNet"
      ]
    },
    {
      "cell_type": "markdown",
      "metadata": {
        "id": "MNZUQa_TcY0V"
      },
      "source": [
        "LeNet was introduced in the research paper “Gradient-Based Learning Applied To Document Recognition” in the year 1998 by Yann LeCun, Leon Bottou, Yoshua Bengio, and Patrick Haffner"
      ]
    },
    {
      "cell_type": "markdown",
      "metadata": {
        "id": "3cGcG7GjcZYZ"
      },
      "source": [
        "![mnist.png](data:image/png;base64,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)"
      ]
    },
    {
      "cell_type": "markdown",
      "metadata": {
        "id": "l4yDG0U8cbg7"
      },
      "source": [
        "### 1.1 CNN \n",
        "CNN Keyword \n",
        "- Local connectivity(Weights Sharing)\n",
        "- Invariance to small transformations"
      ]
    },
    {
      "cell_type": "markdown",
      "metadata": {
        "id": "TC7Zz-gLciU5"
      },
      "source": [
        "#### 1.1.1 Local connectivity\n",
        "Weights Sharing-г тайлбарлахын өмнө 1 жишээ авъя. Зураг өгөгдөхөд тэр зураг нь нохойн зураг мөн үү үгүй юу ялгадаг Neural Network(NN) үүсгэе. Энэ үед манай NN-н хувьд яг зургийн аль хэсэгт нохой байх нь хамаагүй.\n",
        "Энэ таскын хувьд 1 weight параметрийг 1 л удаа ашигладаг FCN-ын хувьд, нохойтой зургийг 1 пикселээр зөөхөд л өөр үр дүн гаргах магадлалтай. Доорх зургийг ажиглавал голын хар холбоосын weight маань x3->s3 хооронд л хамаатай байна.\n",
        "\n",
        "<img src=\"https://www.dropbox.com/s/w99fqqg557kcp39/sharing_2.png?raw=1\" width=\"500\">\n",
        "Credit: I. Goodfellow et al. \"Deep Learning\", MIT Press, 2017\n",
        "\n",
        "\n",
        "CNN-ын хувьд 1 weight параметрийг оролтын бүх нейронд буюу зургаар бол бүх пикселд ашиглана. Доорх жишээн дээрх хар холбоос дох утга бүгд 1 ижил буюу 1 weight параметрийг илэрхийлж байгаа болно.\n",
        "\n",
        "<img src=\"https://www.dropbox.com/s/6tct9xp0u6bo7b1/sharing_1.png?raw=1\" width=\"500\">\n",
        "Credit: I. Goodfellow et al. \"Deep Learning\", MIT Press, 2017\n"
      ]
    },
    {
      "cell_type": "markdown",
      "metadata": {
        "id": "riwH5RXjclBA"
      },
      "source": [
        "#### 1.1.2 Invariance to small transformations\n",
        "Pooling Layer-ын тусламжтайгаар параметрийн тоог багасгаад зогсохгүй бага зэргийн өөрчлөлтөнд хүчтэй neural network үүсгэх боломжтой болно.\n",
        "\n",
        "<img src=\"https://www.dropbox.com/s/2bd59a8g73fslnq/maxpool.jpeg?raw=1\" width=\"500\">\n",
        "Credit: http://cs231n.github.io/convolutional-networks/1.1.2 Invariance to small transformations\n",
        "Pooling Layer-ын тусламжтайгаар параметрийн тоог багасгаад зогсохгүй бага зэргийн өөрчлөлтөнд хүчтэй neural network үүсгэх боломжтой болно."
      ]
    },
    {
      "cell_type": "markdown",
      "metadata": {
        "id": "CvX1N8VzcpAA"
      },
      "source": [
        "#### Бүтцийн хувьд\n",
        "Ерөнхийд \n",
        "\n",
        "## Convolution ->  Non-linearity - > Pooling -> Convolution ->...\n",
        "\n",
        "Давтагдах хэлбэртэй байна. Доорх жишээн дээр эхний давхаргадуудад юмсын зах ирмэг(edge), дээд давхаргуудад машины дугуй, хүн гэх мэт feature-үүдийг таньж чаддаг болсон байна. \n",
        "\n",
        "<img src=\"https://www.dropbox.com/s/t7gd4fu957877x6/cnn_feature_extraction.png?raw=1\" width=\"700m\">\n",
        "Credit: I. Goodfellow et al. \"Deep Learning\", MIT Press, 2017"
      ]
    },
    {
      "cell_type": "markdown",
      "metadata": {
        "id": "lca8DFAScpVK"
      },
      "source": [
        "### 1.2 Convolution Layer"
      ]
    },
    {
      "cell_type": "markdown",
      "metadata": {
        "id": "wXU-oGMKctT0"
      },
      "source": [
        "\n",
        "#### 1.2.1 \n",
        "#### 2 хэмжээст датан дээрх convolution\n",
        "Доорх зурган дээр 2 хэмжээст датан дээр хэрхэн convolution хийж байгааг харуулав. Өмнө хэлсэнчлэн бүх датан дээр convolution филтерээ ашиглаж байгааг анзаарах байх.\n",
        "\n",
        "​\n",
        "<img src=\"https://www.dropbox.com/s/p9mac8fcryvkp6o/003.png?raw=1\" width=\"500\">\n"
      ]
    },
    {
      "cell_type": "markdown",
      "metadata": {
        "id": "4CufUY5Qctsl"
      },
      "source": [
        "<img src=\"https://www.dropbox.com/s/g2wz25qaiifis9l/005.png?raw=1\" width=\"600\">"
      ]
    },
    {
      "cell_type": "markdown",
      "metadata": {
        "id": "X4AMrlbXcywU"
      },
      "source": [
        "#### 1.2.2 Output Size\n",
        "Оролтын датаны босоо юм уу хэвтээ чиглэлийн хэмжээг N, филтерийн босоо юм уу хэвтээ чиглэлийн хэмжээг F, филтерийг хөдөлгөх зайг S гэвэл гаралтын хэмжээг доорх тэгшитгэлээр бодож болно.\n",
        "\n",
        "$$ (N-F)/S+1$$"
      ]
    },
    {
      "cell_type": "markdown",
      "metadata": {
        "id": "b7kzB_soc0Rc"
      },
      "source": [
        "#### 1.2.3 Padding\n",
        "1.2.1-н зургийг харвал, гаралтын хэмжээ(2, 2) нь оролтын хэмжээ болох (4,4) аас бага болсон байна. Энэ хэвээр convolution layer-г ашиглаад байвал манай feature map-н хэмжээ маань бага болно.\n",
        "\n",
        "<img src=\"https://www.dropbox.com/s/0lodrfp8ytgg6uv/002.png?raw=1\" width=\"600\">\n",
        "\n",
        "Хэрвээ Padding ашиглахгүй бол оролтын датаны захын хэсэгт convolution филтер ашиглагдах тоо буурч тэр хэсгийн мэдээлэл алдагдах магадлалтай. Ийм учраас padding хэмээх аргыг түгээмэл ашигладаг.\n",
        "\n",
        "$$ (N-F+2P)/S+1   $$ ->  $$ (4-3+2*1)/1+1=4$$"
      ]
    },
    {
      "cell_type": "markdown",
      "metadata": {
        "id": "RLy8Qk7Wc4UY"
      },
      "source": [
        "#### 1.2.4 Stride\n",
        "Оролтын датан дээр хэр зай алгасан филтерийг ашиглахыг тохируулж болно. Тэрхүү зайг stride гэж ашиглаж явна. Дээрх жишээнүүд stride 1 байсан бол доорх зурганд stride 2 -н үеийн жишээг харуулж байна. \n",
        "\n",
        "<img src=\"https://www.dropbox.com/s/5k2hfqjzs4tcf63/004.png?raw=1\" width=\"600\">"
      ]
    },
    {
      "cell_type": "markdown",
      "metadata": {
        "id": "DKEGFoKdc46-"
      },
      "source": [
        "### Pytorch Implementation CNN\n",
        "\n",
        "``torch.nn`` package-г ашиглан Neural network-г бий болгож болно.\n",
        "\n",
        " ``nn`` нь загварыг тодорхойлж, загварт уламжлал хэрэглэхэд ``autograd`` -г ашиглана.\n"
      ]
    },
    {
      "cell_type": "markdown",
      "metadata": {
        "id": "pA7Vl3XXc8nx"
      },
      "source": [
        "**ConvNet** (ConvNet загварын дараалал)\n",
        "\n",
        "Neural network сургалтын ерөнхий зарчим дараах байдалтай байна.\n",
        "\n",
        "- Суралцах параметрүүд (weight=Жин) бүхий Neural network тодорхойлох\n",
        "- Оруулж буй мэдээллийг давталт (loop) ашиглан боловсруулах\n",
        "- Network-оор дамжуулан оролтын мэдээлэл дээр тооцоолол хийх\n",
        "- Алдагдлыг тооцоолох (гаралтын үр дүн нь зөв хариултаас хэр их хазайлттай)\n",
        "- backpropagation ашиглан Network-н параметрүүдэд градиентийг дамжуулах\n",
        "- Network-н weight шинэчлэх. шинэчлэлтийн дүрэм: \n",
        "``Weight = Weight - Learning rate * Gradient``\n"
      ]
    },
    {
      "cell_type": "markdown",
      "metadata": {
        "id": "I36YxCHOc9lA"
      },
      "source": [
        "### Neural network тодорхойлолт"
      ]
    },
    {
      "cell_type": "code",
      "metadata": {
        "id": "y2SkY6i8dD3_"
      },
      "source": [
        "import torch\n",
        "import torch.nn as nn\n",
        "import torch.nn.functional as F\n",
        "from torch.autograd import Variable\n",
        "import torch.utils.data as Data\n",
        "import torchvision\n",
        "import matplotlib.pyplot as plt\n",
        "%matplotlib inline"
      ],
      "execution_count": null,
      "outputs": []
    },
    {
      "cell_type": "code",
      "metadata": {
        "colab": {
          "base_uri": "https://localhost:8080/"
        },
        "id": "1GluQ1xgdEN5",
        "outputId": "9045052d-8bd1-4955-b1ef-29df0222b970"
      },
      "source": [
        "torch.manual_seed(1)"
      ],
      "execution_count": null,
      "outputs": [
        {
          "output_type": "execute_result",
          "data": {
            "text/plain": [
              "<torch._C.Generator at 0x7f9a2a49e4b0>"
            ]
          },
          "metadata": {
            "tags": []
          },
          "execution_count": 4
        }
      ]
    },
    {
      "cell_type": "markdown",
      "metadata": {
        "id": "1BHht-FIdF7V"
      },
      "source": [
        "### 2.1 MNIST\n",
        "#### 2.1.1 Датагаа уншиж авах"
      ]
    },
    {
      "cell_type": "code",
      "metadata": {
        "id": "P9iFb-_8dI0Q"
      },
      "source": [
        "### параметрүүд\n",
        "# Хэдэн удаа оролтын датагаар моделийг сургах\n",
        "EPOCH = 1               \n",
        "# 1 удаад оруулах оролтын датаны хэмжээ\n",
        "BATCH_SIZE = 50\n",
        "# Learning Rate\n",
        "LR = 0.001              \n",
        "# MNIST датаг татах эсэх \n",
        "DOWNLOAD_MNIST = True   "
      ],
      "execution_count": null,
      "outputs": []
    },
    {
      "cell_type": "code",
      "metadata": {
        "colab": {
          "base_uri": "https://localhost:8080/",
          "height": 709,
          "referenced_widgets": [
            "1de1957adddd41f681bfbee4cf52ff9e",
            "a283bcb3204a4d9a9bff9bd6736abad7",
            "37498403f47849988ce256ec9bd91fdb",
            "b859411eaa624630bca1f1e759ccc4f9",
            "569c902d7ee54e17898d8321e0dadf86",
            "197375f9bcf44b0d9592823dd3402d1a",
            "df85ea9580d64d11af63d7202a1af6dd",
            "4af6651d0b3e4b4c8fe7f6f2abd1c7e8",
            "bc01ed9afa9d4eeab9ea85b50b19ee48",
            "be40fac2eef449358714c713026d643e",
            "c00b0a67ff9c4615894886716022dfe8",
            "942b7b1907f44ccda2da2bf05685660f",
            "6a1f33e528c140dfb8ddf0788c65f5d6",
            "e631ba070f344534ae4a41c2282cb90f",
            "58c4b1b177b34220ad2c4542938d9950",
            "fab284a847734ff09978fac49612d360",
            "274e16d42e7b4e95828bd2a358de89a6",
            "ef6506dbf7aa4cf296b58d63bc365c63",
            "960dae70a52b4e9ea0f1c5c97b58a5cc",
            "6c3b05ca64cc40369d81dde6babc6b71",
            "81857eb065fe4902a8b396942a6e4d0b",
            "369445277cd0470db99f9900ed7224ce",
            "7c405987c5ee4574a1d40f64846fc73f",
            "ff8ba3b3fbe64190a3a021e042042e28",
            "7e2f183840ff444db1e69709a73538c7",
            "e22f121bb7a7413b82a2c4f5460467c1",
            "0d3587b9b5734185854eb69199d99ad3",
            "374c085733df44428c0e3af9746c3c82",
            "fdabd8dd22f34300a9588ae9047d0737",
            "f40310336c8446d08fd45d09513e491b",
            "129c781443484c869e21b204d23d48d4",
            "0ba7f7b3dad541abb43d89ccce6c9d71"
          ]
        },
        "id": "H9C5wwdjdJKC",
        "outputId": "37d5f263-07f0-4d9e-cb6d-4d3b18de669e"
      },
      "source": [
        "# Mnist digits dataset\n",
        "batch_size = 32\n",
        "train_data = torchvision.datasets.MNIST(\n",
        "    root='./mnist/',\n",
        "    train=True,                                     \n",
        "    # this is training data\n",
        "    transform=torchvision.transforms.ToTensor(),    \n",
        "    # torch.FloatTensor of shape (Color x Height x Width) and \n",
        "    # normalize in the range [0.0, 1.0]\n",
        "    download=DOWNLOAD_MNIST,                        \n",
        ")\n",
        "\n",
        "train_loader = torch.utils.data.DataLoader(train_data, batch_size=batch_size,\n",
        "                                          shuffle=True, num_workers=2)\n",
        "\n",
        "test_data = torchvision.datasets.MNIST(root='./mnist', train=False,\n",
        "                                       download=True, transform=torchvision.transforms.ToTensor())\n",
        "\n",
        "test_loader = torch.utils.data.DataLoader(test_data, batch_size=batch_size,\n",
        "                                         shuffle=False, num_workers=2)"
      ],
      "execution_count": null,
      "outputs": [
        {
          "output_type": "stream",
          "text": [
            "Downloading http://yann.lecun.com/exdb/mnist/train-images-idx3-ubyte.gz\n",
            "Downloading http://yann.lecun.com/exdb/mnist/train-images-idx3-ubyte.gz to ./mnist/MNIST/raw/train-images-idx3-ubyte.gz\n",
            "Failed to download (trying next):\n",
            "HTTP Error 503: Service Unavailable\n",
            "\n",
            "Downloading https://ossci-datasets.s3.amazonaws.com/mnist/train-images-idx3-ubyte.gz\n",
            "Downloading https://ossci-datasets.s3.amazonaws.com/mnist/train-images-idx3-ubyte.gz to ./mnist/MNIST/raw/train-images-idx3-ubyte.gz\n"
          ],
          "name": "stdout"
        },
        {
          "output_type": "display_data",
          "data": {
            "application/vnd.jupyter.widget-view+json": {
              "model_id": "1de1957adddd41f681bfbee4cf52ff9e",
              "version_minor": 0,
              "version_major": 2
            },
            "text/plain": [
              "HBox(children=(FloatProgress(value=0.0, max=9912422.0), HTML(value='')))"
            ]
          },
          "metadata": {
            "tags": []
          }
        },
        {
          "output_type": "stream",
          "text": [
            "\n",
            "Extracting ./mnist/MNIST/raw/train-images-idx3-ubyte.gz to ./mnist/MNIST/raw\n",
            "\n",
            "Downloading http://yann.lecun.com/exdb/mnist/train-labels-idx1-ubyte.gz\n",
            "Downloading http://yann.lecun.com/exdb/mnist/train-labels-idx1-ubyte.gz to ./mnist/MNIST/raw/train-labels-idx1-ubyte.gz\n"
          ],
          "name": "stdout"
        },
        {
          "output_type": "display_data",
          "data": {
            "application/vnd.jupyter.widget-view+json": {
              "model_id": "bc01ed9afa9d4eeab9ea85b50b19ee48",
              "version_minor": 0,
              "version_major": 2
            },
            "text/plain": [
              "HBox(children=(FloatProgress(value=0.0, max=28881.0), HTML(value='')))"
            ]
          },
          "metadata": {
            "tags": []
          }
        },
        {
          "output_type": "stream",
          "text": [
            "\n",
            "Extracting ./mnist/MNIST/raw/train-labels-idx1-ubyte.gz to ./mnist/MNIST/raw\n",
            "\n",
            "Downloading http://yann.lecun.com/exdb/mnist/t10k-images-idx3-ubyte.gz\n",
            "Downloading http://yann.lecun.com/exdb/mnist/t10k-images-idx3-ubyte.gz to ./mnist/MNIST/raw/t10k-images-idx3-ubyte.gz\n",
            "Failed to download (trying next):\n",
            "HTTP Error 503: Service Unavailable\n",
            "\n",
            "Downloading https://ossci-datasets.s3.amazonaws.com/mnist/t10k-images-idx3-ubyte.gz\n",
            "Downloading https://ossci-datasets.s3.amazonaws.com/mnist/t10k-images-idx3-ubyte.gz to ./mnist/MNIST/raw/t10k-images-idx3-ubyte.gz\n"
          ],
          "name": "stdout"
        },
        {
          "output_type": "display_data",
          "data": {
            "application/vnd.jupyter.widget-view+json": {
              "model_id": "274e16d42e7b4e95828bd2a358de89a6",
              "version_minor": 0,
              "version_major": 2
            },
            "text/plain": [
              "HBox(children=(FloatProgress(value=0.0, max=1648877.0), HTML(value='')))"
            ]
          },
          "metadata": {
            "tags": []
          }
        },
        {
          "output_type": "stream",
          "text": [
            "\n",
            "Extracting ./mnist/MNIST/raw/t10k-images-idx3-ubyte.gz to ./mnist/MNIST/raw\n",
            "\n",
            "Downloading http://yann.lecun.com/exdb/mnist/t10k-labels-idx1-ubyte.gz\n",
            "Downloading http://yann.lecun.com/exdb/mnist/t10k-labels-idx1-ubyte.gz to ./mnist/MNIST/raw/t10k-labels-idx1-ubyte.gz\n"
          ],
          "name": "stdout"
        },
        {
          "output_type": "display_data",
          "data": {
            "application/vnd.jupyter.widget-view+json": {
              "model_id": "7e2f183840ff444db1e69709a73538c7",
              "version_minor": 0,
              "version_major": 2
            },
            "text/plain": [
              "HBox(children=(FloatProgress(value=0.0, max=4542.0), HTML(value='')))"
            ]
          },
          "metadata": {
            "tags": []
          }
        },
        {
          "output_type": "stream",
          "text": [
            "\n",
            "Extracting ./mnist/MNIST/raw/t10k-labels-idx1-ubyte.gz to ./mnist/MNIST/raw\n",
            "\n"
          ],
          "name": "stdout"
        },
        {
          "output_type": "stream",
          "text": [
            "/usr/local/lib/python3.7/dist-packages/torchvision/datasets/mnist.py:498: UserWarning: The given NumPy array is not writeable, and PyTorch does not support non-writeable tensors. This means you can write to the underlying (supposedly non-writeable) NumPy array using the tensor. You may want to copy the array to protect its data or make it writeable before converting it to a tensor. This type of warning will be suppressed for the rest of this program. (Triggered internally at  /pytorch/torch/csrc/utils/tensor_numpy.cpp:180.)\n",
            "  return torch.from_numpy(parsed.astype(m[2], copy=False)).view(*s)\n"
          ],
          "name": "stderr"
        }
      ]
    },
    {
      "cell_type": "code",
      "metadata": {
        "colab": {
          "base_uri": "https://localhost:8080/"
        },
        "id": "bvzyFoQsdPav",
        "outputId": "9e6200f7-e08f-4290-d599-3a34faea34a1"
      },
      "source": [
        "train_data"
      ],
      "execution_count": null,
      "outputs": [
        {
          "output_type": "execute_result",
          "data": {
            "text/plain": [
              "Dataset MNIST\n",
              "    Number of datapoints: 60000\n",
              "    Root location: ./mnist/\n",
              "    Split: Train\n",
              "    StandardTransform\n",
              "Transform: ToTensor()"
            ]
          },
          "metadata": {
            "tags": []
          },
          "execution_count": 7
        }
      ]
    },
    {
      "cell_type": "code",
      "metadata": {
        "colab": {
          "base_uri": "https://localhost:8080/",
          "height": 103
        },
        "id": "TW8qXLu5dRws",
        "outputId": "d411d69c-5d06-4352-84a3-cb630bbd3c9b"
      },
      "source": [
        "# plot example\n",
        "fig = plt.figure(figsize=(9, 15))\n",
        "fig.subplots_adjust(left=0, right=1, bottom=0, top=0.5, hspace=0.05,\n",
        "                    wspace=0.05)\n",
        "\n",
        "for i in range(9):\n",
        "    ax = fig.add_subplot(1, 9, i + 1, xticks=[], yticks=[])\n",
        "    ax.imshow(train_data.data[i].numpy(), cmap='gray')"
      ],
      "execution_count": null,
      "outputs": [
        {
          "output_type": "display_data",
          "data": {
            "image/png": "[encoded data removed]",
            "text/plain": [
              "<Figure size 648x1080 with 9 Axes>"
            ]
          },
          "metadata": {
            "tags": []
          }
        }
      ]
    },
    {
      "cell_type": "code",
      "metadata": {
        "colab": {
          "base_uri": "https://localhost:8080/"
        },
        "id": "0dOMZy8AdTa9",
        "outputId": "f2665afa-63d5-4970-da7c-f9ba9ad86613"
      },
      "source": [
        "# plot one example\n",
        "print(train_data.data.size())                 # (60000, 28, 28)\n",
        "print(train_data.targets.size())               # (60000)"
      ],
      "execution_count": null,
      "outputs": [
        {
          "output_type": "stream",
          "text": [
            "torch.Size([60000, 28, 28])\n",
            "torch.Size([60000])\n"
          ],
          "name": "stdout"
        }
      ]
    },
    {
      "cell_type": "code",
      "metadata": {
        "id": "1CT50HNpdVHy"
      },
      "source": [
        "test_x = Variable(torch.unsqueeze(test_data.data, dim=1)).type(torch.FloatTensor)[:2000]/255.   \n",
        "# shape from (2000, 28, 28) to (2000, 1, 28, 28), value in range(0,1)\n",
        "test_y = test_data.targets[:2000]"
      ],
      "execution_count": null,
      "outputs": []
    },
    {
      "cell_type": "markdown",
      "metadata": {
        "id": "HbWiR_VTdWWg"
      },
      "source": [
        "#### 2.1.2 Pytorch Implementation"
      ]
    },
    {
      "cell_type": "markdown",
      "metadata": {
        "id": "Oy-ZRV0Idas_"
      },
      "source": [
        "https://pytorch.org/docs/stable/generated/torch.nn.Conv2d.html\n",
        "\n",
        "\n",
        "<img src=\"https://www.dropbox.com/s/ajquvvd2x2dvxfs/017.png?raw=1\" width=\"600\">"
      ]
    },
    {
      "cell_type": "code",
      "metadata": {
        "id": "-DvL19wjdYXZ"
      },
      "source": [
        "# implementation\n",
        "class CNN(nn.Module):\n",
        "    def __init__(self):\n",
        "        super(CNN, self).__init__()\n",
        "        # TODO\n",
        "        # Conv1\n",
        "        # Conv2\n",
        "        # Maxpool\n",
        "        # DropOut\n",
        "        # FullyConnectedLayer1(Linear)\n",
        "        # FullyConnectedLayer2(Linear)\n",
        "\n",
        "    def forward(self, x):\n",
        "        return output"
      ],
      "execution_count": null,
      "outputs": []
    },
    {
      "cell_type": "code",
      "metadata": {
        "colab": {
          "base_uri": "https://localhost:8080/"
        },
        "id": "Vsl9NNTGfdgP",
        "outputId": "56ddb6cc-ec6d-4640-a640-117f9d74577f"
      },
      "source": [
        "device = torch.device(\"cuda\" if torch.cuda.is_available() else \"cpu\") # PyTorch v0.4.0\n",
        "device"
      ],
      "execution_count": null,
      "outputs": [
        {
          "output_type": "execute_result",
          "data": {
            "text/plain": [
              "device(type='cpu')"
            ]
          },
          "metadata": {
            "tags": []
          },
          "execution_count": 14
        }
      ]
    },
    {
      "cell_type": "code",
      "metadata": {
        "id": "7GxenEwvf1YD"
      },
      "source": [
        "cnn = CNN().cuda()\n",
        "print(cnn)  "
      ],
      "execution_count": null,
      "outputs": []
    },
    {
      "cell_type": "code",
      "metadata": {
        "colab": {
          "base_uri": "https://localhost:8080/"
        },
        "id": "ZkA4kVlMf4j3",
        "outputId": "62c25e6a-c591-416f-a617-5ffd57ec17fa"
      },
      "source": [
        "!pip install torchinfo"
      ],
      "execution_count": null,
      "outputs": [
        {
          "output_type": "stream",
          "text": [
            "Collecting torchinfo\n",
            "  Downloading https://files.pythonhosted.org/packages/e7/d3/11f9901d75f4d105b2b1700c81f83579fd33c4cf0ec88bb7a165d96c7bb4/torchinfo-0.1.5-py3-none-any.whl\n",
            "Installing collected packages: torchinfo\n",
            "Successfully installed torchinfo-0.1.5\n"
          ],
          "name": "stdout"
        }
      ]
    },
    {
      "cell_type": "code",
      "metadata": {
        "id": "ieU1mbcAf43v"
      },
      "source": [
        "stats = summary(cnn, (1, 1, 28, 28), verbose=2)"
      ],
      "execution_count": null,
      "outputs": []
    },
    {
      "cell_type": "code",
      "metadata": {
        "id": "lQ4KBoCof7Wo"
      },
      "source": [
        "optimizer = torch.optim.SGD(cnn.parameters(), lr=LR                                                                                                                                                     )   # optimize all cnn parameters\n",
        "loss_func = nn.CrossEntropyLoss() "
      ],
      "execution_count": null,
      "outputs": []
    },
    {
      "cell_type": "code",
      "metadata": {
        "id": "2cnjnv0Af-k5"
      },
      "source": [
        "# for visualization\n",
        "from matplotlib import cm\n",
        "from sklearn.manifold import TSNE\n",
        "\n",
        "def plot_with_labels(lowDWeights, labels):\n",
        "    plt.cla()\n",
        "    X, Y = lowDWeights[:, 0], lowDWeights[:, 1]\n",
        "    for x, y, s in zip(X, Y, labels):\n",
        "        c = cm.rainbow(int(255 * s / 9)); plt.text(x, y, s, backgroundcolor=c, fontsize=9)\n",
        "    plt.xlim(X.min(), X.max()); plt.ylim(Y.min(), Y.max()); plt.title('Visualize last layer');\n",
        "    plt.show(); \n",
        "    #plt.pause(0.01)"
      ],
      "execution_count": null,
      "outputs": []
    },
    {
      "cell_type": "code",
      "metadata": {
        "id": "cTkmE8OmgF9A"
      },
      "source": [
        "plt.ion()"
      ],
      "execution_count": null,
      "outputs": []
    },
    {
      "cell_type": "markdown",
      "metadata": {
        "id": "6G9Wy2jfgPmc"
      },
      "source": [
        "### Training"
      ]
    },
    {
      "cell_type": "code",
      "metadata": {
        "id": "t-lMfZXogKwk"
      },
      "source": [
        "# training\n",
        "test_x = test_x.to(device)\n",
        "test_y = test_y.to(device)\n",
        "for epoch in range(EPOCH):\n",
        "    for step, (x, y) in enumerate(train_loader):\n",
        "        # TODO\n",
        "        # clear gradients for this training step\n",
        "        x = x.to(device)\n",
        "        y = y.to(device)\n",
        "\n",
        "        # forward pass\n",
        "        # TODO\n",
        "        # cnn output\n",
        "        # cross entropy loss\n",
        "       \n",
        "        # backward pass\n",
        "        # TODO\n",
        "        # backpropagation, compute gradients\n",
        "        # apply gradients, update params\n",
        "\n",
        "        #Visualization\n",
        "        if step % 300 == 0:\n",
        "            test_output, last_layer = cnn(test_x)\n",
        "            pred_y = torch.max(test_output, 1)[1].data\n",
        "            accuracy = (pred_y == test_y).sum().item() / float(test_y.size(0))\n",
        "            print('step:{}'.format(step), '| loss:{:.4f}'.format(loss.data), '| test accuracy: {:.2f}'.format(accuracy) ) \n",
        "\n",
        "            # Visualization of trained flatten layer (T-SNE)\n",
        "            tsne = TSNE(perplexity=30, n_components=2, init='pca', n_iter=5000)\n",
        "            plot_only = 500\n",
        "            low_dim_embs = tsne.fit_transform(last_layer.cpu().data.numpy()[:plot_only, :])\n",
        "            labels = test_y.cpu().numpy()[:plot_only]\n",
        "            plot_with_labels(low_dim_embs, labels)\n",
        "plt.ioff()"
      ],
      "execution_count": null,
      "outputs": []
    },
    {
      "cell_type": "markdown",
      "metadata": {
        "id": "jqnUGSWmg0bJ"
      },
      "source": [
        "### Evaluation"
      ]
    },
    {
      "cell_type": "code",
      "metadata": {
        "id": "4cHa_hIrg4Oj"
      },
      "source": [
        "correct = 0\n",
        "total = 0\n",
        "# since we're not training, we don't need to calculate the gradients for our outputs\n",
        "with torch.no_grad():\n",
        "    for x, y in test_loader:\n",
        "        # calculate outputs by running images through the network \n",
        "        x = x.to(device)\n",
        "        y = y.to(device)\n",
        "        outputs = cnn(x)[0]\n",
        "        # the class with the highest energy is what we choose as prediction\n",
        "        predicted = torch.max(outputs.data, 1)[1]\n",
        "        total += y.size(0)\n",
        "        correct += (predicted == y).sum().item()\n",
        "\n",
        "print('Accuracy of the network on the 10000 test images: %d %%' % (\n",
        "    100 * correct / total))"
      ],
      "execution_count": null,
      "outputs": []
    },
    {
      "cell_type": "code",
      "metadata": {
        "id": "QpBSSoZDhAIe"
      },
      "source": [
        "# print 10 predictions from test data\n",
        "test_output, _ = cnn(test_x[:10])\n",
        "pred_y = torch.max(test_output, 1)[1].cpu().data.numpy()\n",
        "print(pred_y, 'prediction number')\n",
        "print(test_y[:10].cpu().numpy(), 'real number')"
      ],
      "execution_count": null,
      "outputs": []
    },
    {
      "cell_type": "code",
      "metadata": {
        "id": "kDk1QukAhDVW"
      },
      "source": [
        "# 2 ways to save the net\n",
        "torch.save(cnn, 'net.pth')  # save entire net\n",
        "torch.save(cnn.state_dict(), 'net_params.pth')   # save only the parameters"
      ],
      "execution_count": null,
      "outputs": []
    },
    {
      "cell_type": "markdown",
      "metadata": {
        "id": "LbPs7hhGhF9N"
      },
      "source": [
        "### Conclusion"
      ]
    },
    {
      "cell_type": "code",
      "metadata": {
        "id": "Op7i71ymhIxW"
      },
      "source": [
        "cnn.conv[0].weight.grad[0]\n",
        "cnn.conv[0].weight[0]\n",
        "cnn.conv[0].bias.grad\n",
        "cnn.conv[0].bias"
      ],
      "execution_count": null,
      "outputs": []
    },
    {
      "cell_type": "code",
      "metadata": {
        "id": "wVve8TIbhPWY"
      },
      "source": [
        ""
      ],
      "execution_count": null,
      "outputs": []
    },
    {
      "cell_type": "markdown",
      "metadata": {
        "id": "zekoLWZ1hRRp"
      },
      "source": [
        "Жишээ: 1-р давхарга дахь Convolution филтерүүд\n",
        "\n",
        "\n",
        "<img src=\"https://www.dropbox.com/s/1ne5kmra8f0imwj/006.png?raw=1\" width=\"800\">"
      ]
    },
    {
      "cell_type": "markdown",
      "metadata": {
        "id": "71ZSBhuPhUR6"
      },
      "source": [
        "Зурган дээр филтер ашигласны үр дүн\n",
        "\n",
        "<img src=\"https://www.dropbox.com/s/yzqmqfstdncsjae/001.png?raw=1\" width=\"800\">"
      ]
    },
    {
      "cell_type": "markdown",
      "metadata": {
        "id": "Jj6XxkvJhRn-"
      },
      "source": [
        "### Exercise: CIFAR 10\n",
        "\n",
        "Мэдээллийн сан нь мэлхий, шувуу, муур, усан онгоц гэх мэт 10 ангийн объектын 60,000 32 × 32 пикселийн өнгөт гэрэл зургаас бүрдэнэ.\n",
        "\n",
        "<img src=\"https://www.dropbox.com/s/mgsdep5130eo69i/007.png?raw=1\" width=\"600\">"
      ]
    },
    {
      "cell_type": "code",
      "metadata": {
        "id": "BUHFPAnbhZAE"
      },
      "source": [
        "DOWNLOAD_CIFAR = True   "
      ],
      "execution_count": null,
      "outputs": []
    },
    {
      "cell_type": "code",
      "metadata": {
        "colab": {
          "base_uri": "https://localhost:8080/"
        },
        "id": "2rMCIJ9jhb4w",
        "outputId": "dc716c2a-e009-444b-dc05-85106f70d7d2"
      },
      "source": [
        "batch_size = 16\n",
        "\n",
        "transform = torchvision.transforms.Compose(\n",
        "    [torchvision.transforms.ToTensor(),\n",
        "     torchvision.transforms.Normalize(mean=(0.5, 0.5, 0.5), std=(0.5, 0.5, 0.5))])\n",
        "\n",
        "# image = (image - mean) / std\n",
        "# minimum value 0 will be converted to (0-0.5)/0.5=-1, \n",
        "# maximum value of 1 will be converted to (1-0.5)/0.5=1\n",
        "\n",
        "cifar_train_data = torchvision.datasets.CIFAR10(\n",
        "    root='./cifar', \n",
        "    train=True,\n",
        "    download=DOWNLOAD_CIFAR, \n",
        "    transform=transform)\n",
        "\n",
        "cifar_train_loader = torch.utils.data.DataLoader(\n",
        "    cifar_train_data, \n",
        "    batch_size=batch_size,\n",
        "    shuffle=True, \n",
        "    num_workers=2)\n",
        "\n",
        "cifar_test_data = torchvision.datasets.CIFAR10(\n",
        "    root='./cifar', \n",
        "    train=False,\n",
        "    download=DOWNLOAD_CIFAR, \n",
        "    transform=transform)\n",
        "\n",
        "cifar_test_loader = torch.utils.data.DataLoader(\n",
        "    cifar_test_data, \n",
        "    batch_size=batch_size,\n",
        "    shuffle=False, \n",
        "    num_workers=2)\n",
        "\n",
        "classes = ('plane', 'car', 'bird', 'cat',\n",
        "           'deer', 'dog', 'frog', 'horse', 'ship', 'truck')"
      ],
      "execution_count": null,
      "outputs": [
        {
          "output_type": "stream",
          "text": [
            "Files already downloaded and verified\n",
            "Files already downloaded and verified\n"
          ],
          "name": "stdout"
        }
      ]
    },
    {
      "cell_type": "code",
      "metadata": {
        "colab": {
          "base_uri": "https://localhost:8080/",
          "height": 103
        },
        "id": "vxn59zoQhc3y",
        "outputId": "451ffc12-8f67-48b3-a26f-60fba40366e5"
      },
      "source": [
        "# plot example\n",
        "fig = plt.figure(figsize=(9, 15))\n",
        "fig.subplots_adjust(left=0, right=1, bottom=0, top=0.5, hspace=0.05,\n",
        "                    wspace=0.05)\n",
        "\n",
        "for i in range(9):\n",
        "    ax = fig.add_subplot(1, 9, i + 1, xticks=[], yticks=[])\n",
        "    ax.imshow(cifar_train_data.data[i], cmap='gray')"
      ],
      "execution_count": null,
      "outputs": [
        {
          "output_type": "display_data",
          "data": {
            "image/png": "[encoded data removed]",
            "text/plain": [
              "<Figure size 648x1080 with 9 Axes>"
            ]
          },
          "metadata": {
            "tags": []
          }
        }
      ]
    },
    {
      "cell_type": "code",
      "metadata": {
        "colab": {
          "base_uri": "https://localhost:8080/"
        },
        "id": "S8mtZx9vheeE",
        "outputId": "cdab8c0d-06c1-49e8-b9b5-873197ad9db6"
      },
      "source": [
        "cifar_train_data"
      ],
      "execution_count": null,
      "outputs": [
        {
          "output_type": "execute_result",
          "data": {
            "text/plain": [
              "Dataset CIFAR10\n",
              "    Number of datapoints: 50000\n",
              "    Root location: ./cifar\n",
              "    Split: Train\n",
              "    StandardTransform\n",
              "Transform: Compose(\n",
              "               ToTensor()\n",
              "               Normalize(mean=(0.5, 0.5, 0.5), std=(0.5, 0.5, 0.5))\n",
              "           )"
            ]
          },
          "metadata": {
            "tags": []
          },
          "execution_count": 32
        }
      ]
    },
    {
      "cell_type": "markdown",
      "metadata": {
        "id": "AFzpatfJhgcG"
      },
      "source": [
        "### Define a Convolutional Neural Network"
      ]
    },
    {
      "cell_type": "code",
      "metadata": {
        "id": "-n6mzbsvkK4w"
      },
      "source": [
        "class CifarNet(nn.Module):\n",
        "    def __init__(self):\n",
        "        \"\"\"CifarNet Builder.\"\"\"\n",
        "        super(CifarNet, self).__init__()\n",
        "\n",
        "        self.conv_layer = nn.Sequential(\n",
        "            # TODO\n",
        "            # Conv Layer block 1\n",
        "                # Conv2d\n",
        "                # ReLU\n",
        "                # Conv2d\n",
        "                # ReLU\n",
        "                # MaxPool2d\n",
        "            # Conv Layer block 2\n",
        "            # Conv Layer block 3\n",
        "\n",
        "        )\n",
        "\n",
        "        self.fc_layer = nn.Sequential(\n",
        "            # TODO\n",
        "            #DropOut\n",
        "            #Linear\n",
        "            #ReLU\n",
        "            #DropOut\n",
        "            #Linear\n",
        "            #ReLU\n",
        "        )\n",
        "\n",
        "\n",
        "    def forward(self, x):\n",
        "        \"\"\"Perform forward.\"\"\"\n",
        "        \n",
        "        # conv layers\n",
        "        x = self.conv_layer(x)\n",
        "        \n",
        "        # flatten\n",
        "        x = x.view(x.size(0), -1)\n",
        "        \n",
        "        # fc layer\n",
        "        x = self.fc_layer(x)\n",
        "\n",
        "        return x"
      ],
      "execution_count": null,
      "outputs": []
    },
    {
      "cell_type": "code",
      "metadata": {
        "id": "onRpmL1nqKHv"
      },
      "source": [
        "device = torch.device(\"cuda\" if torch.cuda.is_available() else \"cpu\") # PyTorch v0.4.0\n",
        "cifarnet = CifarNet().to(device)"
      ],
      "execution_count": null,
      "outputs": []
    },
    {
      "cell_type": "markdown",
      "metadata": {
        "id": "e0TUsWwGqauP"
      },
      "source": [
        "### Define a Loss function and optimizer"
      ]
    },
    {
      "cell_type": "code",
      "metadata": {
        "id": "5aLH7AvaqXoc"
      },
      "source": [
        "import torch.optim as optim\n",
        "cifar_loss_func = nn.CrossEntropyLoss()\n",
        "optimizer = optim.SGD(cifarnet.parameters(), lr=0.001)"
      ],
      "execution_count": null,
      "outputs": []
    },
    {
      "cell_type": "markdown",
      "metadata": {
        "id": "iQJXKOc9nfp9"
      },
      "source": [
        "### Train the network"
      ]
    },
    {
      "cell_type": "code",
      "metadata": {
        "id": "Nqyz4vDbniaU"
      },
      "source": [
        "EPOCH = 2\n",
        "for epoch in range(EPOCH):\n",
        "\n",
        "    running_loss = 0.0\n",
        "    for step, (x, y) in enumerate(cifar_train_loader, 0):\n",
        "        x = x.cuda()\n",
        "        y = y.cuda()\n",
        "\n",
        "        # zero the parameter gradients\n",
        "        optimizer.zero_grad()\n",
        "\n",
        "        # forward + backward + optimize\n",
        "        outputs = cifarnet(x)\n",
        "        loss = cifar_loss_func(outputs, y)\n",
        "        loss.backward()\n",
        "\n",
        "        optimizer.step()\n",
        "\n",
        "        # print statistics\n",
        "        running_loss += loss.item()\n",
        "        if (step+1) % 1000 == 0: \n",
        "            print('step:{}'.format(step), '| loss:{:.4f}'.format(running_loss/300) )   \n",
        "            running_loss = 0.0\n",
        "\n",
        "print('Finished Training ...')"
      ],
      "execution_count": null,
      "outputs": []
    },
    {
      "cell_type": "markdown",
      "metadata": {
        "id": "PBrARU2SmZo2"
      },
      "source": [
        "### Evaluation"
      ]
    },
    {
      "cell_type": "code",
      "metadata": {
        "id": "uCisCa7ImXsa"
      },
      "source": [
        "correct = 0\n",
        "total = 0\n",
        "with torch.no_grad():\n",
        "    for x, y in cifar_test_loader:\n",
        "        x = x.to(device)\n",
        "        y = y.to(device)\n",
        "        outputs = cifarnet(x)\n",
        "\n",
        "        predicted = torch.max(outputs.data, 1)[1]\n",
        "        total += y.size(0)\n",
        "        correct += (predicted == y).sum().item()\n",
        "\n",
        "print('Accuracy of the network : %d %%' % (100 * correct / total))"
      ],
      "execution_count": null,
      "outputs": []
    },
    {
      "cell_type": "markdown",
      "metadata": {
        "id": "wyZRhNnkmlyi"
      },
      "source": [
        "### Goal: Accuracy: above 80%"
      ]
    },
    {
      "cell_type": "markdown",
      "metadata": {
        "id": "rHK_PHIAmkik"
      },
      "source": [
        "HINT: Deeper Network\n",
        "Өмнөх network дээр 5x5 филтер ашиглаж байсныг 3x3 филтер 2ширхэгийг ашиглахад цөөн параметраар ижил үр дүнд хүрэх боломжтой\n",
        "\n",
        "5x5=25 VS 3x3=9 Convolution filter\n",
        "\n",
        "<img src=\"https://www.dropbox.com/s/d6j30shc1u727vc/008.png?raw=1\" width=\"600\">"
      ]
    },
    {
      "cell_type": "markdown",
      "metadata": {
        "id": "z2XtvN8smt1F"
      },
      "source": [
        "### VGG like network\n",
        "\n",
        "\n",
        "<img src=\"https://www.dropbox.com/s/xnk4dses7bfupau/009.png?raw=1\" width=\"800\">"
      ]
    },
    {
      "cell_type": "markdown",
      "metadata": {
        "id": "2yYb5EvwmuZo"
      },
      "source": [
        "### Normalization"
      ]
    },
    {
      "cell_type": "markdown",
      "metadata": {
        "id": "EWdWLmOto4eP"
      },
      "source": [
        "<img src=\"https://miro.medium.com/max/700/1*4T4y3kI0R9Alk_2pe6B4Pg.png\" width=\"800\"> \n",
        "\n",
        "Raw and normalized data\n",
        "\n"
      ]
    },
    {
      "cell_type": "markdown",
      "metadata": {
        "id": "RvRt0VI0pCZG"
      },
      "source": [
        "#### Batch Normalization"
      ]
    },
    {
      "cell_type": "markdown",
      "metadata": {
        "id": "KwJPdc7FpIzS"
      },
      "source": [
        "<img src=\"https://miro.medium.com/max/700/1*WRio7MD4JDeLww-CyrxEbg.png\" width=\"800\"> \n"
      ]
    },
    {
      "cell_type": "code",
      "metadata": {
        "id": "scHBGLOGpP5l"
      },
      "source": [
        ""
      ],
      "execution_count": null,
      "outputs": []
    }
  ]
}