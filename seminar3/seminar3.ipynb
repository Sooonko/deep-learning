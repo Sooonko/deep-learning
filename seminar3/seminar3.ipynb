{
  "nbformat": 4,
  "nbformat_minor": 0,
  "metadata": {
    "accelerator": "GPU",
    "colab": {
      "name": "seminar3_solution.ipynb",
      "provenance": [],
      "collapsed_sections": [],
      "toc_visible": true,
      "include_colab_link": true
    },
    "kernelspec": {
      "display_name": "Python 3",
      "language": "python",
      "name": "python3"
    },
    "language_info": {
      "codemirror_mode": {
        "name": "ipython",
        "version": 3
      },
      "file_extension": ".py",
      "mimetype": "text/x-python",
      "name": "python",
      "nbconvert_exporter": "python",
      "pygments_lexer": "ipython3",
      "version": "3.7.2"
    }
  },
  "cells": [
    {
      "cell_type": "markdown",
      "metadata": {
        "id": "view-in-github",
        "colab_type": "text"
      },
      "source": [
        "<a href=\"https://colab.research.google.com/github/dl-ub-summer-school/2021/blob/main/seminar3/seminar3.ipynb\" target=\"_parent\"><img src=\"https://colab.research.google.com/assets/colab-badge.svg\" alt=\"Open In Colab\"/></a>"
      ]
    },
    {
      "cell_type": "markdown",
      "metadata": {
        "id": "F3jZ6kBHtCFz"
      },
      "source": [
        "<table class=\"buttons\" align=\"center\">\n",
        "    <td>\n",
        "        <a target=\"_blank\" href=\"https://colab.research.google.com/github/dl-ub-summer-school/2021/blob/main/seminar3/seminar3.ipynb\"><img src=\"https://www.tensorflow.org/images/colab_logo_32px.png\" />Google Colab дээр нээх</a>\n",
        "    </td>\n",
        "    <td>\n",
        "        <a target=\"_blank\" href=\"https://github.com/dl-ub-summer-school/2021/blob/main/seminar3/seminar3.ipynb\"><img src=\"https://www.tensorflow.org/images/GitHub-Mark-32px.png\" />GitHub дээр нээх</a>\n",
        "    </td>\n",
        "    <td>\n",
        "        <a target=\"_blank\" href=\"https://sites.google.com/view/dlub\"><img src=\"https://avatars0.githubusercontent.com/u/52651086?s=32&v=4\">Зуны сургалтын вебсайт</a>\n",
        "    </td>\n",
        "</table>"
      ]
    },
    {
      "cell_type": "markdown",
      "metadata": {
        "id": "TzTJLLxafgt1"
      },
      "source": [
        "# 1. Pre-processing - Сургалтын процессд зориулан датаг бэлтгэх\n"
      ]
    },
    {
      "cell_type": "markdown",
      "metadata": {
        "id": "MlLbPZcKBX8F"
      },
      "source": [
        "## 1.1. Preprocessing-ийн өмнөх хэсэг"
      ]
    },
    {
      "cell_type": "markdown",
      "metadata": {
        "id": "z0vk8Cg3lnMM"
      },
      "source": [
        "### 1.1.1. Шаардлагатай сангуудыг импортлох"
      ]
    },
    {
      "cell_type": "code",
      "metadata": {
        "id": "JUF9NRjCltpj"
      },
      "source": [
        "import numpy as np\n",
        "import torch\n",
        "from torch import nn            # Neural Network-той холбоотой бүхнийг агуулна.\n",
        "from torch import optim         # Оновчлолын алгоритмуудыг агуулна.\n",
        "import torch.nn.functional as F # Функциональ алгоритмуудыг агуулна.\n",
        "import matplotlib.pyplot as plt\n",
        "%matplotlib inline"
      ],
      "execution_count": null,
      "outputs": []
    },
    {
      "cell_type": "markdown",
      "metadata": {
        "id": "tvVvk_2LkpkM"
      },
      "source": [
        "### 1.1.2. GPU mode"
      ]
    },
    {
      "cell_type": "markdown",
      "metadata": {
        "id": "73jC8QlDkuQ7"
      },
      "source": [
        "**Edit > Notebook Settings > Hardware accelerator** хэсгийг **GPU** болгож өөрчлөх\n",
        "\n",
        "(Сургалтын процессыг GPU ашиглан сургавал дан CPU дээр ажиллуулснаас хэд дахин хурдан ажиллана.)\n"
      ]
    },
    {
      "cell_type": "code",
      "metadata": {
        "colab": {
          "base_uri": "https://localhost:8080/",
          "height": 34
        },
        "id": "A5zC-BQBlVRz",
        "outputId": "dce9bf6c-b35d-481b-9e56-f585d34ae73b"
      },
      "source": [
        "train_on_gpu=torch.cuda.is_available()\n",
        "\n",
        "if(train_on_gpu):\n",
        "    print('Training on GPU.')\n",
        "else:\n",
        "    print('No GPU available, training on CPU.')"
      ],
      "execution_count": null,
      "outputs": [
        {
          "output_type": "stream",
          "text": [
            "Training on GPU.\n"
          ],
          "name": "stdout"
        }
      ]
    },
    {
      "cell_type": "markdown",
      "metadata": {
        "id": "6P_Rt0Bt5IpX"
      },
      "source": [
        "### 1.1.3. Датаг унших\n",
        "\n",
        "\"!\" тэмдэг ашиглан shell комманд ажиллуулж болох ба \"{}\" ашиглан shell комманд дотроо python variable оруулж болдог "
      ]
    },
    {
      "cell_type": "code",
      "metadata": {
        "colab": {
          "base_uri": "https://localhost:8080/",
          "height": 326
        },
        "id": "nELBJM0oLdCN",
        "outputId": "c545b72b-213d-4fdb-8a4c-291094f6bc1b"
      },
      "source": [
        "filename = \"book.txt\"\n",
        "!wget -O {filename} \"https://drive.google.com/uc?export=download&id=1uzTJe8PPS0t116KcC9lGlvdlmO6guKR1\""
      ],
      "execution_count": null,
      "outputs": [
        {
          "output_type": "stream",
          "text": [
            "--2019-07-24 01:46:09--  https://drive.google.com/uc?export=download&id=1uzTJe8PPS0t116KcC9lGlvdlmO6guKR1\n",
            "Resolving drive.google.com (drive.google.com)... 74.125.195.113, 74.125.195.138, 74.125.195.139, ...\n",
            "Connecting to drive.google.com (drive.google.com)|74.125.195.113|:443... connected.\n",
            "HTTP request sent, awaiting response... 302 Moved Temporarily\n",
            "Location: https://doc-0g-00-docs.googleusercontent.com/docs/securesc/ha0ro937gcuc7l7deffksulhg5h7mbp1/stqgj1hfh63g412om5762e70efqmspdo/1563926400000/13980977719275995798/*/1uzTJe8PPS0t116KcC9lGlvdlmO6guKR1?e=download [following]\n",
            "Warning: wildcards not supported in HTTP.\n",
            "--2019-07-24 01:46:09--  https://doc-0g-00-docs.googleusercontent.com/docs/securesc/ha0ro937gcuc7l7deffksulhg5h7mbp1/stqgj1hfh63g412om5762e70efqmspdo/1563926400000/13980977719275995798/*/1uzTJe8PPS0t116KcC9lGlvdlmO6guKR1?e=download\n",
            "Resolving doc-0g-00-docs.googleusercontent.com (doc-0g-00-docs.googleusercontent.com)... 74.125.142.132, 2607:f8b0:400e:c08::84\n",
            "Connecting to doc-0g-00-docs.googleusercontent.com (doc-0g-00-docs.googleusercontent.com)|74.125.142.132|:443... connected.\n",
            "HTTP request sent, awaiting response... 200 OK\n",
            "Length: unspecified [text/plain]\n",
            "Saving to: ‘book.txt’\n",
            "\n",
            "\rbook.txt                [<=>                 ]       0  --.-KB/s               \rbook.txt                [ <=>                ]   2.09M  --.-KB/s    in 0.01s   \n",
            "\n",
            "2019-07-24 01:46:09 (202 MB/s) - ‘book.txt’ saved [2187725]\n",
            "\n"
          ],
          "name": "stdout"
        }
      ]
    },
    {
      "cell_type": "code",
      "metadata": {
        "colab": {
          "base_uri": "https://localhost:8080/",
          "height": 34
        },
        "id": "jC-RYYhbVKOC",
        "outputId": "e56ed7fc-3f5c-4396-b874-c13e67b49e51"
      },
      "source": [
        "mnt_text = None \n",
        "with open(filename) as f:\n",
        "  mnt_text = f.read()\n",
        "  \n",
        "print(\"Number of chars: \", len(mnt_text))\n"
      ],
      "execution_count": null,
      "outputs": [
        {
          "output_type": "stream",
          "text": [
            "Number of chars:  1206907\n"
          ],
          "name": "stdout"
        }
      ]
    },
    {
      "cell_type": "code",
      "metadata": {
        "colab": {
          "base_uri": "https://localhost:8080/",
          "height": 68
        },
        "id": "Le_7ECvqkW0D",
        "outputId": "c246e260-cc38-4ff1-ff03-1df0a3b646de"
      },
      "source": [
        "print(mnt_text[:100])"
      ],
      "execution_count": null,
      "outputs": [
        {
          "output_type": "stream",
          "text": [
            "МОНГОЛЫН ӨГҮҮЛЛЭГИЙН\n",
            "ЦОМОРЛИГ\n",
            "Энэхүү цоморлигт 1990 – ээд оноос хойш туурвигдсан утга зохиолын тэмцэ\n"
          ],
          "name": "stdout"
        }
      ]
    },
    {
      "cell_type": "markdown",
      "metadata": {
        "id": "iRiHeNvk6REv"
      },
      "source": [
        "## 1.2. Data pre-processing"
      ]
    },
    {
      "cell_type": "markdown",
      "metadata": {
        "id": "y6ye0MPxsz__"
      },
      "source": [
        "Датаг сургалтанд зориулан бэлтгэнэ. Ингэснээр алдаа гарах нь бага, мөн илүү үнэмшилтэй үр дүнд хүрнэ."
      ]
    },
    {
      "cell_type": "markdown",
      "metadata": {
        "id": "IfJQYIfFrhbX"
      },
      "source": [
        "### 1.2.1. Tokenization"
      ]
    },
    {
      "cell_type": "markdown",
      "metadata": {
        "id": "TTXvcQ7WrCMF"
      },
      "source": [
        "Датаг токенууд болгон салгана. \n",
        "\n",
        "(Бидний тохиолдолд, үсэг бүрээр нь салгана) \n"
      ]
    },
    {
      "cell_type": "code",
      "metadata": {
        "colab": {
          "base_uri": "https://localhost:8080/",
          "height": 68
        },
        "id": "Bo-zpi9zmNz0",
        "outputId": "13da3d31-78b7-41bb-e061-f672bc09b26b"
      },
      "source": [
        "# encode the text and map each character to an integer and vice versa\n",
        "\n",
        "text = mnt_text[:]\n",
        "\n",
        "# set of all characters (which is become vocabulary of our model)\n",
        "chars = list(set(text))\n",
        "print(\"Vocab size: \", len(chars))\n",
        "print(\"Sample: \", chars[:10])\n",
        "\n",
        "# 1. int2char, which maps integers to characters\n",
        "int2char = { i:ch for i, ch in enumerate(chars) }\n",
        "\n",
        "# 2. char2int, which maps characters to unique integers\n",
        "char2int = { ch:i for i,ch in enumerate(chars) }\n",
        "\n",
        "# encode the text\n",
        "encoded = np.array([char2int[ch] for ch in text])\n",
        "print(\"Encode: \", encoded[:10])"
      ],
      "execution_count": null,
      "outputs": [
        {
          "output_type": "stream",
          "text": [
            "Vocab size:  127\n",
            "Sample:  ['м', 'Й', 'N', 'o', 'l', '.', 's', '”', '-', '\"']\n",
            "Encode:  [ 66  72  13 118  72  98 121  13 126  94]\n"
          ],
          "name": "stdout"
        }
      ]
    },
    {
      "cell_type": "code",
      "metadata": {
        "colab": {
          "base_uri": "https://localhost:8080/",
          "height": 51
        },
        "id": "BAM6pf2Qb8-R",
        "outputId": "1898a504-6d03-4c49-a691-1bb2a4d82a52"
      },
      "source": [
        "print(text[:10])\n",
        "encoded[:10]"
      ],
      "execution_count": null,
      "outputs": [
        {
          "output_type": "stream",
          "text": [
            "МОНГОЛЫН Ө\n"
          ],
          "name": "stdout"
        },
        {
          "output_type": "execute_result",
          "data": {
            "text/plain": [
              "array([ 66,  72,  13, 118,  72,  98, 121,  13, 126,  94])"
            ]
          },
          "metadata": {
            "tags": []
          },
          "execution_count": 79
        }
      ]
    },
    {
      "cell_type": "markdown",
      "metadata": {
        "id": "EqpS8Z7AzAAz"
      },
      "source": [
        "### 1.2.2. Encoding the characters\n",
        "\n",
        "useful functions:\n",
        "\n",
        "```\n",
        ">>> a = [[3 5 4], [4 5 7]]\n",
        ">>> a.flatten() \n",
        "[3 5 4 4 5 7]\n",
        ">>> np.arange(3)\n",
        "array([0, 1, 2])\n",
        ">>> a.reshape(1, 6)\n",
        "[3 5 4 4 5 7]\n",
        "```\n"
      ]
    },
    {
      "cell_type": "code",
      "metadata": {
        "id": "Qg5hJA8sxmtl"
      },
      "source": [
        "def one_hot_encode(arr, n_labels):\n",
        "  \n",
        "  # TODO: implement one-hot encoding\n",
        "  \n",
        "  # Initialize the encoded array (with zeros) size = (arr.size x n_labels)\n",
        "  one_hot = np.zeros((arr.size, n_labels), dtype=np.float32)\n",
        "  \n",
        "  # Fill the appropriate elements with ones\n",
        "  one_hot[np.arange(one_hot.shape[0]), arr.flatten()] = 1\n",
        "  \n",
        "  # Finally reshape it to get back to the original array\n",
        "  one_hot = one_hot.reshape((*arr.shape, n_labels))\n",
        "  \n",
        "  return one_hot"
      ],
      "execution_count": null,
      "outputs": []
    },
    {
      "cell_type": "code",
      "metadata": {
        "colab": {
          "base_uri": "https://localhost:8080/",
          "height": 136
        },
        "id": "QNKz-Oi9xp2O",
        "outputId": "4f54bc2f-5dc3-43d4-e6dc-95d6aa669a0d"
      },
      "source": [
        "# check that the function works as expected\n",
        "test_seq = np.array([[3, 5, 4], [4, 5, 7]])\n",
        "one_hot = one_hot_encode(test_seq, 8)\n",
        "print(one_hot)"
      ],
      "execution_count": null,
      "outputs": [
        {
          "output_type": "stream",
          "text": [
            "[[[0. 0. 0. 1. 0. 0. 0. 0.]\n",
            "  [0. 0. 0. 0. 0. 1. 0. 0.]\n",
            "  [0. 0. 0. 0. 1. 0. 0. 0.]]\n",
            "\n",
            " [[0. 0. 0. 0. 1. 0. 0. 0.]\n",
            "  [0. 0. 0. 0. 0. 1. 0. 0.]\n",
            "  [0. 0. 0. 0. 0. 0. 0. 1.]]]\n"
          ],
          "name": "stdout"
        }
      ]
    },
    {
      "cell_type": "markdown",
      "metadata": {
        "id": "qRRXVsX5eIdE"
      },
      "source": [
        "Дараахь хэлбэртэй харагдана.\n",
        "```\n",
        "[[[0. 0. 0. 1. 0. 0. 0. 0.]\n",
        "  [0. 0. 0. 0. 0. 1. 0. 0.]\n",
        "  [0. 0. 0. 0. 1. 0. 0. 0.]]\n",
        "\n",
        " [[0. 0. 0. 0. 1. 0. 0. 0.]\n",
        "  [0. 0. 0. 0. 0. 1. 0. 0.]\n",
        "  [0. 0. 0. 0. 0. 0. 0. 1.]]]\n",
        "  ```"
      ]
    },
    {
      "cell_type": "markdown",
      "metadata": {
        "id": "48Yxv5mMzeDg"
      },
      "source": [
        "### 1.2.3. Making training mini-batches\n",
        "\n",
        "<img src=\"https://raw.githubusercontent.com/udacity/deep-learning-v2-pytorch/master/recurrent-neural-networks/char-rnn/assets/sequence_batching%401x.png\" width=500 />\n"
      ]
    },
    {
      "cell_type": "code",
      "metadata": {
        "id": "XhdgSQybq6kk"
      },
      "source": [
        "def get_batches(arr, batch_size, seq_length):\n",
        "  '''Create a generator that returns batches of size\n",
        "        \n",
        "        batch_size x seq_length \n",
        "     \n",
        "     from arr.\n",
        "     \n",
        "     Arguments\n",
        "     ---------\n",
        "     arr:         Array you want to make batches from\n",
        "     batch_size:  Batch size, the number of sequences per batch\n",
        "     seq_length:  Number of encoded chars in a sequence\n",
        "  '''\n",
        "  \n",
        "  batch_size_total = batch_size * seq_length\n",
        "  \n",
        "  # TODO: Make mini-batches\n",
        "  \n",
        "  # Get the number of batches we can make\n",
        "  n_batches = len(arr) // batch_size_total\n",
        "  \n",
        "  # Keep only enough characters to make full batches\n",
        "  arr = arr[:n_batches * batch_size_total]\n",
        "  \n",
        "  # Reshape into batch_size rows\n",
        "  arr = arr.reshape((batch_size, -1))\n",
        "  \n",
        "  for n in range(0, arr.shape[1], seq_length):\n",
        "    # The features\n",
        "    x = arr[:, n:n+seq_length]\n",
        "    \n",
        "    # The targets, shifted by one\n",
        "    y = np.zeros_like(x)\n",
        "    \n",
        "    try:\n",
        "      y[:, :-1], y[:, -1] = x[:, 1:], arr[:, n+seq_length]\n",
        "    except IndexError:\n",
        "      y[:, :-1], y[:, -1] = x[:, 1:], arr[:, 0]\n",
        "    yield x, y"
      ],
      "execution_count": null,
      "outputs": []
    },
    {
      "cell_type": "code",
      "metadata": {
        "colab": {
          "base_uri": "https://localhost:8080/",
          "height": 170
        },
        "id": "vaF0tw0ivEHe",
        "outputId": "2c662d79-091f-4eea-9690-bd4ab8be290e"
      },
      "source": [
        "\n",
        "batches = get_batches(encoded, 8, 50)\n",
        "x, y = next(batches)\n",
        "\n",
        "print('x\\n', x[:3, :10])\n",
        "print('\\ny\\n', y[:3, :10])"
      ],
      "execution_count": null,
      "outputs": [
        {
          "output_type": "stream",
          "text": [
            "x\n",
            " [[ 66  72  13 118  72  98 121  13 126  94]\n",
            " [103  24  14  31  24 112  44 126  31  24]\n",
            " [106  27 106  84  35 106  48 126  83 101]]\n",
            "\n",
            "y\n",
            " [[ 72  13 118  72  98 121  13 126  94 118]\n",
            " [ 24  14  31  24 112  44 126  31  24  85]\n",
            " [ 27 106  84  35 106  48 126  83 101   0]]\n"
          ],
          "name": "stdout"
        }
      ]
    },
    {
      "cell_type": "markdown",
      "metadata": {
        "id": "XtBLCaxleaSS"
      },
      "source": [
        "Output should looks like:\n",
        "```\n",
        "x\n",
        " [[ 66  72  13 118  72  98 121  13 126  94]\n",
        " [103  24  14  31  24 112  44 126  31  24]\n",
        " [106  27 106  84  35 106  48 126  83 101]]\n",
        "\n",
        "y\n",
        " [[ 72  13 118  72  98 121  13 126  94 118]\n",
        " [ 24  14  31  24 112  44 126  31  24  85]\n",
        " [ 27 106  84  35 106  48 126  83 101   0]]\n",
        "```\n"
      ]
    },
    {
      "cell_type": "markdown",
      "metadata": {
        "id": "CE9RkCEM_qL6"
      },
      "source": [
        "## 1.3. Train, test split"
      ]
    },
    {
      "cell_type": "code",
      "metadata": {
        "id": "J6C66U9G_pev"
      },
      "source": [
        "def split_train_test(data, validation_frac=0.1):\n",
        "    \n",
        "    # TODO: split data by validation fraction (validation_frac)\n",
        "    length = int(len(data) * (1-validation_frac))\n",
        "    \n",
        "    train, val_data = data[:length], data[length:]\n",
        "    \n",
        "    return train, val_data"
      ],
      "execution_count": null,
      "outputs": []
    },
    {
      "cell_type": "markdown",
      "metadata": {
        "id": "4eegYPL2yrza"
      },
      "source": [
        "# 2. Single layer RNN model"
      ]
    },
    {
      "cell_type": "markdown",
      "metadata": {
        "id": "QVpJL3tEiKSk"
      },
      "source": [
        "## 2.1. Model Structure"
      ]
    },
    {
      "cell_type": "markdown",
      "metadata": {
        "id": "stKSLRB3CyfB"
      },
      "source": [
        "Simple RNN structure \n",
        "\n",
        "<img src=\"http://colah.github.io/posts/2015-08-Understanding-LSTMs/img/LSTM3-SimpleRNN.png\" width=600 />\n",
        "\n"
      ]
    },
    {
      "cell_type": "markdown",
      "metadata": {
        "id": "gCrmL0k9Y8M0"
      },
      "source": [
        "Custom implementation: https://gist.github.com/karpathy/d4dee566867f8291f086"
      ]
    },
    {
      "cell_type": "markdown",
      "metadata": {
        "id": "ZIcfoYER4IZS"
      },
      "source": [
        "<img src=\"https://www.di.ens.fr/~lelarge/dldiy/slides/lecture_8/images/char_rnn_2.png\" width=500 />\n",
        "\n",
        "Layer definition:\n",
        "\n",
        " - input layer --> hidden layer\n",
        "```\n",
        "self.rnn = nn.RNN(input_size, hidden_dim, n_layers, batch_first=True)\n",
        "```\n",
        "\n",
        "- hidden layer --> output layer  \n",
        "```\n",
        "self.fc = nn.Linear(hidden_dim, output_size)\n",
        "```"
      ]
    },
    {
      "cell_type": "code",
      "metadata": {
        "id": "bTmc8WsTJ8bI"
      },
      "source": [
        "\n",
        "class SingleRNN(nn.Module):\n",
        "    def __init__(self, tokens, n_hidden=256):\n",
        "        super().__init__()\n",
        "        self.n_hidden = n_hidden\n",
        "\n",
        "        # creating character dictionaries\n",
        "        self.chars = list(set(tokens))\n",
        "        self.int2char = { i:ch for i, ch in enumerate(self.chars) }\n",
        "        self.char2int = { ch:i for i, ch in enumerate(self.chars) }\n",
        "        self.in_out_dim = len(self.chars)\n",
        "\n",
        "        self.rnn = nn.RNN(self.in_out_dim, n_hidden, 1, batch_first=True)\n",
        "        \n",
        "        # last, fully-connected layer\n",
        "        self.fc = nn.Linear(n_hidden, self.in_out_dim)\n",
        "\n",
        "    def forward(self, x, hidden):\n",
        "        \n",
        "        # get RNN outputs\n",
        "        r_out, hidden = self.rnn(x, hidden)\n",
        "       \n",
        "        \n",
        "        # shape output to be (batch_size * seq_length, n_hidden)\n",
        "        r_out = r_out.contiguous().view(-1, self.n_hidden)  \n",
        "        \n",
        "        # get final output \n",
        "        output = self.fc(r_out)\n",
        "        \n",
        "        return output, hidden\n",
        "    \n",
        "    def init_hidden(self, batch_size):\n",
        "      \n",
        "      return torch.zeros(1, batch_size, self.n_hidden)\n",
        "      "
      ],
      "execution_count": null,
      "outputs": []
    },
    {
      "cell_type": "markdown",
      "metadata": {
        "id": "4-CEWf1IFL6i"
      },
      "source": [
        "## 2.2. Training"
      ]
    },
    {
      "cell_type": "markdown",
      "metadata": {
        "id": "4bKnGKijOnrw"
      },
      "source": [
        "**Hyperparameters:**\n",
        "\n",
        " - n_hidden     - hidden давхаргын нейроны тоо\n",
        " - batch_size  - Нэг удаагийн урсгалаар нэгэн зэрэг хэдэн дарааллыг сургахыг заана.\n",
        " - seq_length  - Network-ийн сургалтын 1 \"дарааллын\" урт. Дараалал урт байх тусам илүү сайн сурна. \n",
        " - lr                   - Learning rate\n",
        " "
      ]
    },
    {
      "cell_type": "markdown",
      "metadata": {
        "id": "sPVUdvaugdUA"
      },
      "source": [
        "**Cross entropy loss**: \n",
        "\n",
        "nn.LogSoftmax() болон nn.NLLLoss()-ийг нэгтгэсэн гэж хэлж болно.\n",
        "\n",
        "\\begin{align*}\n",
        "L_{cross-entropy}(\\hat{y}, y) = -\\sum y_ilog(\\hat{y_i})\n",
        "\\end{align*}\n",
        "\n"
      ]
    },
    {
      "cell_type": "code",
      "metadata": {
        "id": "9w5jRarH8UPH"
      },
      "source": [
        "def trainRNN(rnn, data, epochs=10, batch_size=10, seq_length=20, lr=0.001, val_frac=0.1):\n",
        "  \n",
        "  train_data, val_data = split_train_test(data, 0.1)\n",
        "  \n",
        "  optimizer = optim.Adam(rnn.parameters(), lr=lr)\n",
        "  criterion = nn.CrossEntropyLoss()\n",
        "  \n",
        "  train_loss_graph = []\n",
        "  val_loss_graph = []\n",
        "  \n",
        "  for e in range(epochs):\n",
        "    # init hidden state\n",
        "    hidden_state = rnn.init_hidden(batch_size)\n",
        "\n",
        "    counter = 0\n",
        "    \n",
        "    for x, y in get_batches(data, batch_size, seq_length):\n",
        "      loss = 0\n",
        "\n",
        "      x = one_hot_encode(x, len(rnn.chars))\n",
        "\n",
        "      inputs, targets = torch.from_numpy(x), torch.from_numpy(y)\n",
        "\n",
        "      # Forward propagation\n",
        "      output, hs = rnn.forward(inputs, hidden_state)\n",
        "\n",
        "      rnn.zero_grad()\n",
        "\n",
        "      # Алдаа бодох \n",
        "      loss = criterion(output, targets.flatten())\n",
        "\n",
        "      # Backward propagation\n",
        "      loss.backward(retain_graph=True)\n",
        "\n",
        "      optimizer.step()\n",
        "      \n",
        "      #nn.utils.clip_grad_norm_(rnn.parameters(), 5)\n",
        "      \n",
        "      hidden_state = hs.data\n",
        "\n",
        "      counter += 1\n",
        "    \n",
        "    train_loss_graph.append(\n",
        "        loss.item()\n",
        "    )\n",
        "    val_loss_graph.append(\n",
        "        validateRNN(\n",
        "            rnn,\n",
        "            val_data,\n",
        "            batch_size,\n",
        "            seq_length,\n",
        "            criterion,\n",
        "            len(rnn.chars),\n",
        "            loss,\n",
        "            counter,\n",
        "            e\n",
        "        )\n",
        "    )\n",
        "  plt.plot(val_loss_graph)\n",
        "  plt.plot(train_loss_graph)\n",
        "  plt.show()"
      ],
      "execution_count": null,
      "outputs": []
    },
    {
      "cell_type": "code",
      "metadata": {
        "id": "hIjFeylV4kPY"
      },
      "source": [
        "def validateRNN(net, val_data, batch_size, seq_length, criterion, n_chars, loss, counter, e):\n",
        "    # Get validation loss\n",
        "    val_h = net.init_hidden(batch_size)\n",
        "    val_losses = []\n",
        "    for x, y in get_batches(val_data, batch_size, seq_length):\n",
        "      \n",
        "        x = one_hot_encode(x, n_chars)\n",
        "        x, y = torch.from_numpy(x), torch.from_numpy(y)\n",
        "\n",
        "        inputs, targets = x, y\n",
        "        \n",
        "        output, val_h = net(inputs, val_h)\n",
        "        \n",
        "        val_loss = criterion(output, targets.flatten())\n",
        "        val_losses.append(val_loss.item())\n",
        "\n",
        "    print(\"Epoch: {}/{}...\".format(e+1, epochs),\n",
        "          \"Step: {}...\".format(counter),\n",
        "          \"Loss: {:.4f}...\".format(loss.item()),\n",
        "          \"Val Loss: {:.4f}\".format(np.mean(val_losses)))\n",
        "    return np.mean(val_losses)"
      ],
      "execution_count": null,
      "outputs": []
    },
    {
      "cell_type": "markdown",
      "metadata": {
        "id": "Co8OmEfEdFic"
      },
      "source": [
        "## 2.3. Network ажиллуулах"
      ]
    },
    {
      "cell_type": "code",
      "metadata": {
        "colab": {
          "base_uri": "https://localhost:8080/",
          "height": 85
        },
        "id": "A7UGR76m8i2W",
        "outputId": "18513367-25de-44b3-b7ba-6d15e1ace87e"
      },
      "source": [
        "txt = text[:2000]\n",
        "seq_length = 20\n",
        "hidden_dim = 40\n",
        "batch_size = 10\n",
        "epochs = 30\n",
        "\n",
        "\n",
        "rnn = SingleRNN(txt, hidden_dim)\n",
        "\n",
        "encoded = np.array([rnn.char2int[ch] for ch in txt])\n",
        "\n",
        "print(rnn)\n"
      ],
      "execution_count": null,
      "outputs": [
        {
          "output_type": "stream",
          "text": [
            "SingleRNN(\n",
            "  (rnn): RNN(69, 40, batch_first=True)\n",
            "  (fc): Linear(in_features=40, out_features=69, bias=True)\n",
            ")\n"
          ],
          "name": "stdout"
        }
      ]
    },
    {
      "cell_type": "code",
      "metadata": {
        "colab": {
          "base_uri": "https://localhost:8080/",
          "height": 779
        },
        "id": "315mNcLnDljT",
        "outputId": "53ccae36-2375-402a-97b2-d05e4959e770"
      },
      "source": [
        "trainRNN(rnn, encoded, epochs=epochs, batch_size=batch_size, seq_length=seq_length)"
      ],
      "execution_count": null,
      "outputs": [
        {
          "output_type": "stream",
          "text": [
            "Epoch: 1/30... Step: 10... Loss: 4.1332... Val Loss: 4.1295\n",
            "Epoch: 2/30... Step: 10... Loss: 3.9735... Val Loss: 3.9638\n",
            "Epoch: 3/30... Step: 10... Loss: 3.7329... Val Loss: 3.7364\n",
            "Epoch: 4/30... Step: 10... Loss: 3.5914... Val Loss: 3.6303\n",
            "Epoch: 5/30... Step: 10... Loss: 3.5391... Val Loss: 3.6156\n",
            "Epoch: 6/30... Step: 10... Loss: 3.5218... Val Loss: 3.6151\n",
            "Epoch: 7/30... Step: 10... Loss: 3.5160... Val Loss: 3.6092\n",
            "Epoch: 8/30... Step: 10... Loss: 3.5109... Val Loss: 3.5999\n",
            "Epoch: 9/30... Step: 10... Loss: 3.5040... Val Loss: 3.5896\n",
            "Epoch: 10/30... Step: 10... Loss: 3.4945... Val Loss: 3.5793\n",
            "Epoch: 11/30... Step: 10... Loss: 3.4833... Val Loss: 3.5691\n",
            "Epoch: 12/30... Step: 10... Loss: 3.4706... Val Loss: 3.5580\n",
            "Epoch: 13/30... Step: 10... Loss: 3.4564... Val Loss: 3.5455\n",
            "Epoch: 14/30... Step: 10... Loss: 3.4405... Val Loss: 3.5314\n",
            "Epoch: 15/30... Step: 10... Loss: 3.4221... Val Loss: 3.5153\n",
            "Epoch: 16/30... Step: 10... Loss: 3.4008... Val Loss: 3.4966\n",
            "Epoch: 17/30... Step: 10... Loss: 3.3761... Val Loss: 3.4750\n",
            "Epoch: 18/30... Step: 10... Loss: 3.3475... Val Loss: 3.4503\n",
            "Epoch: 19/30... Step: 10... Loss: 3.3148... Val Loss: 3.4224\n",
            "Epoch: 20/30... Step: 10... Loss: 3.2778... Val Loss: 3.3912\n",
            "Epoch: 21/30... Step: 10... Loss: 3.2369... Val Loss: 3.3567\n",
            "Epoch: 22/30... Step: 10... Loss: 3.1924... Val Loss: 3.3179\n",
            "Epoch: 23/30... Step: 10... Loss: 3.1420... Val Loss: 3.2703\n",
            "Epoch: 24/30... Step: 10... Loss: 3.0695... Val Loss: 3.1912\n",
            "Epoch: 25/30... Step: 10... Loss: 3.0048... Val Loss: 3.1487\n",
            "Epoch: 26/30... Step: 10... Loss: 2.9559... Val Loss: 3.1153\n",
            "Epoch: 27/30... Step: 10... Loss: 2.9126... Val Loss: 3.0851\n",
            "Epoch: 28/30... Step: 10... Loss: 2.8717... Val Loss: 3.0466\n",
            "Epoch: 29/30... Step: 10... Loss: 2.8310... Val Loss: 3.0150\n",
            "Epoch: 30/30... Step: 10... Loss: 2.7920... Val Loss: 2.9857\n"
          ],
          "name": "stdout"
        },
        {
          "output_type": "display_data",
          "data": {
            "image/png": "[encoded data removed]",
            "text/plain": [
              "<Figure size 432x288 with 1 Axes>"
            ]
          },
          "metadata": {
            "tags": []
          }
        }
      ]
    },
    {
      "cell_type": "markdown",
      "metadata": {
        "id": "sB9NMEXAVhNP"
      },
      "source": [
        "## 2.4. Making Predictions"
      ]
    },
    {
      "cell_type": "code",
      "metadata": {
        "id": "JLCglcNiSCzQ"
      },
      "source": [
        "def predict(rnn, char, h=None, top_k=None):\n",
        "  \n",
        "  # tensor inputs\n",
        "  x = np.array([[rnn.char2int[char]]])\n",
        "  x = one_hot_encode(x, len(rnn.chars))\n",
        "  inputs = torch.from_numpy(x)\n",
        "  \n",
        "  # get the output of the model\n",
        "  out, h = rnn.forward(inputs, h)\n",
        "  \n",
        "  # get the character probabilities\n",
        "  p = F.softmax(out, dim=1).data\n",
        "  \n",
        "  # get top characters\n",
        "  if top_k is None:\n",
        "    top_ch = np.arange(len(rnn.chars))\n",
        "  else:\n",
        "    p, top_ch = p.topk(top_k) # topk gets top likely next characters\n",
        "    top_ch = top_ch.numpy().squeeze()\n",
        "    \n",
        "  # select the likely next character with some element of randomness\n",
        "  p = p.numpy().squeeze()\n",
        "  char = np.random.choice(top_ch, p=p/p.sum())\n",
        "  \n",
        "  # return the encoded value of the predicted char and the hidden state\n",
        "  return rnn.int2char[char], h"
      ],
      "execution_count": null,
      "outputs": []
    },
    {
      "cell_type": "markdown",
      "metadata": {
        "id": "ObfFkn10avYg"
      },
      "source": [
        "## 2.5. Priming and generating text"
      ]
    },
    {
      "cell_type": "code",
      "metadata": {
        "id": "9OKR8MSzSG64"
      },
      "source": [
        "def sample(rnn, size, prime='байна', top_k=None):\n",
        "    \n",
        "  # First off, run through the prime characters\n",
        "  chars = [ch for ch in prime]\n",
        "  h = rnn.init_hidden(1)\n",
        "  for ch in prime:\n",
        "    char, h = predict(rnn, ch, h, top_k=top_k)\n",
        "    \n",
        "  chars.append(char)\n",
        "  \n",
        "  # Now pass in the previous character and get a new one\n",
        "  for ii in range(size):\n",
        "    char, h = predict(rnn, chars[-1], h, top_k=top_k)\n",
        "    chars.append(char)\n",
        "    \n",
        "  return ''.join(chars)\n",
        "\n"
      ],
      "execution_count": null,
      "outputs": []
    },
    {
      "cell_type": "code",
      "metadata": {
        "colab": {
          "base_uri": "https://localhost:8080/",
          "height": 34
        },
        "id": "TVLEqzeSSP9O",
        "outputId": "304d0772-ccb8-4410-e2ae-7ea8019e2c18"
      },
      "source": [
        "print(sample(rnn, 100, prime='Тэмүүжин', top_k=4))"
      ],
      "execution_count": null,
      "outputs": [
        {
          "output_type": "stream",
          "text": [
            "Тэмүүжин бэн бай  болин тарлар иэр ар болон зийнэн аор ол оолэн тэл анг ан оол хиннан болин  олол агголан бол\n"
          ],
          "name": "stdout"
        }
      ]
    },
    {
      "cell_type": "markdown",
      "metadata": {
        "id": "2al6xvui_ERO"
      },
      "source": [
        "# 3. 2-layer LSTM"
      ]
    },
    {
      "cell_type": "markdown",
      "metadata": {
        "id": "UAGxVTWTARV7"
      },
      "source": [
        "![alt text](https://raw.githubusercontent.com/udacity/deep-learning-v2-pytorch/master/recurrent-neural-networks/char-rnn/assets/charRNN%400.5x.png)"
      ]
    },
    {
      "cell_type": "markdown",
      "metadata": {
        "id": "AUTQoushxBoq"
      },
      "source": [
        "## 4.1. Model Class "
      ]
    },
    {
      "cell_type": "code",
      "metadata": {
        "id": "wRqtpcgCbzSS"
      },
      "source": [
        "class CharRNN(nn.Module):\n",
        "  def __init__(self, tokens, n_hidden=256, n_layers=2, drop_prob=0.5, lr=0.001):\n",
        "    super().__init__()\n",
        "    self.drop_prob = drop_prob\n",
        "    self.n_layers = n_layers\n",
        "    self.n_hidden = n_hidden\n",
        "    self.lr = lr\n",
        "    \n",
        "    # creating character dictionaries\n",
        "    self.chars = tokens\n",
        "    self.int2char = dict(enumerate(self.chars))\n",
        "    self.char2int = {ch: ii for ii, ch in self.int2char.items()}\n",
        "    \n",
        "    # Define the layers of the model\n",
        "    \n",
        "    # LSTM\n",
        "    self.lstm = nn.LSTM(len(self.chars), n_hidden, n_layers, \n",
        "                        dropout=drop_prob, batch_first=True)\n",
        "    # Dropout layer\n",
        "    self.dropout = nn.Dropout(drop_prob)\n",
        "    \n",
        "    # Final, fully-connected output layer\n",
        "    self.fc = nn.Linear(n_hidden, len(self.chars))\n",
        "    \n",
        "  def forward(self, x, hidden):\n",
        "    ''' Forward pass through the network.\n",
        "    These inputs are x, and the hidden/cell state `hidden`. '''\n",
        "    \n",
        "    # Get the outputs and the new hidden state from the LSTM\n",
        "    r_output, hidden = self.lstm(x, hidden)\n",
        "        \n",
        "    out = self.dropout(r_output)\n",
        "    \n",
        "    # Stack up LSTM outputs using view\n",
        "    # you may need to use contiguous to reshape the output\n",
        "    out = out.contiguous().view(-1, self.n_hidden)\n",
        "    # put x through the fully-connected layer\n",
        "    out = self.fc(out)\n",
        "    \n",
        "    # return the final output and the hidden state\n",
        "    return out, hidden\n",
        "  \n",
        "  def init_hidden(self, batch_size):\n",
        "    ''' Initializes hidden state '''\n",
        "    # Create two new tensors with sizes n_layers x batch_size x n_hidden,\n",
        "    # initialized to zero, for hidden state and cell state of LSTM\n",
        "    weight = next(self.parameters()).data\n",
        "    \n",
        "    if (train_on_gpu):\n",
        "      hidden = (weight.new(self.n_layers, batch_size, self.n_hidden).zero_().cuda(),\n",
        "                weight.new(self.n_layers, batch_size, self.n_hidden).zero_().cuda())\n",
        "    else:\n",
        "      hidden = (weight.new(self.n_layers, batch_size, self.n_hidden).zero_(),\n",
        "                weight.new(self.n_layers, batch_size, self.n_hidden).zero_())\n",
        "\n",
        "    return hidden"
      ],
      "execution_count": null,
      "outputs": []
    },
    {
      "cell_type": "markdown",
      "metadata": {
        "id": "Yfu9TW6AxHgz"
      },
      "source": [
        "## 4.2. Training"
      ]
    },
    {
      "cell_type": "code",
      "metadata": {
        "id": "yImCgnQxbzU6"
      },
      "source": [
        "def trainLSTM(net, data, epochs=10, batch_size=10, \n",
        "          seq_length=50, lr=0.001, clip=5, val_frac=0.1, print_every=10):\n",
        "    ''' Training a network \n",
        "    \n",
        "        Arguments\n",
        "        ---------\n",
        "        \n",
        "        net:        CharRNN network\n",
        "        data:       text data to train the network\n",
        "        epochs:     Number of epochs to train\n",
        "        batch_size: Number of mini-sequences per mini-batch, aka batch size\n",
        "        seq_length: Number of character steps per mini-batch\n",
        "        lr:         learning rate\n",
        "        clip:       gradient clipping\n",
        "        val_frac:   Fraction of data to hold out for validation\n",
        "        print_every:   Number of steps for printing training and validation loss\n",
        "    \n",
        "    '''\n",
        "    \n",
        "    # Change the network mode into train\n",
        "    net.train()\n",
        "    \n",
        "    opt = torch.optim.Adam(net.parameters(), lr=lr)\n",
        "    criterion = nn.CrossEntropyLoss()\n",
        "    \n",
        "    # create training and validation data\n",
        "    val_idx = int(len(data)*(1-val_frac))\n",
        "    data, val_data = data[:val_idx], data[val_idx:]\n",
        "    \n",
        "    if(train_on_gpu):\n",
        "        net.cuda()\n",
        "    \n",
        "    counter = 0\n",
        "    n_chars = len(net.chars)\n",
        "    for e in range(epochs):\n",
        "        # initialize hidden state\n",
        "        h = net.init_hidden(batch_size)\n",
        "        \n",
        "        for x, y in get_batches(data, batch_size, seq_length):\n",
        "            counter += 1\n",
        "            \n",
        "            # One-hot encode our data and make them Torch tensors\n",
        "            x = one_hot_encode(x, n_chars)\n",
        "            inputs, targets = torch.from_numpy(x), torch.from_numpy(y)\n",
        "            \n",
        "            if(train_on_gpu):\n",
        "                inputs, targets = inputs.cuda(), targets.cuda()\n",
        "\n",
        "            # Creating new variables for the hidden state, otherwise\n",
        "            # we'd backprop through the entire training history\n",
        "            h = tuple([each.data for each in h])\n",
        "\n",
        "            # zero accumulated gradients\n",
        "            net.zero_grad()\n",
        "            \n",
        "            # get the output from the model\n",
        "            output, h = net(inputs, h)\n",
        "            \n",
        "            # calculate the loss and perform backprop\n",
        "            loss = criterion(output, targets.view(batch_size*seq_length).long())\n",
        "            loss.backward()\n",
        "            # `clip_grad_norm` helps prevent the exploding gradient problem in RNNs / LSTMs.\n",
        "            nn.utils.clip_grad_norm_(net.parameters(), clip)\n",
        "            opt.step()\n",
        "            \n",
        "            # loss stats\n",
        "            if counter % print_every == 0:\n",
        "                "
      ],
      "execution_count": null,
      "outputs": []
    },
    {
      "cell_type": "code",
      "metadata": {
        "id": "vVh8-QpAGrGg"
      },
      "source": [
        "def validateLSTM():\n",
        "  # Get validation loss\n",
        "  val_h = net.init_hidden(batch_size)\n",
        "  val_losses = []\n",
        "  net.eval()\n",
        "  for x, y in get_batches(val_data, batch_size, seq_length):\n",
        "      # One-hot encode our data and make them Torch tensors\n",
        "      x = one_hot_encode(x, n_chars)\n",
        "      x, y = torch.from_numpy(x), torch.from_numpy(y)\n",
        "\n",
        "      # Creating new variables for the hidden state, otherwise\n",
        "      # we'd backprop through the entire training history\n",
        "      val_h = tuple([each.data for each in val_h])\n",
        "\n",
        "      inputs, targets = x, y\n",
        "      if(train_on_gpu):\n",
        "          inputs, targets = inputs.cuda(), targets.cuda()\n",
        "\n",
        "      output, val_h = net(inputs, val_h)\n",
        "      val_loss = criterion(output, targets.view(batch_size*seq_length).long())\n",
        "\n",
        "      val_losses.append(val_loss.item())\n",
        "\n",
        "  net.train() # reset to train mode after iterationg through validation data\n",
        "\n",
        "  print(\"Epoch: {}/{}...\".format(e+1, epochs),\n",
        "        \"Step: {}...\".format(counter),\n",
        "        \"Loss: {:.4f}...\".format(loss.item()),\n",
        "        \"Val Loss: {:.4f}\".format(np.mean(val_losses)))"
      ],
      "execution_count": null,
      "outputs": []
    },
    {
      "cell_type": "markdown",
      "metadata": {
        "id": "h-o4zcalthqw"
      },
      "source": [
        "## 4.3. Instantiate the network"
      ]
    },
    {
      "cell_type": "code",
      "metadata": {
        "colab": {
          "base_uri": "https://localhost:8080/",
          "height": 102
        },
        "id": "d0qPmnPBbzXS",
        "outputId": "5ba80064-efbc-4834-b1bb-e076532ee4f8"
      },
      "source": [
        "# define and print the net\n",
        "n_hidden=512\n",
        "n_layers=2\n",
        "\n",
        "net = CharRNN(chars, n_hidden, n_layers)\n",
        "print(net)"
      ],
      "execution_count": null,
      "outputs": [
        {
          "output_type": "stream",
          "text": [
            "CharRNN(\n",
            "  (lstm): LSTM(127, 512, num_layers=2, batch_first=True, dropout=0.5)\n",
            "  (dropout): Dropout(p=0.5)\n",
            "  (fc): Linear(in_features=512, out_features=127, bias=True)\n",
            ")\n"
          ],
          "name": "stdout"
        }
      ]
    },
    {
      "cell_type": "code",
      "metadata": {
        "colab": {
          "base_uri": "https://localhost:8080/",
          "height": 918
        },
        "id": "-jNJhDt5tmND",
        "outputId": "604c1ba4-20bf-4f0b-8f88-710345b7d14a"
      },
      "source": [
        "batch_size = 64\n",
        "seq_length = 64\n",
        "n_epochs = 2 # start smaller if you are just testing initial behavior\n",
        "encoded = np.array([net.char2int[ch] for ch in text])\n",
        "\n",
        "# train the model\n",
        "train(net, encoded, epochs=n_epochs, batch_size=batch_size, seq_length=seq_length, lr=0.001, print_every=10)"
      ],
      "execution_count": null,
      "outputs": [
        {
          "output_type": "stream",
          "text": [
            "Epoch: 1/2... Step: 10... Loss: 3.4181... Val Loss: 3.3141\n",
            "Epoch: 1/2... Step: 20... Loss: 3.3590... Val Loss: 3.2516\n",
            "Epoch: 1/2... Step: 30... Loss: 3.2768... Val Loss: 3.2388\n",
            "Epoch: 1/2... Step: 40... Loss: 3.2683... Val Loss: 3.2386\n",
            "Epoch: 1/2... Step: 50... Loss: 3.2602... Val Loss: 3.2348\n",
            "Epoch: 1/2... Step: 60... Loss: 3.2523... Val Loss: 3.2340\n",
            "Epoch: 1/2... Step: 70... Loss: 3.2816... Val Loss: 3.2321\n",
            "Epoch: 1/2... Step: 80... Loss: 3.3397... Val Loss: 3.2282\n",
            "Epoch: 1/2... Step: 90... Loss: 3.2199... Val Loss: 3.2212\n",
            "Epoch: 1/2... Step: 100... Loss: 3.2861... Val Loss: 3.1993\n",
            "Epoch: 1/2... Step: 110... Loss: 3.1949... Val Loss: 3.1707\n",
            "Epoch: 1/2... Step: 120... Loss: 3.1606... Val Loss: 3.1106\n",
            "Epoch: 1/2... Step: 130... Loss: 3.0554... Val Loss: 3.0130\n",
            "Epoch: 1/2... Step: 140... Loss: 2.9939... Val Loss: 2.9477\n",
            "Epoch: 1/2... Step: 150... Loss: 2.9598... Val Loss: 2.8377\n",
            "Epoch: 1/2... Step: 160... Loss: 2.8123... Val Loss: 2.7311\n",
            "Epoch: 1/2... Step: 170... Loss: 2.7622... Val Loss: 2.6412\n",
            "Epoch: 1/2... Step: 180... Loss: 2.6059... Val Loss: 2.5932\n",
            "Epoch: 1/2... Step: 190... Loss: 2.5716... Val Loss: 2.5322\n",
            "Epoch: 1/2... Step: 200... Loss: 2.5707... Val Loss: 2.4970\n",
            "Epoch: 1/2... Step: 210... Loss: 2.5434... Val Loss: 2.4518\n",
            "Epoch: 1/2... Step: 220... Loss: 2.5131... Val Loss: 2.4099\n",
            "Epoch: 1/2... Step: 230... Loss: 2.5138... Val Loss: 2.3833\n",
            "Epoch: 1/2... Step: 240... Loss: 2.5105... Val Loss: 2.3569\n",
            "Epoch: 1/2... Step: 250... Loss: 2.4193... Val Loss: 2.3457\n",
            "Epoch: 1/2... Step: 260... Loss: 2.3780... Val Loss: 2.3198\n",
            "Epoch: 2/2... Step: 270... Loss: 2.3619... Val Loss: 2.3005\n",
            "Epoch: 2/2... Step: 280... Loss: 2.3813... Val Loss: 2.2824\n",
            "Epoch: 2/2... Step: 290... Loss: 2.3946... Val Loss: 2.2634\n",
            "Epoch: 2/2... Step: 300... Loss: 2.3335... Val Loss: 2.2522\n",
            "Epoch: 2/2... Step: 310... Loss: 2.3351... Val Loss: 2.2376\n",
            "Epoch: 2/2... Step: 320... Loss: 2.3330... Val Loss: 2.2229\n",
            "Epoch: 2/2... Step: 330... Loss: 2.3054... Val Loss: 2.2138\n",
            "Epoch: 2/2... Step: 340... Loss: 2.2789... Val Loss: 2.2044\n",
            "Epoch: 2/2... Step: 350... Loss: 2.2769... Val Loss: 2.1931\n",
            "Epoch: 2/2... Step: 360... Loss: 2.2726... Val Loss: 2.1773\n",
            "Epoch: 2/2... Step: 370... Loss: 2.2323... Val Loss: 2.1686\n",
            "Epoch: 2/2... Step: 380... Loss: 2.2458... Val Loss: 2.1570\n",
            "Epoch: 2/2... Step: 390... Loss: 2.2169... Val Loss: 2.1487\n",
            "Epoch: 2/2... Step: 400... Loss: 2.2475... Val Loss: 2.1386\n",
            "Epoch: 2/2... Step: 410... Loss: 2.1781... Val Loss: 2.1285\n",
            "Epoch: 2/2... Step: 420... Loss: 2.2222... Val Loss: 2.1182\n",
            "Epoch: 2/2... Step: 430... Loss: 2.2070... Val Loss: 2.1121\n",
            "Epoch: 2/2... Step: 440... Loss: 2.1891... Val Loss: 2.1053\n",
            "Epoch: 2/2... Step: 450... Loss: 2.1961... Val Loss: 2.0965\n",
            "Epoch: 2/2... Step: 460... Loss: 2.1663... Val Loss: 2.0897\n",
            "Epoch: 2/2... Step: 470... Loss: 2.1282... Val Loss: 2.0847\n",
            "Epoch: 2/2... Step: 480... Loss: 2.1856... Val Loss: 2.0762\n",
            "Epoch: 2/2... Step: 490... Loss: 2.2010... Val Loss: 2.0714\n",
            "Epoch: 2/2... Step: 500... Loss: 2.1661... Val Loss: 2.0648\n",
            "Epoch: 2/2... Step: 510... Loss: 2.1494... Val Loss: 2.0584\n",
            "Epoch: 2/2... Step: 520... Loss: 2.1358... Val Loss: 2.0521\n",
            "Epoch: 2/2... Step: 530... Loss: 2.1639... Val Loss: 2.0471\n"
          ],
          "name": "stdout"
        }
      ]
    },
    {
      "cell_type": "code",
      "metadata": {
        "id": "2LIk3kaStzBG"
      },
      "source": [
        "def predict(rnn, char, h=None, top_k=None):\n",
        "  ''' Given a character, predict the next character.\n",
        "      Returns the precited character and the hidden state.\n",
        "  '''\n",
        "  \n",
        "  # tensor inputs\n",
        "  x = np.array([[rnn.char2int[char]]])\n",
        "  x = one_hot_encode(x, len(rnn.chars))\n",
        "  inputs = torch.from_numpy(x)\n",
        "  \n",
        "  if(train_on_gpu):\n",
        "    inputs  = inputs.cuda()\n",
        "  \n",
        "  # detach hidden state from history\n",
        "  h = tuple([each.data for each in h])\n",
        "  # get the output of the model\n",
        "  out, h = net(inputs, h)\n",
        "  \n",
        "  # get the character probabilities\n",
        "  p = F.softmax(out, dim=1).data\n",
        "  if(train_on_gpu):\n",
        "    p = p.cpu() # move to cpu\n",
        "  \n",
        "  # get top characters\n",
        "  if top_k is None:\n",
        "    top_ch = np.arange(len(net.chars))\n",
        "  else:\n",
        "    p, top_ch = p.topk(top_k) # topk gets top likely next characters\n",
        "    top_ch = top_ch.numpy().squeeze()\n",
        "    \n",
        "  # select the likely next character with some element of randomness\n",
        "  p = p.numpy().squeeze()\n",
        "  char = np.random.choice(top_ch, p=p/p.sum())\n",
        "  \n",
        "  # return the encoded value of the predicted char and the hidden state\n",
        "  return net.int2char[char], h"
      ],
      "execution_count": null,
      "outputs": []
    },
    {
      "cell_type": "code",
      "metadata": {
        "id": "HSxSszzjE5UK"
      },
      "source": [
        "def sample(net, size, prime='байна', top_k=None):\n",
        "  \n",
        "  if(train_on_gpu):\n",
        "    net.cuda()\n",
        "  else:\n",
        "    net.cpu()\n",
        "    \n",
        "  net.eval() # eval mode\n",
        "  \n",
        "  # First off, run through the prime characters\n",
        "  chars = [ch for ch in prime]\n",
        "  h = net.init_hidden(1)\n",
        "  for ch in prime:\n",
        "    char, h = predict(net, ch, h, top_k=top_k)\n",
        "    \n",
        "  chars.append(char)\n",
        "  \n",
        "  # Now pass in the previous character and get a new one\n",
        "  for ii in range(size):\n",
        "    char, h = predict(net, chars[-1], h, top_k=top_k)\n",
        "    chars.append(char)\n",
        "    \n",
        "  return ''.join(chars)\n"
      ],
      "execution_count": null,
      "outputs": []
    },
    {
      "cell_type": "code",
      "metadata": {
        "colab": {
          "base_uri": "https://localhost:8080/",
          "height": 51
        },
        "id": "EMvFQuxaGcnD",
        "outputId": "960e4909-0f1e-4a8c-a376-4be2bd4f5d83"
      },
      "source": [
        "print(sample(net, 100, \"өгүүллэг\"))"
      ],
      "execution_count": null,
      "outputs": [
        {
          "output_type": "stream",
          "text": [
            "өгүүллэгсэн түүнээт - Тэгээ! Тадан ергөхөт сондой холмой тээ? амга өлөөс ч чимь\n",
            "чана. Ачиж шолтой сууг нь уул\n"
          ],
          "name": "stdout"
        }
      ]
    },
    {
      "cell_type": "code",
      "metadata": {
        "id": "57ZnWmbSHHx5"
      },
      "source": [
        ""
      ],
      "execution_count": null,
      "outputs": []
    }
  ]
}
